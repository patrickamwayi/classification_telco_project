{
 "cells": [
  {
   "cell_type": "markdown",
   "id": "9d01e43b",
   "metadata": {},
   "source": [
    "## Telco Churn Classification Project\n",
    "\n",
    "## Reduce Customer Churn\n",
    "<hr style=\"border-top: 50px groove blue; margin-top: 1px; margin-bottom: 1px\"></hr>\n",
    "\n",
    "### Project Goals\n",
    "- The main goal of this project is identify drivers of customer churn.\n",
    "- Build machine learning model that can predict and identify customers that are like to churn.\n",
    "- Deliver a report on recommendations for reducing customer churn.\n",
    "\n",
    "#### Project Description\n",
    "- Telco is a leading communications company offering great services to its customers.\n",
    "- Customers are churning at a high rate affecting the company's performance.\n",
    "- We will therefore identify drivers of customer churn and look at features with highest and low churn rate.\n",
    "- We will use machine learning prediction models and demographics and offer recommendations for customer retention.\n",
    "\n",
    "#### Initial Questions\n",
    "- What is the churn rate for Telco?\n",
    "- What demographic has the highest churn rate?\n",
    "- What are the features with the highest churn rate?\n",
    "- What are the features with the lowest churn rate?\n",
    "\n"
   ]
  },
  {
   "cell_type": "markdown",
   "id": "d61fce2a",
   "metadata": {},
   "source": [
    "## Standard imports"
   ]
  },
  {
   "cell_type": "code",
   "execution_count": 92,
   "id": "bc69b2c3",
   "metadata": {},
   "outputs": [],
   "source": [
    "import numpy as np\n",
    "import pandas as pd\n",
    "from io import StringIO\n",
    "import warnings\n",
    "warnings.filterwarnings('ignore')\n",
    "\n",
    "import acquire\n",
    "import prepare\n",
    "# grab Decision Tree Classifier and some helping friends from sklearn.tree\n",
    "from sklearn.tree import DecisionTreeClassifier, plot_tree, export_text\n",
    "# get classification report for model assessment\n",
    "from sklearn.metrics import classification_report\n",
    "import sklearn\n",
    "from sklearn.ensemble import RandomForestClassifier\n",
    "from sklearn.neighbors import KNeighborsClassifier\n",
    "from sklearn.linear_model import LogisticRegression\n",
    "from sklearn.metrics import classification_report, confusion_matrix, plot_confusion_matrix,ConfusionMatrixDisplay\n",
    "\n",
    "# scipy stats for our subversions\n",
    "from scipy import stats\n",
    "\n",
    "# visualize\n",
    "import matplotlib.pyplot as plt\n",
    "import seaborn as sns\n",
    "plt.rc('figure', figsize=(8, 6))\n",
    "plt.rc('font', size=13)\n"
   ]
  },
  {
   "cell_type": "markdown",
   "id": "da304f5f",
   "metadata": {},
   "source": [
    "## I. Data Acquisition\n",
    "<hr style=\"border-top: 50px groove blue; margin-top: 1px; margin-bottom: 1px\"></hr>\n",
    "- I acquired my telco data using df acquire.get_telco_data"
   ]
  },
  {
   "cell_type": "code",
   "execution_count": 20,
   "id": "d9895e9e",
   "metadata": {},
   "outputs": [],
   "source": [
    "\n",
    "df = acquire.get_telco_data()\n"
   ]
  },
  {
   "cell_type": "markdown",
   "id": "18362d3a",
   "metadata": {},
   "source": [
    "## II. Data Cleaning & Preparation"
   ]
  },
  {
   "cell_type": "markdown",
   "id": "56cc5aaf",
   "metadata": {},
   "source": [
    "- I cleaned my data by getting rid of spaces, null values and special characters."
   ]
  },
  {
   "cell_type": "code",
   "execution_count": 21,
   "id": "f70c1539",
   "metadata": {},
   "outputs": [],
   "source": [
    "df = prepare.prep_telco(df)"
   ]
  },
  {
   "cell_type": "markdown",
   "id": "f404546d",
   "metadata": {},
   "source": [
    "- After cleaning my dataframe I encoded features of interest and dropped redudant collumns with missing and unusual values to get my train, test, validate numbers.\n",
    "- At this point, I split data into train, validate and test datasets.\n",
    "- The data is now ready for exploration and modeling."
   ]
  },
  {
   "cell_type": "code",
   "execution_count": 24,
   "id": "83c5845a",
   "metadata": {
    "scrolled": false
   },
   "outputs": [
    {
     "name": "stdout",
     "output_type": "stream",
     "text": [
      "(4225, 34) (1409, 34) (1409, 34)\n",
      "                                        count         mean          std  \\\n",
      "payment_type_id                        4225.0     2.319053     1.151612   \n",
      "internet_service_type_id               4225.0     1.875976     0.738711   \n",
      "contract_type_id                       4225.0     1.687101     0.828349   \n",
      "senior_citizen                         4225.0     0.161893     0.368397   \n",
      "tenure                                 4225.0    32.500828    24.532563   \n",
      "monthly_charges                        4225.0    65.056142    30.268493   \n",
      "total_charges                          4225.0  2298.513598  2271.603284   \n",
      "gender_encoded                         4225.0     0.508639     0.499985   \n",
      "partner_encoded                        4225.0     0.488521     0.499927   \n",
      "dependents_encoded                     4225.0     0.306272     0.460999   \n",
      "phone_service_encoded                  4225.0     0.906982     0.290492   \n",
      "paperless_billing_encoded              4225.0     0.593846     0.491172   \n",
      "churn_encoded                          4225.0     0.265325     0.441559   \n",
      "multiple_lines_No phone service        4225.0     0.093018     0.290492   \n",
      "multiple_lines_Yes                     4225.0     0.427692     0.494803   \n",
      "online_security_No internet service    4225.0     0.218462     0.413251   \n",
      "online_security_Yes                    4225.0     0.291598     0.454552   \n",
      "online_backup_No internet service      4225.0     0.218462     0.413251   \n",
      "online_backup_Yes                      4225.0     0.350059     0.477045   \n",
      "device_protection_No internet service  4225.0     0.218462     0.413251   \n",
      "device_protection_Yes                  4225.0     0.351006     0.477341   \n",
      "tech_support_No internet service       4225.0     0.218462     0.413251   \n",
      "tech_support_Yes                       4225.0     0.289467     0.453569   \n",
      "streaming_tv_No internet service       4225.0     0.218462     0.413251   \n",
      "streaming_tv_Yes                       4225.0     0.392189     0.488296   \n",
      "streaming_movies_No internet service   4225.0     0.218462     0.413251   \n",
      "streaming_movies_Yes                   4225.0     0.395503     0.489016   \n",
      "contract_type_One year                 4225.0     0.216095     0.411628   \n",
      "contract_type_Two year                 4225.0     0.235503     0.424363   \n",
      "internet_service_type_Fiber optic      4225.0     0.439053     0.496330   \n",
      "internet_service_type_None             4225.0     0.218462     0.413251   \n",
      "payment_type_Credit card (automatic)   4225.0     0.217515     0.412604   \n",
      "payment_type_Electronic check          4225.0     0.336805     0.472673   \n",
      "payment_type_Mailed check              4225.0     0.224852     0.417534   \n",
      "\n",
      "                                         min     25%      50%      75%  \\\n",
      "payment_type_id                         1.00    1.00     2.00     3.00   \n",
      "internet_service_type_id                1.00    1.00     2.00     2.00   \n",
      "contract_type_id                        1.00    1.00     1.00     2.00   \n",
      "senior_citizen                          0.00    0.00     0.00     0.00   \n",
      "tenure                                  0.00    9.00    29.00    55.00   \n",
      "monthly_charges                        18.25   35.65    70.40    90.15   \n",
      "total_charges                           0.00  411.60  1401.15  3865.45   \n",
      "gender_encoded                          0.00    0.00     1.00     1.00   \n",
      "partner_encoded                         0.00    0.00     0.00     1.00   \n",
      "dependents_encoded                      0.00    0.00     0.00     1.00   \n",
      "phone_service_encoded                   0.00    1.00     1.00     1.00   \n",
      "paperless_billing_encoded               0.00    0.00     1.00     1.00   \n",
      "churn_encoded                           0.00    0.00     0.00     1.00   \n",
      "multiple_lines_No phone service         0.00    0.00     0.00     0.00   \n",
      "multiple_lines_Yes                      0.00    0.00     0.00     1.00   \n",
      "online_security_No internet service     0.00    0.00     0.00     0.00   \n",
      "online_security_Yes                     0.00    0.00     0.00     1.00   \n",
      "online_backup_No internet service       0.00    0.00     0.00     0.00   \n",
      "online_backup_Yes                       0.00    0.00     0.00     1.00   \n",
      "device_protection_No internet service   0.00    0.00     0.00     0.00   \n",
      "device_protection_Yes                   0.00    0.00     0.00     1.00   \n",
      "tech_support_No internet service        0.00    0.00     0.00     0.00   \n",
      "tech_support_Yes                        0.00    0.00     0.00     1.00   \n",
      "streaming_tv_No internet service        0.00    0.00     0.00     0.00   \n",
      "streaming_tv_Yes                        0.00    0.00     0.00     1.00   \n",
      "streaming_movies_No internet service    0.00    0.00     0.00     0.00   \n",
      "streaming_movies_Yes                    0.00    0.00     0.00     1.00   \n",
      "contract_type_One year                  0.00    0.00     0.00     0.00   \n",
      "contract_type_Two year                  0.00    0.00     0.00     0.00   \n",
      "internet_service_type_Fiber optic       0.00    0.00     0.00     1.00   \n",
      "internet_service_type_None              0.00    0.00     0.00     0.00   \n",
      "payment_type_Credit card (automatic)    0.00    0.00     0.00     0.00   \n",
      "payment_type_Electronic check           0.00    0.00     0.00     1.00   \n",
      "payment_type_Mailed check               0.00    0.00     0.00     0.00   \n",
      "\n",
      "                                           max  \n",
      "payment_type_id                           4.00  \n",
      "internet_service_type_id                  3.00  \n",
      "contract_type_id                          3.00  \n",
      "senior_citizen                            1.00  \n",
      "tenure                                   72.00  \n",
      "monthly_charges                         118.75  \n",
      "total_charges                          8672.45  \n",
      "gender_encoded                            1.00  \n",
      "partner_encoded                           1.00  \n",
      "dependents_encoded                        1.00  \n",
      "phone_service_encoded                     1.00  \n",
      "paperless_billing_encoded                 1.00  \n",
      "churn_encoded                             1.00  \n",
      "multiple_lines_No phone service           1.00  \n",
      "multiple_lines_Yes                        1.00  \n",
      "online_security_No internet service       1.00  \n",
      "online_security_Yes                       1.00  \n",
      "online_backup_No internet service         1.00  \n",
      "online_backup_Yes                         1.00  \n",
      "device_protection_No internet service     1.00  \n",
      "device_protection_Yes                     1.00  \n",
      "tech_support_No internet service          1.00  \n",
      "tech_support_Yes                          1.00  \n",
      "streaming_tv_No internet service          1.00  \n",
      "streaming_tv_Yes                          1.00  \n",
      "streaming_movies_No internet service      1.00  \n",
      "streaming_movies_Yes                      1.00  \n",
      "contract_type_One year                    1.00  \n",
      "contract_type_Two year                    1.00  \n",
      "internet_service_type_Fiber optic         1.00  \n",
      "internet_service_type_None                1.00  \n",
      "payment_type_Credit card (automatic)      1.00  \n",
      "payment_type_Electronic check             1.00  \n",
      "payment_type_Mailed check                 1.00  \n"
     ]
    }
   ],
   "source": [
    "telco_train, telco_validate, telco_test = prepare.my_train_test_split(df,\"churn_encoded\")\n",
    "print(telco_train.shape, telco_validate.shape, telco_test.shape)\n",
    "print(telco_train.describe().T)"
   ]
  },
  {
   "cell_type": "markdown",
   "id": "6e15017d",
   "metadata": {},
   "source": [
    "## III. Data Exploration\n",
    "<hr style=\"border-top: 50px groove blue; margin-top: 1px; margin-bottom: 1px\"></hr>\n"
   ]
  },
  {
   "cell_type": "markdown",
   "id": "4792477c",
   "metadata": {},
   "source": [
    "### After preparing the data, we now explore the data in order to identify the drivers of churn by using train dataset.\n",
    "### 1. From the chart below:\n",
    "- We will first of all visualize the overal churn distribution on a pie chart\n",
    "- In this chart, we see that a bigger percentage of customers have not churned while only small percentage have charned."
   ]
  },
  {
   "cell_type": "code",
   "execution_count": 26,
   "id": "d049d441",
   "metadata": {},
   "outputs": [
    {
     "name": "stdout",
     "output_type": "stream",
     "text": [
      "Churn percentage 26.529999999999998%\n"
     ]
    }
   ],
   "source": [
    "print(f'Churn percentage {round(telco_train.churn_encoded.mean(),4)*100}%')"
   ]
  },
  {
   "cell_type": "code",
   "execution_count": 27,
   "id": "4de45641",
   "metadata": {},
   "outputs": [
    {
     "data": {
      "image/png": "[encoded data removed]",
      "text/plain": [
       "<Figure size 576x432 with 1 Axes>"
      ]
     },
     "metadata": {},
     "output_type": "display_data"
    }
   ],
   "source": [
    "y = telco_train.churn_encoded.value_counts()\n",
    "plt.pie(y,labels=['No Churn','Churn'] ,explode= [0,0.2], autopct='%.2f%%')\n",
    "plt.show()"
   ]
  },
  {
   "cell_type": "markdown",
   "id": "5718c3a7",
   "metadata": {},
   "source": [
    "### 2. From the distribution below:\n",
    "- We can see here that a large number of customers that churn have a month to month contract.\n",
    "- We can also see that the longer the contract the lesser the customers churn."
   ]
  },
  {
   "cell_type": "code",
   "execution_count": 61,
   "id": "1974636e",
   "metadata": {},
   "outputs": [
    {
     "data": {
      "image/png": "[encoded data removed]",
      "text/plain": [
       "<Figure size 576x432 with 1 Axes>"
      ]
     },
     "metadata": {
      "needs_background": "light"
     },
     "output_type": "display_data"
    }
   ],
   "source": [
    "plt.title(\"Relationship between contract type id & Customer Churn\")\n",
    "sns.barplot(x=\"contract_type_id\", y=\"churn_encoded\", data=telco_train)\n",
    "churn_encoded_rate = telco_train.churn_encoded.mean()\n",
    "plt.axhline(churn_encoded_rate, color=\"r\", label = \"Churn rate\")\n",
    "plt.xlabel('Month to month     One year     Two year contract type')\n",
    "plt.legend()\n",
    "plt.show()"
   ]
  },
  {
   "cell_type": "markdown",
   "id": "19e6b175",
   "metadata": {},
   "source": [
    "### 3. From the distribution below:\n",
    "- We can see here that not senior citizen have the highest churn rate.\n",
    "- The higher the tenure the hire the churn among not senior_citizen, they are dependent."
   ]
  },
  {
   "cell_type": "code",
   "execution_count": 70,
   "id": "267a2c99",
   "metadata": {},
   "outputs": [
    {
     "data": {
      "image/png": "[encoded data removed]",
      "text/plain": [
       "<Figure size 576x432 with 1 Axes>"
      ]
     },
     "metadata": {
      "needs_background": "light"
     },
     "output_type": "display_data"
    }
   ],
   "source": [
    "df[\"senior_citizen\"].replace({0:\"senior_citizen\",1:\"not_senior_citizen\"},inplace=True)\n",
    "df[\"churn_encoded\"].replace({0:\"NO\", 1:\"YES\"}, inplace=True)\n",
    "sns.barplot(data=df, x=df.senior_citizen,y=df.tenure,hue=df.churn_encoded)\n",
    "plt.title('How does senior citizen correlate to tenure?')\n",
    "plt.show()"
   ]
  },
  {
   "cell_type": "markdown",
   "id": "a5b98e5c",
   "metadata": {},
   "source": [
    "### Statistical test senior citizen vs tenure"
   ]
  },
  {
   "cell_type": "code",
   "execution_count": 106,
   "id": "4e7e8b61",
   "metadata": {},
   "outputs": [
    {
     "name": "stdout",
     "output_type": "stream",
     "text": [
      "fail to reject the null hypothesis and posit senior citizen and tenure are independent\n"
     ]
    }
   ],
   "source": [
    "alpha = 0.05\n",
    "null_hyp = 'senior citizen and tenure are independent'\n",
    "alt_hyp = 'senior citizen and tenure rate are dependent'\n",
    "observed = pd.crosstab(telco_train.tenure, telco_train.senior_citizen)\n",
    "chi2, p, degf, expected = stats.chi2_contingency(observed)\n",
    "if p < alpha:\n",
    "    print('reject the null hypothesis that and posit', alt_hyp)\n",
    "else:\n",
    "    print('fail to reject the null hypothesis and posit', null_hyp)\n"
   ]
  },
  {
   "cell_type": "markdown",
   "id": "0a2565d5",
   "metadata": {},
   "source": [
    "<hr style=\"border-bottom: 10px groove blue; margin-top: 1px; margin-bottom: 1px\"></hr>\n"
   ]
  },
  {
   "cell_type": "markdown",
   "id": "8a89ab81",
   "metadata": {},
   "source": [
    "### I did not use all the features because in order to get a better analysis I needed to test features that had strong positive and negative correlation on customers' churn and retention.\n",
    "### We now identify features with the highest churn\n",
    " - Positive Correlation"
   ]
  },
  {
   "cell_type": "markdown",
   "id": "a0c69f29",
   "metadata": {},
   "source": [
    "### Hypothesis\n",
    "\n",
    "### alpha = 0.05\n",
    "        \n",
    "### HO: There is no relation between column features and churn rate\n",
    "    (column features and churn rate are independent)\n",
    "    (We fail to reject the H0 (that column feature and churn rate are independent))\n",
    "     \n",
    "### H⍺: There is a relation between column features and churn rate \n",
    "    (collumn features and churn are dependent)\n",
    "    (We reject the H0 (that column feature and churn rate are independent))"
   ]
  },
  {
   "cell_type": "markdown",
   "id": "04714268",
   "metadata": {},
   "source": [
    "### 1. Is there a relation between internet_service_type_id and customers churn?"
   ]
  },
  {
   "cell_type": "code",
   "execution_count": 62,
   "id": "09fb399c",
   "metadata": {},
   "outputs": [
    {
     "data": {
      "image/png": "[encoded data removed]",
      "text/plain": [
       "<Figure size 576x432 with 1 Axes>"
      ]
     },
     "metadata": {
      "needs_background": "light"
     },
     "output_type": "display_data"
    }
   ],
   "source": [
    "plt.title(\"Relationship between internet service type fiber optic & Customer Churn\")\n",
    "sns.barplot(x=\"internet_service_type_Fiber optic\", y=\"churn_encoded\", data=telco_train)\n",
    "population_churn_rate = telco_train.churn_encoded.mean()\n",
    "plt.axhline(population_churn_rate, color=\"r\",label=\"Churn rate\")\n",
    "plt.legend()\n",
    "plt.show()"
   ]
  },
  {
   "cell_type": "markdown",
   "id": "20acf083",
   "metadata": {},
   "source": [
    " - There is a relationship between internet_type_fiber_optic and churn rate\n",
    " - Reject H0 that internet_type_fiber_optic and churn rate are independent\n"
   ]
  },
  {
   "cell_type": "markdown",
   "id": "7efa83f8",
   "metadata": {},
   "source": [
    "### 2. Is there a relation between gender and customers churn?"
   ]
  },
  {
   "cell_type": "code",
   "execution_count": 66,
   "id": "8465c6a6",
   "metadata": {},
   "outputs": [
    {
     "data": {
      "image/png": "[encoded data removed]",
      "text/plain": [
       "<Figure size 576x432 with 1 Axes>"
      ]
     },
     "metadata": {
      "needs_background": "light"
     },
     "output_type": "display_data"
    }
   ],
   "source": [
    "plt.title(\"Relationship between gender & Customer Churn\")\n",
    "sns.barplot(x=\"gender_encoded\", y=\"churn_encoded\", data=telco_train)\n",
    "population_churn_rate = telco_train.churn_encoded.mean()\n",
    "plt.axhline(population_churn_rate, color=\"r\", label=\"Churn rate\")\n",
    "plt.legend()\n",
    "plt.show()"
   ]
  },
  {
   "cell_type": "markdown",
   "id": "72d2de9a",
   "metadata": {},
   "source": [
    "### Statistical test gender vs churn"
   ]
  },
  {
   "cell_type": "code",
   "execution_count": 88,
   "id": "e6d885e2",
   "metadata": {},
   "outputs": [
    {
     "name": "stdout",
     "output_type": "stream",
     "text": [
      "fail to reject the null hypothesis and posit gender_encoded and churn rate are independent\n"
     ]
    }
   ],
   "source": [
    "alpha = 0.05\n",
    "null_hyp = 'gender_encoded and churn rate are independent'\n",
    "alt_hyp = 'gender_encoded and churn rate are dependent'\n",
    "observed = pd.crosstab(telco_train.churn_encoded, telco_train.gender_encoded)\n",
    "chi2, p, degf, expected = stats.chi2_contingency(observed)\n",
    "if p < alpha:\n",
    "    print('reject the null hypothesis that and posit', alt_hyp)\n",
    "else:\n",
    "    print('fail to reject the null hypothesis and posit', null_hyp)\n"
   ]
  },
  {
   "cell_type": "markdown",
   "id": "2181f9ea",
   "metadata": {},
   "source": [
    " - There is no relationship between gender and churn rate\n",
    " - We fail to reject the null hypothesis that gender and churn rate are independent\n"
   ]
  },
  {
   "cell_type": "markdown",
   "id": "7327ffa7",
   "metadata": {},
   "source": [
    "### 3. Is there a relation between streaming tv and churn?"
   ]
  },
  {
   "cell_type": "code",
   "execution_count": 64,
   "id": "b4b4cb0a",
   "metadata": {},
   "outputs": [
    {
     "data": {
      "image/png": "[encoded data removed]",
      "text/plain": [
       "<Figure size 576x432 with 1 Axes>"
      ]
     },
     "metadata": {
      "needs_background": "light"
     },
     "output_type": "display_data"
    }
   ],
   "source": [
    "plt.title(\"Relationship between streaming tv No internet service  & Customer Churn\")\n",
    "sns.barplot(x=\"streaming_tv_No internet service\", y=\"churn_encoded\", data=telco_train)\n",
    "population_churn_rate = telco_train.churn_encoded.mean()\n",
    "plt.axhline(population_churn_rate, color=\"r\", label=\"Churn rate\")\n",
    "plt.legend()\n",
    "plt.show()"
   ]
  },
  {
   "cell_type": "markdown",
   "id": "04c452d1",
   "metadata": {},
   "source": [
    " - There is a relationship between streaming_tv_no and churn rate\n",
    " - Reject the null hypothesis that streaming_tv_no and churn rate are independent\n"
   ]
  },
  {
   "cell_type": "markdown",
   "id": "c0f96232",
   "metadata": {},
   "source": [
    "### We now identify features with the lowest churn\n",
    "- Negative Correlation\n",
    "<hr style=\"border-top: 10px groove blue; margin-top: 1px; margin-bottom: 1px\"></hr>"
   ]
  },
  {
   "cell_type": "markdown",
   "id": "27415621",
   "metadata": {},
   "source": [
    "### 1. Is there a relation between online security No internet service and churn?"
   ]
  },
  {
   "cell_type": "code",
   "execution_count": 67,
   "id": "e391695f",
   "metadata": {},
   "outputs": [
    {
     "data": {
      "image/png": "[encoded data removed]",
      "text/plain": [
       "<Figure size 576x432 with 1 Axes>"
      ]
     },
     "metadata": {
      "needs_background": "light"
     },
     "output_type": "display_data"
    }
   ],
   "source": [
    "plt.title(\"Relationship between online security No internet service   & Customer Churn\")\n",
    "sns.barplot(x=\"online_security_No internet service\", y=\"churn_encoded\", data=telco_train)\n",
    "population_churn_rate = telco_train.churn_encoded.mean()\n",
    "plt.axhline(population_churn_rate, color=\"r\", label=\"Churn rate\")\n",
    "plt.legend()\n",
    "plt.show()"
   ]
  },
  {
   "cell_type": "markdown",
   "id": "8666f04b",
   "metadata": {},
   "source": [
    " - There is a relationship between online_security No internet service & churn rate\n",
    " - Reject the null hypothesis that online_security_No internet service and churn rate are independent\n"
   ]
  },
  {
   "cell_type": "markdown",
   "id": "4d8ca438",
   "metadata": {},
   "source": [
    "### 2.  Is there a relation between contract type One year and customers churning?"
   ]
  },
  {
   "cell_type": "code",
   "execution_count": 68,
   "id": "deec38c5",
   "metadata": {},
   "outputs": [
    {
     "data": {
      "image/png": "[encoded data removed]",
      "text/plain": [
       "<Figure size 576x432 with 1 Axes>"
      ]
     },
     "metadata": {
      "needs_background": "light"
     },
     "output_type": "display_data"
    }
   ],
   "source": [
    "plt.title(\"Relationship between contract_type One year   & Customer Churn\")\n",
    "sns.barplot(x=\"contract_type_One year\", y=\"churn_encoded\", data=telco_train)\n",
    "population_churn_rate = telco_train.churn_encoded.mean()\n",
    "plt.axhline(population_churn_rate, color=\"r\", label=\"Churn rate\")\n",
    "plt.legend()\n",
    "plt.show()"
   ]
  },
  {
   "cell_type": "markdown",
   "id": "0bc24c98",
   "metadata": {},
   "source": [
    " - There is a relationship between contract_type_one_year churn rate\n",
    " - Reject the null hypothesis that contract_type_one_year and churn rate are independent\n"
   ]
  },
  {
   "cell_type": "markdown",
   "id": "b8601489",
   "metadata": {},
   "source": [
    "## IV. Model Data & Evaluation\n",
    "<hr style=\"border-top: 50px groove blue; margin-top: 1px; margin-bottom: 1px\"></hr>\n"
   ]
  },
  {
   "cell_type": "markdown",
   "id": "d2b61762",
   "metadata": {},
   "source": [
    "### After we have identified the drivers of churn, we will now create machine learning models that will help us identify and prevent customers that are likely to churn.\n",
    "\n",
    "### I used three different models:\n",
    "### 1. Decision tree model\n",
    "### 2. Random Forest\n",
    "### 3. K nearest neighbors model\n",
    "\n",
    "### We will  established a baseline model which predicts that customers with a percentage rate of 73 do not churn.\n",
    "### We use this model as a simple means of establishing whether other models can provide better results than the baseline."
   ]
  },
  {
   "cell_type": "markdown",
   "id": "9b3a1f9c",
   "metadata": {},
   "source": [
    "### Establish a Baseline\n",
    "<hr style=\"border-top: 10px groove blue; margin-top: 1px; margin-bottom: 1px\"></hr>"
   ]
  },
  {
   "cell_type": "code",
   "execution_count": 71,
   "id": "12610f3a",
   "metadata": {},
   "outputs": [
    {
     "name": "stdout",
     "output_type": "stream",
     "text": [
      "The churn baseline is: 0.7346745562130178\n"
     ]
    }
   ],
   "source": [
    "telco_baseline = (y_telco_train == 0).mean()\n",
    "print('The churn baseline is:', telco_baseline)"
   ]
  },
  {
   "cell_type": "markdown",
   "id": "c2b56f08",
   "metadata": {},
   "source": [
    "- The baseline model is the mode of target varible that did not churn.\n",
    "- Our baseline model will always be predicting that a customer does not churn at an accuracy level of 73%."
   ]
  },
  {
   "cell_type": "markdown",
   "id": "79a0783a",
   "metadata": {},
   "source": [
    "### Build a Model to Test Multiple Types of Models as MVPs\n",
    "- Create a model.\n",
    "- Fit to train.\n",
    "- Score model."
   ]
  },
  {
   "cell_type": "code",
   "execution_count": 72,
   "id": "bf9a377b",
   "metadata": {},
   "outputs": [],
   "source": [
    "def score_models(X_telco_train, y_telco_train, X_telco_validate, y_telco_validate):\n",
    "    '''\n",
    "    Score multiple models on train and validate datasets.\n",
    "    Print classification reports to decide on a model to test.\n",
    "    Return each trained model, so I can choose one to test.\n",
    "    models = dt_model1, rf_model, knn1_model.\n",
    "    '''\n",
    "    dt_model1 = DecisionTreeClassifier(max_depth = 1, random_state = 123)\n",
    "    rf_model = RandomForestClassifier(min_samples_leaf = 1, max_depth = 10)\n",
    "    knn1_model = KNeighborsClassifier()\n",
    "    models = [dt_model1, rf_model, knn1_model]\n",
    "    for model in models:\n",
    "        model.fit(X_telco_train, y_telco_train)\n",
    "        actual_train = y_telco_train\n",
    "        predicted_train = model.predict(X_telco_train)\n",
    "        actual_validate = y_telco_validate\n",
    "        predicted_validate = model.predict(X_telco_validate)\n",
    "        print(model)\n",
    "        print('')\n",
    "        print('train score: ')\n",
    "        print(classification_report(actual_train, predicted_train))\n",
    "        print('validate score: ')\n",
    "        print(classification_report(actual_validate, predicted_validate))\n",
    "        print('________________________')\n",
    "        print('')\n",
    "    return dt_model1, rf_model, knn1_model\n"
   ]
  },
  {
   "cell_type": "code",
   "execution_count": 73,
   "id": "e1ead91e",
   "metadata": {},
   "outputs": [
    {
     "name": "stdout",
     "output_type": "stream",
     "text": [
      "DecisionTreeClassifier(max_depth=1, random_state=123)\n",
      "\n",
      "train score: \n",
      "              precision    recall  f1-score   support\n",
      "\n",
      "           0       0.73      1.00      0.85      3104\n",
      "           1       0.00      0.00      0.00      1121\n",
      "\n",
      "    accuracy                           0.73      4225\n",
      "   macro avg       0.37      0.50      0.42      4225\n",
      "weighted avg       0.54      0.73      0.62      4225\n",
      "\n",
      "validate score: \n",
      "              precision    recall  f1-score   support\n",
      "\n",
      "           0       0.73      1.00      0.85      1035\n",
      "           1       0.00      0.00      0.00       374\n",
      "\n",
      "    accuracy                           0.73      1409\n",
      "   macro avg       0.37      0.50      0.42      1409\n",
      "weighted avg       0.54      0.73      0.62      1409\n",
      "\n",
      "________________________\n",
      "\n",
      "RandomForestClassifier(max_depth=10)\n",
      "\n",
      "train score: \n",
      "              precision    recall  f1-score   support\n",
      "\n",
      "           0       0.90      0.95      0.92      3104\n",
      "           1       0.83      0.71      0.77      1121\n",
      "\n",
      "    accuracy                           0.89      4225\n",
      "   macro avg       0.87      0.83      0.85      4225\n",
      "weighted avg       0.88      0.89      0.88      4225\n",
      "\n",
      "validate score: \n",
      "              precision    recall  f1-score   support\n",
      "\n",
      "           0       0.84      0.89      0.86      1035\n",
      "           1       0.64      0.54      0.58       374\n",
      "\n",
      "    accuracy                           0.80      1409\n",
      "   macro avg       0.74      0.71      0.72      1409\n",
      "weighted avg       0.79      0.80      0.79      1409\n",
      "\n",
      "________________________\n",
      "\n",
      "KNeighborsClassifier()\n",
      "\n",
      "train score: \n",
      "              precision    recall  f1-score   support\n",
      "\n",
      "           0       0.86      0.92      0.89      3104\n",
      "           1       0.73      0.59      0.65      1121\n",
      "\n",
      "    accuracy                           0.83      4225\n",
      "   macro avg       0.80      0.76      0.77      4225\n",
      "weighted avg       0.83      0.83      0.83      4225\n",
      "\n",
      "validate score: \n",
      "              precision    recall  f1-score   support\n",
      "\n",
      "           0       0.82      0.89      0.85      1035\n",
      "           1       0.60      0.47      0.53       374\n",
      "\n",
      "    accuracy                           0.78      1409\n",
      "   macro avg       0.71      0.68      0.69      1409\n",
      "weighted avg       0.76      0.78      0.77      1409\n",
      "\n",
      "________________________\n",
      "\n"
     ]
    }
   ],
   "source": [
    "dt_model1, rf_model, knn1_model = score_models(X_telco_train, y_telco_train, X_telco_validate, y_telco_validate)"
   ]
  },
  {
   "cell_type": "markdown",
   "id": "c97df2af",
   "metadata": {},
   "source": [
    "## Test\n",
    "<hr style=\"border-top: 10px groove blue; margin-top: 1px; margin-bottom: 1px\"></hr>"
   ]
  },
  {
   "cell_type": "code",
   "execution_count": 77,
   "id": "ae25861f",
   "metadata": {},
   "outputs": [
    {
     "name": "stdout",
     "output_type": "stream",
     "text": [
      "Accuracy of Decision Tree classifier on test set: 0.73\n"
     ]
    }
   ],
   "source": [
    "print('Accuracy of Decision Tree classifier on test set: {:.2f}'\n",
    "     .format(clf.score(X_telco_test, y_telco_test)))"
   ]
  },
  {
   "cell_type": "code",
   "execution_count": 82,
   "id": "10481d23",
   "metadata": {},
   "outputs": [
    {
     "name": "stdout",
     "output_type": "stream",
     "text": [
      "Accuracy of Random Forest Classifier on test set: 0.80\n"
     ]
    }
   ],
   "source": [
    "print('Accuracy of Random Forest Classifier on test set: {:.2f}'\n",
    "     .format(rf.score(X_telco_test, y_telco_test)))"
   ]
  },
  {
   "cell_type": "code",
   "execution_count": 86,
   "id": "1df52c71",
   "metadata": {},
   "outputs": [
    {
     "name": "stdout",
     "output_type": "stream",
     "text": [
      "Accuracy of KNN classifier on test set: 0.77\n"
     ]
    }
   ],
   "source": [
    "print('Accuracy of KNN classifier on test set: {:.2f}'\n",
    "     .format(knn1.score(X_telco_test, y_telco_test)))"
   ]
  },
  {
   "cell_type": "markdown",
   "id": "3ab36e9c",
   "metadata": {},
   "source": [
    "- When we run the test data, the accuracy for the Decision tree model1 train is maintained at 73%. Therefore, the model has no data overfit.\n",
    "\n",
    "- When we run the test data, the accuracy for the Randon Forest dropped from 89% to 80%. Therefore, the model overfit the data.\n",
    "\n",
    "- When we run the test data, the accuracy for the KNN model train dropped from 78% to 77%. Therefore, the model overfit the data.\n",
    "\n",
    "- The decision tree is now selected as the final model, as it does not appear to overfit the data."
   ]
  },
  {
   "cell_type": "markdown",
   "id": "578a3342",
   "metadata": {},
   "source": [
    "### Best Model\n",
    "#### As per above scores multiple models, decision tree model1 at an accuracy level of 73% performs better on my in-sample data with a baseline percentage of 73."
   ]
  },
  {
   "cell_type": "markdown",
   "id": "ce606ce8",
   "metadata": {},
   "source": [
    "## V. Conclusions & Next Steps\n",
    "<hr style=\"border-top: 10px groove blue; margin-top: 1px; margin-bottom: 1px\"></hr>\n",
    "\n"
   ]
  },
  {
   "cell_type": "markdown",
   "id": "36be6cc6",
   "metadata": {},
   "source": [
    "### Executive Summary "
   ]
  },
  {
   "cell_type": "markdown",
   "id": "cbf0c3c3",
   "metadata": {},
   "source": [
    "- With Telco churn rate being at 27%. We identified the main drivers of churn. As per our analysis the main issues were customers with short term contracts, device protection with no internet service, customers with payment type electronic checks. \n",
    "- We also identified Decision tree as our best machine learning model to help us obtain better accuracy to identify and prevent customer churn."
   ]
  },
  {
   "cell_type": "markdown",
   "id": "f6456ea2",
   "metadata": {},
   "source": [
    "### Recommendations"
   ]
  },
  {
   "cell_type": "markdown",
   "id": "b84e601a",
   "metadata": {},
   "source": [
    "- Come up with incentives and promotions to have customers sign up for long term contracts.\n",
    "- Provide customers with technical support.\n",
    "- Set customer accounts to automatic payments to prevent missed payments."
   ]
  },
  {
   "cell_type": "markdown",
   "id": "066d1525",
   "metadata": {},
   "source": [
    "### Next Steps"
   ]
  },
  {
   "cell_type": "markdown",
   "id": "84fc369b",
   "metadata": {},
   "source": [
    "- Investigate why customers with Fibre optic churn."
   ]
  },
  {
   "cell_type": "code",
   "execution_count": null,
   "id": "91df254b",
   "metadata": {},
   "outputs": [],
   "source": []
  }
 ],
 "metadata": {
  "kernelspec": {
   "display_name": "Python 3 (ipykernel)",
   "language": "python",
   "name": "python3"
  },
  "language_info": {
   "codemirror_mode": {
    "name": "ipython",
    "version": 3
   },
   "file_extension": ".py",
   "mimetype": "text/x-python",
   "name": "python",
   "nbconvert_exporter": "python",
   "pygments_lexer": "ipython3",
   "version": "3.9.12"
  }
 },
 "nbformat": 4,
 "nbformat_minor": 5
}
