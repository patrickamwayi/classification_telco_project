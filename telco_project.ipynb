{
 "cells": [
  {
   "cell_type": "markdown",
   "id": "079c22cd",
   "metadata": {},
   "source": [
    "# Telco Classification Project"
   ]
  },
  {
   "cell_type": "code",
   "execution_count": 280,
   "id": "7af8157f",
   "metadata": {},
   "outputs": [],
   "source": [
    "import numpy as np\n",
    "import pandas as pd\n",
    "from io import StringIO\n",
    "import warnings\n",
    "warnings.filterwarnings('ignore')\n",
    "\n",
    "import acquire\n",
    "import prepare\n",
    "# grab Decision Tree Classifier and some helping friends from sklearn.tree\n",
    "from sklearn.tree import DecisionTreeClassifier, plot_tree, export_text\n",
    "# get classification report for model assessment\n",
    "from sklearn.metrics import classification_report\n",
    "import sklearn\n",
    "from sklearn.ensemble import RandomForestClassifier\n",
    "from sklearn.neighbors import KNeighborsClassifier\n",
    "from sklearn.linear_model import LogisticRegression\n",
    "from sklearn.metrics import classification_report, confusion_matrix, plot_confusion_matrix,ConfusionMatrixDisplay\n",
    "\n",
    "# visualize\n",
    "import matplotlib.pyplot as plt\n",
    "import seaborn as sns\n",
    "plt.rc('figure', figsize=(8, 6))\n",
    "plt.rc('font', size=13)\n"
   ]
  },
  {
   "cell_type": "markdown",
   "id": "50cb93da",
   "metadata": {},
   "source": [
    "## I. Data Acquisition"
   ]
  },
  {
   "cell_type": "code",
   "execution_count": 281,
   "id": "d86d4638",
   "metadata": {},
   "outputs": [],
   "source": [
    "# get telco data\n",
    "df0 = acquire.get_telco_data()\n"
   ]
  },
  {
   "cell_type": "code",
   "execution_count": 282,
   "id": "06eb0118",
   "metadata": {},
   "outputs": [
    {
     "data": {
      "text/html": [
       "<div>\n",
       "<style scoped>\n",
       "    .dataframe tbody tr th:only-of-type {\n",
       "        vertical-align: middle;\n",
       "    }\n",
       "\n",
       "    .dataframe tbody tr th {\n",
       "        vertical-align: top;\n",
       "    }\n",
       "\n",
       "    .dataframe thead th {\n",
       "        text-align: right;\n",
       "    }\n",
       "</style>\n",
       "<table border=\"1\" class=\"dataframe\">\n",
       "  <thead>\n",
       "    <tr style=\"text-align: right;\">\n",
       "      <th></th>\n",
       "      <th>payment_type_id</th>\n",
       "      <th>internet_service_type_id</th>\n",
       "      <th>contract_type_id</th>\n",
       "      <th>customer_id</th>\n",
       "      <th>gender</th>\n",
       "      <th>senior_citizen</th>\n",
       "      <th>partner</th>\n",
       "      <th>dependents</th>\n",
       "      <th>tenure</th>\n",
       "      <th>phone_service</th>\n",
       "      <th>...</th>\n",
       "      <th>tech_support</th>\n",
       "      <th>streaming_tv</th>\n",
       "      <th>streaming_movies</th>\n",
       "      <th>paperless_billing</th>\n",
       "      <th>monthly_charges</th>\n",
       "      <th>total_charges</th>\n",
       "      <th>churn</th>\n",
       "      <th>contract_type</th>\n",
       "      <th>internet_service_type</th>\n",
       "      <th>payment_type</th>\n",
       "    </tr>\n",
       "  </thead>\n",
       "  <tbody>\n",
       "    <tr>\n",
       "      <th>0</th>\n",
       "      <td>2</td>\n",
       "      <td>1</td>\n",
       "      <td>2</td>\n",
       "      <td>0002-ORFBO</td>\n",
       "      <td>Female</td>\n",
       "      <td>0</td>\n",
       "      <td>Yes</td>\n",
       "      <td>Yes</td>\n",
       "      <td>9</td>\n",
       "      <td>Yes</td>\n",
       "      <td>...</td>\n",
       "      <td>Yes</td>\n",
       "      <td>Yes</td>\n",
       "      <td>No</td>\n",
       "      <td>Yes</td>\n",
       "      <td>65.6</td>\n",
       "      <td>593.3</td>\n",
       "      <td>No</td>\n",
       "      <td>One year</td>\n",
       "      <td>DSL</td>\n",
       "      <td>Mailed check</td>\n",
       "    </tr>\n",
       "    <tr>\n",
       "      <th>1</th>\n",
       "      <td>2</td>\n",
       "      <td>1</td>\n",
       "      <td>1</td>\n",
       "      <td>0003-MKNFE</td>\n",
       "      <td>Male</td>\n",
       "      <td>0</td>\n",
       "      <td>No</td>\n",
       "      <td>No</td>\n",
       "      <td>9</td>\n",
       "      <td>Yes</td>\n",
       "      <td>...</td>\n",
       "      <td>No</td>\n",
       "      <td>No</td>\n",
       "      <td>Yes</td>\n",
       "      <td>No</td>\n",
       "      <td>59.9</td>\n",
       "      <td>542.4</td>\n",
       "      <td>No</td>\n",
       "      <td>Month-to-month</td>\n",
       "      <td>DSL</td>\n",
       "      <td>Mailed check</td>\n",
       "    </tr>\n",
       "    <tr>\n",
       "      <th>2</th>\n",
       "      <td>1</td>\n",
       "      <td>2</td>\n",
       "      <td>1</td>\n",
       "      <td>0004-TLHLJ</td>\n",
       "      <td>Male</td>\n",
       "      <td>0</td>\n",
       "      <td>No</td>\n",
       "      <td>No</td>\n",
       "      <td>4</td>\n",
       "      <td>Yes</td>\n",
       "      <td>...</td>\n",
       "      <td>No</td>\n",
       "      <td>No</td>\n",
       "      <td>No</td>\n",
       "      <td>Yes</td>\n",
       "      <td>73.9</td>\n",
       "      <td>280.85</td>\n",
       "      <td>Yes</td>\n",
       "      <td>Month-to-month</td>\n",
       "      <td>Fiber optic</td>\n",
       "      <td>Electronic check</td>\n",
       "    </tr>\n",
       "    <tr>\n",
       "      <th>3</th>\n",
       "      <td>1</td>\n",
       "      <td>2</td>\n",
       "      <td>1</td>\n",
       "      <td>0011-IGKFF</td>\n",
       "      <td>Male</td>\n",
       "      <td>1</td>\n",
       "      <td>Yes</td>\n",
       "      <td>No</td>\n",
       "      <td>13</td>\n",
       "      <td>Yes</td>\n",
       "      <td>...</td>\n",
       "      <td>No</td>\n",
       "      <td>Yes</td>\n",
       "      <td>Yes</td>\n",
       "      <td>Yes</td>\n",
       "      <td>98.0</td>\n",
       "      <td>1237.85</td>\n",
       "      <td>Yes</td>\n",
       "      <td>Month-to-month</td>\n",
       "      <td>Fiber optic</td>\n",
       "      <td>Electronic check</td>\n",
       "    </tr>\n",
       "    <tr>\n",
       "      <th>4</th>\n",
       "      <td>2</td>\n",
       "      <td>2</td>\n",
       "      <td>1</td>\n",
       "      <td>0013-EXCHZ</td>\n",
       "      <td>Female</td>\n",
       "      <td>1</td>\n",
       "      <td>Yes</td>\n",
       "      <td>No</td>\n",
       "      <td>3</td>\n",
       "      <td>Yes</td>\n",
       "      <td>...</td>\n",
       "      <td>Yes</td>\n",
       "      <td>Yes</td>\n",
       "      <td>No</td>\n",
       "      <td>Yes</td>\n",
       "      <td>83.9</td>\n",
       "      <td>267.4</td>\n",
       "      <td>Yes</td>\n",
       "      <td>Month-to-month</td>\n",
       "      <td>Fiber optic</td>\n",
       "      <td>Mailed check</td>\n",
       "    </tr>\n",
       "  </tbody>\n",
       "</table>\n",
       "<p>5 rows × 24 columns</p>\n",
       "</div>"
      ],
      "text/plain": [
       "   payment_type_id  internet_service_type_id  contract_type_id customer_id  \\\n",
       "0                2                         1                 2  0002-ORFBO   \n",
       "1                2                         1                 1  0003-MKNFE   \n",
       "2                1                         2                 1  0004-TLHLJ   \n",
       "3                1                         2                 1  0011-IGKFF   \n",
       "4                2                         2                 1  0013-EXCHZ   \n",
       "\n",
       "   gender  senior_citizen partner dependents  tenure phone_service  ...  \\\n",
       "0  Female               0     Yes        Yes       9           Yes  ...   \n",
       "1    Male               0      No         No       9           Yes  ...   \n",
       "2    Male               0      No         No       4           Yes  ...   \n",
       "3    Male               1     Yes         No      13           Yes  ...   \n",
       "4  Female               1     Yes         No       3           Yes  ...   \n",
       "\n",
       "  tech_support streaming_tv streaming_movies paperless_billing  \\\n",
       "0          Yes          Yes               No               Yes   \n",
       "1           No           No              Yes                No   \n",
       "2           No           No               No               Yes   \n",
       "3           No          Yes              Yes               Yes   \n",
       "4          Yes          Yes               No               Yes   \n",
       "\n",
       "  monthly_charges total_charges churn   contract_type  internet_service_type  \\\n",
       "0            65.6         593.3    No        One year                    DSL   \n",
       "1            59.9         542.4    No  Month-to-month                    DSL   \n",
       "2            73.9        280.85   Yes  Month-to-month            Fiber optic   \n",
       "3            98.0       1237.85   Yes  Month-to-month            Fiber optic   \n",
       "4            83.9         267.4   Yes  Month-to-month            Fiber optic   \n",
       "\n",
       "       payment_type  \n",
       "0      Mailed check  \n",
       "1      Mailed check  \n",
       "2  Electronic check  \n",
       "3  Electronic check  \n",
       "4      Mailed check  \n",
       "\n",
       "[5 rows x 24 columns]"
      ]
     },
     "execution_count": 282,
     "metadata": {},
     "output_type": "execute_result"
    }
   ],
   "source": [
    "# view first few rows\n",
    "df0.head()"
   ]
  },
  {
   "cell_type": "markdown",
   "id": "d3bcedd9",
   "metadata": {},
   "source": [
    "## II. Data Cleaning & Preparation"
   ]
  },
  {
   "cell_type": "code",
   "execution_count": 283,
   "id": "da440bfb",
   "metadata": {},
   "outputs": [
    {
     "data": {
      "text/html": [
       "<div>\n",
       "<style scoped>\n",
       "    .dataframe tbody tr th:only-of-type {\n",
       "        vertical-align: middle;\n",
       "    }\n",
       "\n",
       "    .dataframe tbody tr th {\n",
       "        vertical-align: top;\n",
       "    }\n",
       "\n",
       "    .dataframe thead th {\n",
       "        text-align: right;\n",
       "    }\n",
       "</style>\n",
       "<table border=\"1\" class=\"dataframe\">\n",
       "  <thead>\n",
       "    <tr style=\"text-align: right;\">\n",
       "      <th></th>\n",
       "      <th>payment_type_id</th>\n",
       "      <th>internet_service_type_id</th>\n",
       "      <th>contract_type_id</th>\n",
       "      <th>senior_citizen</th>\n",
       "      <th>tenure</th>\n",
       "      <th>monthly_charges</th>\n",
       "      <th>total_charges</th>\n",
       "      <th>gender_encoded</th>\n",
       "      <th>partner_encoded</th>\n",
       "      <th>dependents_encoded</th>\n",
       "      <th>...</th>\n",
       "      <th>streaming_tv_Yes</th>\n",
       "      <th>streaming_movies_No internet service</th>\n",
       "      <th>streaming_movies_Yes</th>\n",
       "      <th>contract_type_One year</th>\n",
       "      <th>contract_type_Two year</th>\n",
       "      <th>internet_service_type_Fiber optic</th>\n",
       "      <th>internet_service_type_None</th>\n",
       "      <th>payment_type_Credit card (automatic)</th>\n",
       "      <th>payment_type_Electronic check</th>\n",
       "      <th>payment_type_Mailed check</th>\n",
       "    </tr>\n",
       "  </thead>\n",
       "  <tbody>\n",
       "    <tr>\n",
       "      <th>0</th>\n",
       "      <td>2</td>\n",
       "      <td>1</td>\n",
       "      <td>2</td>\n",
       "      <td>0</td>\n",
       "      <td>9</td>\n",
       "      <td>65.60</td>\n",
       "      <td>593.30</td>\n",
       "      <td>0</td>\n",
       "      <td>1</td>\n",
       "      <td>1</td>\n",
       "      <td>...</td>\n",
       "      <td>1</td>\n",
       "      <td>0</td>\n",
       "      <td>0</td>\n",
       "      <td>1</td>\n",
       "      <td>0</td>\n",
       "      <td>0</td>\n",
       "      <td>0</td>\n",
       "      <td>0</td>\n",
       "      <td>0</td>\n",
       "      <td>1</td>\n",
       "    </tr>\n",
       "    <tr>\n",
       "      <th>1</th>\n",
       "      <td>2</td>\n",
       "      <td>1</td>\n",
       "      <td>1</td>\n",
       "      <td>0</td>\n",
       "      <td>9</td>\n",
       "      <td>59.90</td>\n",
       "      <td>542.40</td>\n",
       "      <td>1</td>\n",
       "      <td>0</td>\n",
       "      <td>0</td>\n",
       "      <td>...</td>\n",
       "      <td>0</td>\n",
       "      <td>0</td>\n",
       "      <td>1</td>\n",
       "      <td>0</td>\n",
       "      <td>0</td>\n",
       "      <td>0</td>\n",
       "      <td>0</td>\n",
       "      <td>0</td>\n",
       "      <td>0</td>\n",
       "      <td>1</td>\n",
       "    </tr>\n",
       "    <tr>\n",
       "      <th>2</th>\n",
       "      <td>1</td>\n",
       "      <td>2</td>\n",
       "      <td>1</td>\n",
       "      <td>0</td>\n",
       "      <td>4</td>\n",
       "      <td>73.90</td>\n",
       "      <td>280.85</td>\n",
       "      <td>1</td>\n",
       "      <td>0</td>\n",
       "      <td>0</td>\n",
       "      <td>...</td>\n",
       "      <td>0</td>\n",
       "      <td>0</td>\n",
       "      <td>0</td>\n",
       "      <td>0</td>\n",
       "      <td>0</td>\n",
       "      <td>1</td>\n",
       "      <td>0</td>\n",
       "      <td>0</td>\n",
       "      <td>1</td>\n",
       "      <td>0</td>\n",
       "    </tr>\n",
       "    <tr>\n",
       "      <th>3</th>\n",
       "      <td>1</td>\n",
       "      <td>2</td>\n",
       "      <td>1</td>\n",
       "      <td>1</td>\n",
       "      <td>13</td>\n",
       "      <td>98.00</td>\n",
       "      <td>1237.85</td>\n",
       "      <td>1</td>\n",
       "      <td>1</td>\n",
       "      <td>0</td>\n",
       "      <td>...</td>\n",
       "      <td>1</td>\n",
       "      <td>0</td>\n",
       "      <td>1</td>\n",
       "      <td>0</td>\n",
       "      <td>0</td>\n",
       "      <td>1</td>\n",
       "      <td>0</td>\n",
       "      <td>0</td>\n",
       "      <td>1</td>\n",
       "      <td>0</td>\n",
       "    </tr>\n",
       "    <tr>\n",
       "      <th>4</th>\n",
       "      <td>2</td>\n",
       "      <td>2</td>\n",
       "      <td>1</td>\n",
       "      <td>1</td>\n",
       "      <td>3</td>\n",
       "      <td>83.90</td>\n",
       "      <td>267.40</td>\n",
       "      <td>0</td>\n",
       "      <td>1</td>\n",
       "      <td>0</td>\n",
       "      <td>...</td>\n",
       "      <td>1</td>\n",
       "      <td>0</td>\n",
       "      <td>0</td>\n",
       "      <td>0</td>\n",
       "      <td>0</td>\n",
       "      <td>1</td>\n",
       "      <td>0</td>\n",
       "      <td>0</td>\n",
       "      <td>0</td>\n",
       "      <td>1</td>\n",
       "    </tr>\n",
       "    <tr>\n",
       "      <th>...</th>\n",
       "      <td>...</td>\n",
       "      <td>...</td>\n",
       "      <td>...</td>\n",
       "      <td>...</td>\n",
       "      <td>...</td>\n",
       "      <td>...</td>\n",
       "      <td>...</td>\n",
       "      <td>...</td>\n",
       "      <td>...</td>\n",
       "      <td>...</td>\n",
       "      <td>...</td>\n",
       "      <td>...</td>\n",
       "      <td>...</td>\n",
       "      <td>...</td>\n",
       "      <td>...</td>\n",
       "      <td>...</td>\n",
       "      <td>...</td>\n",
       "      <td>...</td>\n",
       "      <td>...</td>\n",
       "      <td>...</td>\n",
       "      <td>...</td>\n",
       "    </tr>\n",
       "    <tr>\n",
       "      <th>7038</th>\n",
       "      <td>2</td>\n",
       "      <td>1</td>\n",
       "      <td>2</td>\n",
       "      <td>0</td>\n",
       "      <td>13</td>\n",
       "      <td>55.15</td>\n",
       "      <td>742.90</td>\n",
       "      <td>0</td>\n",
       "      <td>0</td>\n",
       "      <td>0</td>\n",
       "      <td>...</td>\n",
       "      <td>0</td>\n",
       "      <td>0</td>\n",
       "      <td>0</td>\n",
       "      <td>1</td>\n",
       "      <td>0</td>\n",
       "      <td>0</td>\n",
       "      <td>0</td>\n",
       "      <td>0</td>\n",
       "      <td>0</td>\n",
       "      <td>1</td>\n",
       "    </tr>\n",
       "    <tr>\n",
       "      <th>7039</th>\n",
       "      <td>1</td>\n",
       "      <td>2</td>\n",
       "      <td>1</td>\n",
       "      <td>0</td>\n",
       "      <td>22</td>\n",
       "      <td>85.10</td>\n",
       "      <td>1873.70</td>\n",
       "      <td>1</td>\n",
       "      <td>1</td>\n",
       "      <td>0</td>\n",
       "      <td>...</td>\n",
       "      <td>0</td>\n",
       "      <td>0</td>\n",
       "      <td>1</td>\n",
       "      <td>0</td>\n",
       "      <td>0</td>\n",
       "      <td>1</td>\n",
       "      <td>0</td>\n",
       "      <td>0</td>\n",
       "      <td>1</td>\n",
       "      <td>0</td>\n",
       "    </tr>\n",
       "    <tr>\n",
       "      <th>7040</th>\n",
       "      <td>2</td>\n",
       "      <td>1</td>\n",
       "      <td>1</td>\n",
       "      <td>0</td>\n",
       "      <td>2</td>\n",
       "      <td>50.30</td>\n",
       "      <td>92.75</td>\n",
       "      <td>1</td>\n",
       "      <td>0</td>\n",
       "      <td>0</td>\n",
       "      <td>...</td>\n",
       "      <td>0</td>\n",
       "      <td>0</td>\n",
       "      <td>0</td>\n",
       "      <td>0</td>\n",
       "      <td>0</td>\n",
       "      <td>0</td>\n",
       "      <td>0</td>\n",
       "      <td>0</td>\n",
       "      <td>0</td>\n",
       "      <td>1</td>\n",
       "    </tr>\n",
       "    <tr>\n",
       "      <th>7041</th>\n",
       "      <td>2</td>\n",
       "      <td>1</td>\n",
       "      <td>3</td>\n",
       "      <td>0</td>\n",
       "      <td>67</td>\n",
       "      <td>67.85</td>\n",
       "      <td>4627.65</td>\n",
       "      <td>1</td>\n",
       "      <td>1</td>\n",
       "      <td>1</td>\n",
       "      <td>...</td>\n",
       "      <td>0</td>\n",
       "      <td>0</td>\n",
       "      <td>1</td>\n",
       "      <td>0</td>\n",
       "      <td>1</td>\n",
       "      <td>0</td>\n",
       "      <td>0</td>\n",
       "      <td>0</td>\n",
       "      <td>0</td>\n",
       "      <td>1</td>\n",
       "    </tr>\n",
       "    <tr>\n",
       "      <th>7042</th>\n",
       "      <td>1</td>\n",
       "      <td>1</td>\n",
       "      <td>3</td>\n",
       "      <td>0</td>\n",
       "      <td>63</td>\n",
       "      <td>59.00</td>\n",
       "      <td>3707.60</td>\n",
       "      <td>1</td>\n",
       "      <td>1</td>\n",
       "      <td>1</td>\n",
       "      <td>...</td>\n",
       "      <td>1</td>\n",
       "      <td>0</td>\n",
       "      <td>1</td>\n",
       "      <td>0</td>\n",
       "      <td>1</td>\n",
       "      <td>0</td>\n",
       "      <td>0</td>\n",
       "      <td>0</td>\n",
       "      <td>1</td>\n",
       "      <td>0</td>\n",
       "    </tr>\n",
       "  </tbody>\n",
       "</table>\n",
       "<p>7043 rows × 34 columns</p>\n",
       "</div>"
      ],
      "text/plain": [
       "      payment_type_id  internet_service_type_id  contract_type_id  \\\n",
       "0                   2                         1                 2   \n",
       "1                   2                         1                 1   \n",
       "2                   1                         2                 1   \n",
       "3                   1                         2                 1   \n",
       "4                   2                         2                 1   \n",
       "...               ...                       ...               ...   \n",
       "7038                2                         1                 2   \n",
       "7039                1                         2                 1   \n",
       "7040                2                         1                 1   \n",
       "7041                2                         1                 3   \n",
       "7042                1                         1                 3   \n",
       "\n",
       "      senior_citizen  tenure  monthly_charges  total_charges  gender_encoded  \\\n",
       "0                  0       9            65.60         593.30               0   \n",
       "1                  0       9            59.90         542.40               1   \n",
       "2                  0       4            73.90         280.85               1   \n",
       "3                  1      13            98.00        1237.85               1   \n",
       "4                  1       3            83.90         267.40               0   \n",
       "...              ...     ...              ...            ...             ...   \n",
       "7038               0      13            55.15         742.90               0   \n",
       "7039               0      22            85.10        1873.70               1   \n",
       "7040               0       2            50.30          92.75               1   \n",
       "7041               0      67            67.85        4627.65               1   \n",
       "7042               0      63            59.00        3707.60               1   \n",
       "\n",
       "      partner_encoded  dependents_encoded  ...  streaming_tv_Yes  \\\n",
       "0                   1                   1  ...                 1   \n",
       "1                   0                   0  ...                 0   \n",
       "2                   0                   0  ...                 0   \n",
       "3                   1                   0  ...                 1   \n",
       "4                   1                   0  ...                 1   \n",
       "...               ...                 ...  ...               ...   \n",
       "7038                0                   0  ...                 0   \n",
       "7039                1                   0  ...                 0   \n",
       "7040                0                   0  ...                 0   \n",
       "7041                1                   1  ...                 0   \n",
       "7042                1                   1  ...                 1   \n",
       "\n",
       "      streaming_movies_No internet service  streaming_movies_Yes  \\\n",
       "0                                        0                     0   \n",
       "1                                        0                     1   \n",
       "2                                        0                     0   \n",
       "3                                        0                     1   \n",
       "4                                        0                     0   \n",
       "...                                    ...                   ...   \n",
       "7038                                     0                     0   \n",
       "7039                                     0                     1   \n",
       "7040                                     0                     0   \n",
       "7041                                     0                     1   \n",
       "7042                                     0                     1   \n",
       "\n",
       "      contract_type_One year  contract_type_Two year  \\\n",
       "0                          1                       0   \n",
       "1                          0                       0   \n",
       "2                          0                       0   \n",
       "3                          0                       0   \n",
       "4                          0                       0   \n",
       "...                      ...                     ...   \n",
       "7038                       1                       0   \n",
       "7039                       0                       0   \n",
       "7040                       0                       0   \n",
       "7041                       0                       1   \n",
       "7042                       0                       1   \n",
       "\n",
       "      internet_service_type_Fiber optic  internet_service_type_None  \\\n",
       "0                                     0                           0   \n",
       "1                                     0                           0   \n",
       "2                                     1                           0   \n",
       "3                                     1                           0   \n",
       "4                                     1                           0   \n",
       "...                                 ...                         ...   \n",
       "7038                                  0                           0   \n",
       "7039                                  1                           0   \n",
       "7040                                  0                           0   \n",
       "7041                                  0                           0   \n",
       "7042                                  0                           0   \n",
       "\n",
       "      payment_type_Credit card (automatic)  payment_type_Electronic check  \\\n",
       "0                                        0                              0   \n",
       "1                                        0                              0   \n",
       "2                                        0                              1   \n",
       "3                                        0                              1   \n",
       "4                                        0                              0   \n",
       "...                                    ...                            ...   \n",
       "7038                                     0                              0   \n",
       "7039                                     0                              1   \n",
       "7040                                     0                              0   \n",
       "7041                                     0                              0   \n",
       "7042                                     0                              1   \n",
       "\n",
       "      payment_type_Mailed check  \n",
       "0                             1  \n",
       "1                             1  \n",
       "2                             0  \n",
       "3                             0  \n",
       "4                             1  \n",
       "...                         ...  \n",
       "7038                          1  \n",
       "7039                          0  \n",
       "7040                          1  \n",
       "7041                          1  \n",
       "7042                          0  \n",
       "\n",
       "[7043 rows x 34 columns]"
      ]
     },
     "execution_count": 283,
     "metadata": {},
     "output_type": "execute_result"
    }
   ],
   "source": [
    "df = prepare.prep_telco(df0)\n",
    "df"
   ]
  },
  {
   "cell_type": "code",
   "execution_count": 284,
   "id": "51d88266",
   "metadata": {},
   "outputs": [
    {
     "name": "stdout",
     "output_type": "stream",
     "text": [
      "<class 'pandas.core.frame.DataFrame'>\n",
      "Int64Index: 7043 entries, 0 to 7042\n",
      "Data columns (total 34 columns):\n",
      " #   Column                                 Non-Null Count  Dtype  \n",
      "---  ------                                 --------------  -----  \n",
      " 0   payment_type_id                        7043 non-null   int64  \n",
      " 1   internet_service_type_id               7043 non-null   int64  \n",
      " 2   contract_type_id                       7043 non-null   int64  \n",
      " 3   senior_citizen                         7043 non-null   int64  \n",
      " 4   tenure                                 7043 non-null   int64  \n",
      " 5   monthly_charges                        7043 non-null   float64\n",
      " 6   total_charges                          7043 non-null   float64\n",
      " 7   gender_encoded                         7043 non-null   int64  \n",
      " 8   partner_encoded                        7043 non-null   int64  \n",
      " 9   dependents_encoded                     7043 non-null   int64  \n",
      " 10  phone_service_encoded                  7043 non-null   int64  \n",
      " 11  paperless_billing_encoded              7043 non-null   int64  \n",
      " 12  churn_encoded                          7043 non-null   int64  \n",
      " 13  multiple_lines_No phone service        7043 non-null   uint8  \n",
      " 14  multiple_lines_Yes                     7043 non-null   uint8  \n",
      " 15  online_security_No internet service    7043 non-null   uint8  \n",
      " 16  online_security_Yes                    7043 non-null   uint8  \n",
      " 17  online_backup_No internet service      7043 non-null   uint8  \n",
      " 18  online_backup_Yes                      7043 non-null   uint8  \n",
      " 19  device_protection_No internet service  7043 non-null   uint8  \n",
      " 20  device_protection_Yes                  7043 non-null   uint8  \n",
      " 21  tech_support_No internet service       7043 non-null   uint8  \n",
      " 22  tech_support_Yes                       7043 non-null   uint8  \n",
      " 23  streaming_tv_No internet service       7043 non-null   uint8  \n",
      " 24  streaming_tv_Yes                       7043 non-null   uint8  \n",
      " 25  streaming_movies_No internet service   7043 non-null   uint8  \n",
      " 26  streaming_movies_Yes                   7043 non-null   uint8  \n",
      " 27  contract_type_One year                 7043 non-null   uint8  \n",
      " 28  contract_type_Two year                 7043 non-null   uint8  \n",
      " 29  internet_service_type_Fiber optic      7043 non-null   uint8  \n",
      " 30  internet_service_type_None             7043 non-null   uint8  \n",
      " 31  payment_type_Credit card (automatic)   7043 non-null   uint8  \n",
      " 32  payment_type_Electronic check          7043 non-null   uint8  \n",
      " 33  payment_type_Mailed check              7043 non-null   uint8  \n",
      "dtypes: float64(2), int64(11), uint8(21)\n",
      "memory usage: 914.8 KB\n"
     ]
    }
   ],
   "source": [
    "df.info()"
   ]
  },
  {
   "cell_type": "code",
   "execution_count": 285,
   "id": "2e767bcd",
   "metadata": {},
   "outputs": [
    {
     "name": "stdout",
     "output_type": "stream",
     "text": [
      "(4225, 34) (1409, 34) (1409, 34)\n",
      "                                        count         mean          std  \\\n",
      "payment_type_id                        4225.0     2.319053     1.151612   \n",
      "internet_service_type_id               4225.0     1.875976     0.738711   \n",
      "contract_type_id                       4225.0     1.687101     0.828349   \n",
      "senior_citizen                         4225.0     0.161893     0.368397   \n",
      "tenure                                 4225.0    32.500828    24.532563   \n",
      "monthly_charges                        4225.0    65.056142    30.268493   \n",
      "total_charges                          4225.0  2298.513598  2271.603284   \n",
      "gender_encoded                         4225.0     0.508639     0.499985   \n",
      "partner_encoded                        4225.0     0.488521     0.499927   \n",
      "dependents_encoded                     4225.0     0.306272     0.460999   \n",
      "phone_service_encoded                  4225.0     0.906982     0.290492   \n",
      "paperless_billing_encoded              4225.0     0.593846     0.491172   \n",
      "churn_encoded                          4225.0     0.265325     0.441559   \n",
      "multiple_lines_No phone service        4225.0     0.093018     0.290492   \n",
      "multiple_lines_Yes                     4225.0     0.427692     0.494803   \n",
      "online_security_No internet service    4225.0     0.218462     0.413251   \n",
      "online_security_Yes                    4225.0     0.291598     0.454552   \n",
      "online_backup_No internet service      4225.0     0.218462     0.413251   \n",
      "online_backup_Yes                      4225.0     0.350059     0.477045   \n",
      "device_protection_No internet service  4225.0     0.218462     0.413251   \n",
      "device_protection_Yes                  4225.0     0.351006     0.477341   \n",
      "tech_support_No internet service       4225.0     0.218462     0.413251   \n",
      "tech_support_Yes                       4225.0     0.289467     0.453569   \n",
      "streaming_tv_No internet service       4225.0     0.218462     0.413251   \n",
      "streaming_tv_Yes                       4225.0     0.392189     0.488296   \n",
      "streaming_movies_No internet service   4225.0     0.218462     0.413251   \n",
      "streaming_movies_Yes                   4225.0     0.395503     0.489016   \n",
      "contract_type_One year                 4225.0     0.216095     0.411628   \n",
      "contract_type_Two year                 4225.0     0.235503     0.424363   \n",
      "internet_service_type_Fiber optic      4225.0     0.439053     0.496330   \n",
      "internet_service_type_None             4225.0     0.218462     0.413251   \n",
      "payment_type_Credit card (automatic)   4225.0     0.217515     0.412604   \n",
      "payment_type_Electronic check          4225.0     0.336805     0.472673   \n",
      "payment_type_Mailed check              4225.0     0.224852     0.417534   \n",
      "\n",
      "                                         min     25%      50%      75%  \\\n",
      "payment_type_id                         1.00    1.00     2.00     3.00   \n",
      "internet_service_type_id                1.00    1.00     2.00     2.00   \n",
      "contract_type_id                        1.00    1.00     1.00     2.00   \n",
      "senior_citizen                          0.00    0.00     0.00     0.00   \n",
      "tenure                                  0.00    9.00    29.00    55.00   \n",
      "monthly_charges                        18.25   35.65    70.40    90.15   \n",
      "total_charges                           0.00  411.60  1401.15  3865.45   \n",
      "gender_encoded                          0.00    0.00     1.00     1.00   \n",
      "partner_encoded                         0.00    0.00     0.00     1.00   \n",
      "dependents_encoded                      0.00    0.00     0.00     1.00   \n",
      "phone_service_encoded                   0.00    1.00     1.00     1.00   \n",
      "paperless_billing_encoded               0.00    0.00     1.00     1.00   \n",
      "churn_encoded                           0.00    0.00     0.00     1.00   \n",
      "multiple_lines_No phone service         0.00    0.00     0.00     0.00   \n",
      "multiple_lines_Yes                      0.00    0.00     0.00     1.00   \n",
      "online_security_No internet service     0.00    0.00     0.00     0.00   \n",
      "online_security_Yes                     0.00    0.00     0.00     1.00   \n",
      "online_backup_No internet service       0.00    0.00     0.00     0.00   \n",
      "online_backup_Yes                       0.00    0.00     0.00     1.00   \n",
      "device_protection_No internet service   0.00    0.00     0.00     0.00   \n",
      "device_protection_Yes                   0.00    0.00     0.00     1.00   \n",
      "tech_support_No internet service        0.00    0.00     0.00     0.00   \n",
      "tech_support_Yes                        0.00    0.00     0.00     1.00   \n",
      "streaming_tv_No internet service        0.00    0.00     0.00     0.00   \n",
      "streaming_tv_Yes                        0.00    0.00     0.00     1.00   \n",
      "streaming_movies_No internet service    0.00    0.00     0.00     0.00   \n",
      "streaming_movies_Yes                    0.00    0.00     0.00     1.00   \n",
      "contract_type_One year                  0.00    0.00     0.00     0.00   \n",
      "contract_type_Two year                  0.00    0.00     0.00     0.00   \n",
      "internet_service_type_Fiber optic       0.00    0.00     0.00     1.00   \n",
      "internet_service_type_None              0.00    0.00     0.00     0.00   \n",
      "payment_type_Credit card (automatic)    0.00    0.00     0.00     0.00   \n",
      "payment_type_Electronic check           0.00    0.00     0.00     1.00   \n",
      "payment_type_Mailed check               0.00    0.00     0.00     0.00   \n",
      "\n",
      "                                           max  \n",
      "payment_type_id                           4.00  \n",
      "internet_service_type_id                  3.00  \n",
      "contract_type_id                          3.00  \n",
      "senior_citizen                            1.00  \n",
      "tenure                                   72.00  \n",
      "monthly_charges                         118.75  \n",
      "total_charges                          8672.45  \n",
      "gender_encoded                            1.00  \n",
      "partner_encoded                           1.00  \n",
      "dependents_encoded                        1.00  \n",
      "phone_service_encoded                     1.00  \n",
      "paperless_billing_encoded                 1.00  \n",
      "churn_encoded                             1.00  \n",
      "multiple_lines_No phone service           1.00  \n",
      "multiple_lines_Yes                        1.00  \n",
      "online_security_No internet service       1.00  \n",
      "online_security_Yes                       1.00  \n",
      "online_backup_No internet service         1.00  \n",
      "online_backup_Yes                         1.00  \n",
      "device_protection_No internet service     1.00  \n",
      "device_protection_Yes                     1.00  \n",
      "tech_support_No internet service          1.00  \n",
      "tech_support_Yes                          1.00  \n",
      "streaming_tv_No internet service          1.00  \n",
      "streaming_tv_Yes                          1.00  \n",
      "streaming_movies_No internet service      1.00  \n",
      "streaming_movies_Yes                      1.00  \n",
      "contract_type_One year                    1.00  \n",
      "contract_type_Two year                    1.00  \n",
      "internet_service_type_Fiber optic         1.00  \n",
      "internet_service_type_None                1.00  \n",
      "payment_type_Credit card (automatic)      1.00  \n",
      "payment_type_Electronic check             1.00  \n",
      "payment_type_Mailed check                 1.00  \n"
     ]
    }
   ],
   "source": [
    "telco_train, telco_validate, telco_test = prepare.my_train_test_split(df,\"churn_encoded\")\n",
    "print(telco_train.shape, telco_validate.shape, telco_test.shape)\n",
    "print(telco_train.describe().T)\n"
   ]
  },
  {
   "cell_type": "code",
   "execution_count": 286,
   "id": "8139f974",
   "metadata": {},
   "outputs": [
    {
     "data": {
      "text/html": [
       "<div>\n",
       "<style scoped>\n",
       "    .dataframe tbody tr th:only-of-type {\n",
       "        vertical-align: middle;\n",
       "    }\n",
       "\n",
       "    .dataframe tbody tr th {\n",
       "        vertical-align: top;\n",
       "    }\n",
       "\n",
       "    .dataframe thead th {\n",
       "        text-align: right;\n",
       "    }\n",
       "</style>\n",
       "<table border=\"1\" class=\"dataframe\">\n",
       "  <thead>\n",
       "    <tr style=\"text-align: right;\">\n",
       "      <th></th>\n",
       "      <th>payment_type_id</th>\n",
       "      <th>internet_service_type_id</th>\n",
       "      <th>contract_type_id</th>\n",
       "      <th>senior_citizen</th>\n",
       "      <th>tenure</th>\n",
       "      <th>monthly_charges</th>\n",
       "      <th>total_charges</th>\n",
       "      <th>gender_encoded</th>\n",
       "      <th>partner_encoded</th>\n",
       "      <th>dependents_encoded</th>\n",
       "      <th>...</th>\n",
       "      <th>streaming_tv_Yes</th>\n",
       "      <th>streaming_movies_No internet service</th>\n",
       "      <th>streaming_movies_Yes</th>\n",
       "      <th>contract_type_One year</th>\n",
       "      <th>contract_type_Two year</th>\n",
       "      <th>internet_service_type_Fiber optic</th>\n",
       "      <th>internet_service_type_None</th>\n",
       "      <th>payment_type_Credit card (automatic)</th>\n",
       "      <th>payment_type_Electronic check</th>\n",
       "      <th>payment_type_Mailed check</th>\n",
       "    </tr>\n",
       "  </thead>\n",
       "  <tbody>\n",
       "    <tr>\n",
       "      <th>count</th>\n",
       "      <td>4225.000000</td>\n",
       "      <td>4225.000000</td>\n",
       "      <td>4225.000000</td>\n",
       "      <td>4225.000000</td>\n",
       "      <td>4225.000000</td>\n",
       "      <td>4225.000000</td>\n",
       "      <td>4225.000000</td>\n",
       "      <td>4225.000000</td>\n",
       "      <td>4225.000000</td>\n",
       "      <td>4225.000000</td>\n",
       "      <td>...</td>\n",
       "      <td>4225.000000</td>\n",
       "      <td>4225.000000</td>\n",
       "      <td>4225.000000</td>\n",
       "      <td>4225.000000</td>\n",
       "      <td>4225.000000</td>\n",
       "      <td>4225.000000</td>\n",
       "      <td>4225.000000</td>\n",
       "      <td>4225.000000</td>\n",
       "      <td>4225.000000</td>\n",
       "      <td>4225.000000</td>\n",
       "    </tr>\n",
       "    <tr>\n",
       "      <th>mean</th>\n",
       "      <td>2.319053</td>\n",
       "      <td>1.875976</td>\n",
       "      <td>1.687101</td>\n",
       "      <td>0.161893</td>\n",
       "      <td>32.500828</td>\n",
       "      <td>65.056142</td>\n",
       "      <td>2298.513598</td>\n",
       "      <td>0.508639</td>\n",
       "      <td>0.488521</td>\n",
       "      <td>0.306272</td>\n",
       "      <td>...</td>\n",
       "      <td>0.392189</td>\n",
       "      <td>0.218462</td>\n",
       "      <td>0.395503</td>\n",
       "      <td>0.216095</td>\n",
       "      <td>0.235503</td>\n",
       "      <td>0.439053</td>\n",
       "      <td>0.218462</td>\n",
       "      <td>0.217515</td>\n",
       "      <td>0.336805</td>\n",
       "      <td>0.224852</td>\n",
       "    </tr>\n",
       "    <tr>\n",
       "      <th>std</th>\n",
       "      <td>1.151612</td>\n",
       "      <td>0.738711</td>\n",
       "      <td>0.828349</td>\n",
       "      <td>0.368397</td>\n",
       "      <td>24.532563</td>\n",
       "      <td>30.268493</td>\n",
       "      <td>2271.603284</td>\n",
       "      <td>0.499985</td>\n",
       "      <td>0.499927</td>\n",
       "      <td>0.460999</td>\n",
       "      <td>...</td>\n",
       "      <td>0.488296</td>\n",
       "      <td>0.413251</td>\n",
       "      <td>0.489016</td>\n",
       "      <td>0.411628</td>\n",
       "      <td>0.424363</td>\n",
       "      <td>0.496330</td>\n",
       "      <td>0.413251</td>\n",
       "      <td>0.412604</td>\n",
       "      <td>0.472673</td>\n",
       "      <td>0.417534</td>\n",
       "    </tr>\n",
       "    <tr>\n",
       "      <th>min</th>\n",
       "      <td>1.000000</td>\n",
       "      <td>1.000000</td>\n",
       "      <td>1.000000</td>\n",
       "      <td>0.000000</td>\n",
       "      <td>0.000000</td>\n",
       "      <td>18.250000</td>\n",
       "      <td>0.000000</td>\n",
       "      <td>0.000000</td>\n",
       "      <td>0.000000</td>\n",
       "      <td>0.000000</td>\n",
       "      <td>...</td>\n",
       "      <td>0.000000</td>\n",
       "      <td>0.000000</td>\n",
       "      <td>0.000000</td>\n",
       "      <td>0.000000</td>\n",
       "      <td>0.000000</td>\n",
       "      <td>0.000000</td>\n",
       "      <td>0.000000</td>\n",
       "      <td>0.000000</td>\n",
       "      <td>0.000000</td>\n",
       "      <td>0.000000</td>\n",
       "    </tr>\n",
       "    <tr>\n",
       "      <th>25%</th>\n",
       "      <td>1.000000</td>\n",
       "      <td>1.000000</td>\n",
       "      <td>1.000000</td>\n",
       "      <td>0.000000</td>\n",
       "      <td>9.000000</td>\n",
       "      <td>35.650000</td>\n",
       "      <td>411.600000</td>\n",
       "      <td>0.000000</td>\n",
       "      <td>0.000000</td>\n",
       "      <td>0.000000</td>\n",
       "      <td>...</td>\n",
       "      <td>0.000000</td>\n",
       "      <td>0.000000</td>\n",
       "      <td>0.000000</td>\n",
       "      <td>0.000000</td>\n",
       "      <td>0.000000</td>\n",
       "      <td>0.000000</td>\n",
       "      <td>0.000000</td>\n",
       "      <td>0.000000</td>\n",
       "      <td>0.000000</td>\n",
       "      <td>0.000000</td>\n",
       "    </tr>\n",
       "    <tr>\n",
       "      <th>50%</th>\n",
       "      <td>2.000000</td>\n",
       "      <td>2.000000</td>\n",
       "      <td>1.000000</td>\n",
       "      <td>0.000000</td>\n",
       "      <td>29.000000</td>\n",
       "      <td>70.400000</td>\n",
       "      <td>1401.150000</td>\n",
       "      <td>1.000000</td>\n",
       "      <td>0.000000</td>\n",
       "      <td>0.000000</td>\n",
       "      <td>...</td>\n",
       "      <td>0.000000</td>\n",
       "      <td>0.000000</td>\n",
       "      <td>0.000000</td>\n",
       "      <td>0.000000</td>\n",
       "      <td>0.000000</td>\n",
       "      <td>0.000000</td>\n",
       "      <td>0.000000</td>\n",
       "      <td>0.000000</td>\n",
       "      <td>0.000000</td>\n",
       "      <td>0.000000</td>\n",
       "    </tr>\n",
       "    <tr>\n",
       "      <th>75%</th>\n",
       "      <td>3.000000</td>\n",
       "      <td>2.000000</td>\n",
       "      <td>2.000000</td>\n",
       "      <td>0.000000</td>\n",
       "      <td>55.000000</td>\n",
       "      <td>90.150000</td>\n",
       "      <td>3865.450000</td>\n",
       "      <td>1.000000</td>\n",
       "      <td>1.000000</td>\n",
       "      <td>1.000000</td>\n",
       "      <td>...</td>\n",
       "      <td>1.000000</td>\n",
       "      <td>0.000000</td>\n",
       "      <td>1.000000</td>\n",
       "      <td>0.000000</td>\n",
       "      <td>0.000000</td>\n",
       "      <td>1.000000</td>\n",
       "      <td>0.000000</td>\n",
       "      <td>0.000000</td>\n",
       "      <td>1.000000</td>\n",
       "      <td>0.000000</td>\n",
       "    </tr>\n",
       "    <tr>\n",
       "      <th>max</th>\n",
       "      <td>4.000000</td>\n",
       "      <td>3.000000</td>\n",
       "      <td>3.000000</td>\n",
       "      <td>1.000000</td>\n",
       "      <td>72.000000</td>\n",
       "      <td>118.750000</td>\n",
       "      <td>8672.450000</td>\n",
       "      <td>1.000000</td>\n",
       "      <td>1.000000</td>\n",
       "      <td>1.000000</td>\n",
       "      <td>...</td>\n",
       "      <td>1.000000</td>\n",
       "      <td>1.000000</td>\n",
       "      <td>1.000000</td>\n",
       "      <td>1.000000</td>\n",
       "      <td>1.000000</td>\n",
       "      <td>1.000000</td>\n",
       "      <td>1.000000</td>\n",
       "      <td>1.000000</td>\n",
       "      <td>1.000000</td>\n",
       "      <td>1.000000</td>\n",
       "    </tr>\n",
       "  </tbody>\n",
       "</table>\n",
       "<p>8 rows × 34 columns</p>\n",
       "</div>"
      ],
      "text/plain": [
       "       payment_type_id  internet_service_type_id  contract_type_id  \\\n",
       "count      4225.000000               4225.000000       4225.000000   \n",
       "mean          2.319053                  1.875976          1.687101   \n",
       "std           1.151612                  0.738711          0.828349   \n",
       "min           1.000000                  1.000000          1.000000   \n",
       "25%           1.000000                  1.000000          1.000000   \n",
       "50%           2.000000                  2.000000          1.000000   \n",
       "75%           3.000000                  2.000000          2.000000   \n",
       "max           4.000000                  3.000000          3.000000   \n",
       "\n",
       "       senior_citizen       tenure  monthly_charges  total_charges  \\\n",
       "count     4225.000000  4225.000000      4225.000000    4225.000000   \n",
       "mean         0.161893    32.500828        65.056142    2298.513598   \n",
       "std          0.368397    24.532563        30.268493    2271.603284   \n",
       "min          0.000000     0.000000        18.250000       0.000000   \n",
       "25%          0.000000     9.000000        35.650000     411.600000   \n",
       "50%          0.000000    29.000000        70.400000    1401.150000   \n",
       "75%          0.000000    55.000000        90.150000    3865.450000   \n",
       "max          1.000000    72.000000       118.750000    8672.450000   \n",
       "\n",
       "       gender_encoded  partner_encoded  dependents_encoded  ...  \\\n",
       "count     4225.000000      4225.000000         4225.000000  ...   \n",
       "mean         0.508639         0.488521            0.306272  ...   \n",
       "std          0.499985         0.499927            0.460999  ...   \n",
       "min          0.000000         0.000000            0.000000  ...   \n",
       "25%          0.000000         0.000000            0.000000  ...   \n",
       "50%          1.000000         0.000000            0.000000  ...   \n",
       "75%          1.000000         1.000000            1.000000  ...   \n",
       "max          1.000000         1.000000            1.000000  ...   \n",
       "\n",
       "       streaming_tv_Yes  streaming_movies_No internet service  \\\n",
       "count       4225.000000                           4225.000000   \n",
       "mean           0.392189                              0.218462   \n",
       "std            0.488296                              0.413251   \n",
       "min            0.000000                              0.000000   \n",
       "25%            0.000000                              0.000000   \n",
       "50%            0.000000                              0.000000   \n",
       "75%            1.000000                              0.000000   \n",
       "max            1.000000                              1.000000   \n",
       "\n",
       "       streaming_movies_Yes  contract_type_One year  contract_type_Two year  \\\n",
       "count           4225.000000             4225.000000             4225.000000   \n",
       "mean               0.395503                0.216095                0.235503   \n",
       "std                0.489016                0.411628                0.424363   \n",
       "min                0.000000                0.000000                0.000000   \n",
       "25%                0.000000                0.000000                0.000000   \n",
       "50%                0.000000                0.000000                0.000000   \n",
       "75%                1.000000                0.000000                0.000000   \n",
       "max                1.000000                1.000000                1.000000   \n",
       "\n",
       "       internet_service_type_Fiber optic  internet_service_type_None  \\\n",
       "count                        4225.000000                 4225.000000   \n",
       "mean                            0.439053                    0.218462   \n",
       "std                             0.496330                    0.413251   \n",
       "min                             0.000000                    0.000000   \n",
       "25%                             0.000000                    0.000000   \n",
       "50%                             0.000000                    0.000000   \n",
       "75%                             1.000000                    0.000000   \n",
       "max                             1.000000                    1.000000   \n",
       "\n",
       "       payment_type_Credit card (automatic)  payment_type_Electronic check  \\\n",
       "count                           4225.000000                    4225.000000   \n",
       "mean                               0.217515                       0.336805   \n",
       "std                                0.412604                       0.472673   \n",
       "min                                0.000000                       0.000000   \n",
       "25%                                0.000000                       0.000000   \n",
       "50%                                0.000000                       0.000000   \n",
       "75%                                0.000000                       1.000000   \n",
       "max                                1.000000                       1.000000   \n",
       "\n",
       "       payment_type_Mailed check  \n",
       "count                4225.000000  \n",
       "mean                    0.224852  \n",
       "std                     0.417534  \n",
       "min                     0.000000  \n",
       "25%                     0.000000  \n",
       "50%                     0.000000  \n",
       "75%                     0.000000  \n",
       "max                     1.000000  \n",
       "\n",
       "[8 rows x 34 columns]"
      ]
     },
     "execution_count": 286,
     "metadata": {},
     "output_type": "execute_result"
    }
   ],
   "source": [
    "telco_train.describe()"
   ]
  },
  {
   "cell_type": "code",
   "execution_count": 287,
   "id": "b72ea71f",
   "metadata": {},
   "outputs": [
    {
     "data": {
      "text/plain": [
       "(Index(['payment_type_id', 'internet_service_type_id', 'contract_type_id',\n",
       "        'senior_citizen', 'tenure', 'monthly_charges', 'total_charges',\n",
       "        'gender_encoded', 'partner_encoded', 'dependents_encoded',\n",
       "        'phone_service_encoded', 'paperless_billing_encoded', 'churn_encoded',\n",
       "        'multiple_lines_No phone service', 'multiple_lines_Yes',\n",
       "        'online_security_No internet service', 'online_security_Yes',\n",
       "        'online_backup_No internet service', 'online_backup_Yes',\n",
       "        'device_protection_No internet service', 'device_protection_Yes',\n",
       "        'tech_support_No internet service', 'tech_support_Yes',\n",
       "        'streaming_tv_No internet service', 'streaming_tv_Yes',\n",
       "        'streaming_movies_No internet service', 'streaming_movies_Yes',\n",
       "        'contract_type_One year', 'contract_type_Two year',\n",
       "        'internet_service_type_Fiber optic', 'internet_service_type_None',\n",
       "        'payment_type_Credit card (automatic)', 'payment_type_Electronic check',\n",
       "        'payment_type_Mailed check'],\n",
       "       dtype='object'),\n",
       " Index(['payment_type_id', 'internet_service_type_id', 'contract_type_id',\n",
       "        'senior_citizen', 'tenure', 'monthly_charges', 'total_charges',\n",
       "        'gender_encoded', 'partner_encoded', 'dependents_encoded',\n",
       "        'phone_service_encoded', 'paperless_billing_encoded', 'churn_encoded',\n",
       "        'multiple_lines_No phone service', 'multiple_lines_Yes',\n",
       "        'online_security_No internet service', 'online_security_Yes',\n",
       "        'online_backup_No internet service', 'online_backup_Yes',\n",
       "        'device_protection_No internet service', 'device_protection_Yes',\n",
       "        'tech_support_No internet service', 'tech_support_Yes',\n",
       "        'streaming_tv_No internet service', 'streaming_tv_Yes',\n",
       "        'streaming_movies_No internet service', 'streaming_movies_Yes',\n",
       "        'contract_type_One year', 'contract_type_Two year',\n",
       "        'internet_service_type_Fiber optic', 'internet_service_type_None',\n",
       "        'payment_type_Credit card (automatic)', 'payment_type_Electronic check',\n",
       "        'payment_type_Mailed check'],\n",
       "       dtype='object'))"
      ]
     },
     "execution_count": 287,
     "metadata": {},
     "output_type": "execute_result"
    }
   ],
   "source": [
    "telco_train.columns, telco_validate.columns\n"
   ]
  },
  {
   "cell_type": "markdown",
   "id": "0a0c76ae",
   "metadata": {},
   "source": [
    "### Establish a Baseline"
   ]
  },
  {
   "cell_type": "code",
   "execution_count": 288,
   "id": "f6d182d2",
   "metadata": {},
   "outputs": [],
   "source": [
    "# x and y train\n",
    "X_telco_train = telco_train.drop(columns = 'churn_encoded')\n",
    "y_telco_train = telco_train.churn_encoded\n",
    "\n",
    "# x and y validate\n",
    "X_telco_validate = telco_validate.drop(columns = 'churn_encoded')\n",
    "y_telco_validate = telco_validate.churn_encoded\n",
    "\n",
    "# x and y test\n",
    "X_telco_test = telco_test.drop(columns = 'churn_encoded')\n",
    "y_telco_test = telco_test.churn_encoded"
   ]
  },
  {
   "cell_type": "code",
   "execution_count": 289,
   "id": "3963f1bb",
   "metadata": {},
   "outputs": [
    {
     "name": "stdout",
     "output_type": "stream",
     "text": [
      "The churn baseline is: 0.7346745562130178\n"
     ]
    }
   ],
   "source": [
    "telco_baseline = (y_telco_train == 0).mean()\n",
    "print('The churn baseline is:', telco_baseline)"
   ]
  },
  {
   "cell_type": "markdown",
   "id": "73d03817",
   "metadata": {},
   "source": [
    "- The baseline model is the mode of target varible that did not churn.\n",
    "- Our baseline model will always be predicting that a customer does not churn at an accuracy level of 73%."
   ]
  },
  {
   "cell_type": "markdown",
   "id": "2cf624d3",
   "metadata": {},
   "source": [
    "## III. Model Data & Evaluation\n",
    "- We'll look at three models utilizing various different features in columns.\n",
    "- The models are:\n",
    "- I. Decision Tree\n",
    "- II. Random Forest\n",
    "- III. KNearestNeighborsclassifier(KNN)\n"
   ]
  },
  {
   "cell_type": "markdown",
   "id": "e79b26d9",
   "metadata": {},
   "source": [
    "### Using Different Features\n",
    "### Split the data"
   ]
  },
  {
   "cell_type": "code",
   "execution_count": 290,
   "id": "74f550e7",
   "metadata": {},
   "outputs": [],
   "source": [
    "# X is indepedent variables\n",
    "# y is target variable\n",
    "\n",
    "#features\n",
    "columns = ['internet_service_type_Fiber optic', 'internet_service_type_None', 'tenure', 'monthly_charges']\n",
    "\n",
    "# x and y train\n",
    "X_telco_train = telco_train.drop(columns = 'churn_encoded')\n",
    "y_telco_train = telco_train.churn_encoded\n",
    "\n",
    "# x and y validate\n",
    "X_telco_validate = telco_validate.drop(columns = 'churn_encoded')\n",
    "y_telco_validate = telco_validate.churn_encoded\n",
    "\n",
    "# x and y test\n",
    "X_telco_test = telco_test.drop(columns = 'churn_encoded')\n",
    "y_telco_test = telco_test.churn_encoded"
   ]
  },
  {
   "cell_type": "code",
   "execution_count": 291,
   "id": "6892c8a7",
   "metadata": {},
   "outputs": [
    {
     "data": {
      "text/plain": [
       "0    3104\n",
       "1    1121\n",
       "Name: churn_encoded, dtype: int64"
      ]
     },
     "execution_count": 291,
     "metadata": {},
     "output_type": "execute_result"
    }
   ],
   "source": [
    "# y_train data (target variable)\n",
    "y_telco_train.value_counts()"
   ]
  },
  {
   "cell_type": "code",
   "execution_count": 292,
   "id": "206db695",
   "metadata": {},
   "outputs": [
    {
     "name": "stdout",
     "output_type": "stream",
     "text": [
      "<class 'pandas.core.frame.DataFrame'>\n",
      "Int64Index: 4225 entries, 5911 to 3586\n",
      "Data columns (total 33 columns):\n",
      " #   Column                                 Non-Null Count  Dtype  \n",
      "---  ------                                 --------------  -----  \n",
      " 0   payment_type_id                        4225 non-null   int64  \n",
      " 1   internet_service_type_id               4225 non-null   int64  \n",
      " 2   contract_type_id                       4225 non-null   int64  \n",
      " 3   senior_citizen                         4225 non-null   int64  \n",
      " 4   tenure                                 4225 non-null   int64  \n",
      " 5   monthly_charges                        4225 non-null   float64\n",
      " 6   total_charges                          4225 non-null   float64\n",
      " 7   gender_encoded                         4225 non-null   int64  \n",
      " 8   partner_encoded                        4225 non-null   int64  \n",
      " 9   dependents_encoded                     4225 non-null   int64  \n",
      " 10  phone_service_encoded                  4225 non-null   int64  \n",
      " 11  paperless_billing_encoded              4225 non-null   int64  \n",
      " 12  multiple_lines_No phone service        4225 non-null   uint8  \n",
      " 13  multiple_lines_Yes                     4225 non-null   uint8  \n",
      " 14  online_security_No internet service    4225 non-null   uint8  \n",
      " 15  online_security_Yes                    4225 non-null   uint8  \n",
      " 16  online_backup_No internet service      4225 non-null   uint8  \n",
      " 17  online_backup_Yes                      4225 non-null   uint8  \n",
      " 18  device_protection_No internet service  4225 non-null   uint8  \n",
      " 19  device_protection_Yes                  4225 non-null   uint8  \n",
      " 20  tech_support_No internet service       4225 non-null   uint8  \n",
      " 21  tech_support_Yes                       4225 non-null   uint8  \n",
      " 22  streaming_tv_No internet service       4225 non-null   uint8  \n",
      " 23  streaming_tv_Yes                       4225 non-null   uint8  \n",
      " 24  streaming_movies_No internet service   4225 non-null   uint8  \n",
      " 25  streaming_movies_Yes                   4225 non-null   uint8  \n",
      " 26  contract_type_One year                 4225 non-null   uint8  \n",
      " 27  contract_type_Two year                 4225 non-null   uint8  \n",
      " 28  internet_service_type_Fiber optic      4225 non-null   uint8  \n",
      " 29  internet_service_type_None             4225 non-null   uint8  \n",
      " 30  payment_type_Credit card (automatic)   4225 non-null   uint8  \n",
      " 31  payment_type_Electronic check          4225 non-null   uint8  \n",
      " 32  payment_type_Mailed check              4225 non-null   uint8  \n",
      "dtypes: float64(2), int64(10), uint8(21)\n",
      "memory usage: 515.7 KB\n"
     ]
    }
   ],
   "source": [
    "X_telco_train.info()"
   ]
  },
  {
   "cell_type": "markdown",
   "id": "fab636b8",
   "metadata": {},
   "source": [
    "### (I) Using Decision Tree"
   ]
  },
  {
   "cell_type": "markdown",
   "id": "99c782e1",
   "metadata": {},
   "source": [
    "###  I made predictions on the training sample to fit decision tree classifier using decion tree model"
   ]
  },
  {
   "cell_type": "code",
   "execution_count": 293,
   "id": "45dc96b5",
   "metadata": {},
   "outputs": [
    {
     "name": "stdout",
     "output_type": "stream",
     "text": [
      "training score: 73.47%\n",
      "validate score: 73.46%\n"
     ]
    }
   ],
   "source": [
    "# make the thing\n",
    "model1 = DecisionTreeClassifier(max_depth = 1, random_state = 123)\n",
    "# fit the thing\n",
    "model1.fit(X_telco_train, y_telco_train)\n",
    "# use the thing\n",
    "print(f'training score: {model1.score(X_telco_train, y_telco_train):.2%}')\n",
    "print(f'validate score: {model1.score(X_telco_validate, y_telco_validate):.2%}')"
   ]
  },
  {
   "cell_type": "code",
   "execution_count": 294,
   "id": "e6cd2684",
   "metadata": {},
   "outputs": [
    {
     "data": {
      "image/png": "[encoded data removed]",
      "text/plain": [
       "<Figure size 1080x360 with 1 Axes>"
      ]
     },
     "metadata": {
      "needs_background": "light"
     },
     "output_type": "display_data"
    }
   ],
   "source": [
    "import matplotlib.pyplot as plt\n",
    "plt.figure(figsize=(15,5))\n",
    "plot_tree(model1, feature_names=X_telco_train.columns.to_list(), class_names=['churn_encoded']);"
   ]
  },
  {
   "cell_type": "code",
   "execution_count": 295,
   "id": "3173050d",
   "metadata": {},
   "outputs": [],
   "source": [
    "# for classification you can change the algorithm to gini or entropy (information gain).  \n",
    "# Default is gini.\n",
    "\n",
    "clf = DecisionTreeClassifier(max_depth=1, random_state=123)\n"
   ]
  },
  {
   "cell_type": "code",
   "execution_count": 296,
   "id": "4c64b8b8",
   "metadata": {},
   "outputs": [],
   "source": [
    "# model1.fit(X, y)\n",
    "\n",
    "clf = clf.fit(X_telco_train, y_telco_train)\n"
   ]
  },
  {
   "cell_type": "code",
   "execution_count": 297,
   "id": "8e4b2752",
   "metadata": {},
   "outputs": [
    {
     "data": {
      "text/plain": [
       "array([0, 0, 0, 0, 0])"
      ]
     },
     "execution_count": 297,
     "metadata": {},
     "output_type": "execute_result"
    }
   ],
   "source": [
    "# make prediction on train obeservations\n",
    "\n",
    "y_telco_pred = clf.predict(X_telco_train)\n",
    "y_telco_pred[0:5]\n"
   ]
  },
  {
   "cell_type": "markdown",
   "id": "3ac7afa9",
   "metadata": {},
   "source": [
    "### I did evaluate my in-sample results using the model score and came up with a classification report as well as a confusion matrix."
   ]
  },
  {
   "cell_type": "code",
   "execution_count": 298,
   "id": "e36ad921",
   "metadata": {},
   "outputs": [
    {
     "data": {
      "text/plain": [
       "0.7345635202271115"
      ]
     },
     "execution_count": 298,
     "metadata": {},
     "output_type": "execute_result"
    }
   ],
   "source": [
    "#model1 score\n",
    "model1.score(X_telco_validate,y_telco_validate)"
   ]
  },
  {
   "cell_type": "code",
   "execution_count": 299,
   "id": "539af3b6",
   "metadata": {},
   "outputs": [
    {
     "name": "stdout",
     "output_type": "stream",
     "text": [
      "              precision    recall  f1-score   support\n",
      "\n",
      "           0       0.73      1.00      0.85      3104\n",
      "           1       0.00      0.00      0.00      1121\n",
      "\n",
      "    accuracy                           0.73      4225\n",
      "   macro avg       0.37      0.50      0.42      4225\n",
      "weighted avg       0.54      0.73      0.62      4225\n",
      "\n"
     ]
    }
   ],
   "source": [
    "#classification report\n",
    "print(classification_report(y_telco_train, y_telco_pred))"
   ]
  },
  {
   "cell_type": "code",
   "execution_count": 300,
   "id": "b4dc9c7b",
   "metadata": {},
   "outputs": [
    {
     "data": {
      "text/plain": [
       "array([[3104,    0],\n",
       "       [1121,    0]])"
      ]
     },
     "execution_count": 300,
     "metadata": {},
     "output_type": "execute_result"
    }
   ],
   "source": [
    "# confusion matrix\n",
    "\n",
    "sklearn.metrics.confusion_matrix(y_telco_train, y_telco_pred)\n"
   ]
  },
  {
   "cell_type": "code",
   "execution_count": 301,
   "id": "d2ef4785",
   "metadata": {},
   "outputs": [
    {
     "data": {
      "text/plain": [
       "0    3104\n",
       "1    1121\n",
       "Name: churn_encoded, dtype: int64"
      ]
     },
     "execution_count": 301,
     "metadata": {},
     "output_type": "execute_result"
    }
   ],
   "source": [
    "y_telco_train.value_counts()\n"
   ]
  },
  {
   "cell_type": "code",
   "execution_count": 302,
   "id": "6354c02b",
   "metadata": {},
   "outputs": [
    {
     "data": {
      "text/html": [
       "<div>\n",
       "<style scoped>\n",
       "    .dataframe tbody tr th:only-of-type {\n",
       "        vertical-align: middle;\n",
       "    }\n",
       "\n",
       "    .dataframe tbody tr th {\n",
       "        vertical-align: top;\n",
       "    }\n",
       "\n",
       "    .dataframe thead th {\n",
       "        text-align: right;\n",
       "    }\n",
       "</style>\n",
       "<table border=\"1\" class=\"dataframe\">\n",
       "  <thead>\n",
       "    <tr style=\"text-align: right;\">\n",
       "      <th></th>\n",
       "      <th>0</th>\n",
       "      <th>1</th>\n",
       "    </tr>\n",
       "  </thead>\n",
       "  <tbody>\n",
       "    <tr>\n",
       "      <th>0</th>\n",
       "      <td>3104</td>\n",
       "      <td>0</td>\n",
       "    </tr>\n",
       "    <tr>\n",
       "      <th>1</th>\n",
       "      <td>1121</td>\n",
       "      <td>0</td>\n",
       "    </tr>\n",
       "  </tbody>\n",
       "</table>\n",
       "</div>"
      ],
      "text/plain": [
       "      0  1\n",
       "0  3104  0\n",
       "1  1121  0"
      ]
     },
     "execution_count": 302,
     "metadata": {},
     "output_type": "execute_result"
    }
   ],
   "source": [
    "import pandas as pd\n",
    "\n",
    "labels = sorted(y_telco_train.unique())\n",
    "\n",
    "df1_confused = pd.DataFrame(sklearn.metrics.confusion_matrix(y_telco_train, y_telco_pred), index=labels, columns=labels)\n",
    "df1_confused\n"
   ]
  },
  {
   "cell_type": "markdown",
   "id": "8c7f7d90",
   "metadata": {},
   "source": [
    "### I used a different max_depth value to compare the results."
   ]
  },
  {
   "cell_type": "code",
   "execution_count": 303,
   "id": "e429ae03",
   "metadata": {},
   "outputs": [
    {
     "name": "stdout",
     "output_type": "stream",
     "text": [
      "training score: 78.79%\n",
      "validate score: 79.28%\n"
     ]
    }
   ],
   "source": [
    "#model2\n",
    "# make the thing\n",
    "model2 = DecisionTreeClassifier(max_depth=3)\n",
    "# fit the thing\n",
    "model2.fit(X_telco_train, y_telco_train)\n",
    "# use the thing\n",
    "print(f'training score: {model2.score(X_telco_train, y_telco_train):.2%}')\n",
    "print(f'validate score: {model2.score(X_telco_validate, y_telco_validate):.2%}')"
   ]
  },
  {
   "cell_type": "code",
   "execution_count": 304,
   "id": "0a43fe2c",
   "metadata": {},
   "outputs": [],
   "source": [
    "# model2.fit(X, y)\n",
    "\n",
    "clf = clf.fit(X_telco_train, y_telco_train)\n"
   ]
  },
  {
   "cell_type": "code",
   "execution_count": 305,
   "id": "583b6a5e",
   "metadata": {},
   "outputs": [
    {
     "name": "stdout",
     "output_type": "stream",
     "text": [
      "              precision    recall  f1-score   support\n",
      "\n",
      "           0       0.73      1.00      0.85      3104\n",
      "           1       0.00      0.00      0.00      1121\n",
      "\n",
      "    accuracy                           0.73      4225\n",
      "   macro avg       0.37      0.50      0.42      4225\n",
      "weighted avg       0.54      0.73      0.62      4225\n",
      "\n"
     ]
    }
   ],
   "source": [
    "print(classification_report(y_telco_train, y_telco_pred))\n"
   ]
  },
  {
   "cell_type": "code",
   "execution_count": 306,
   "id": "58c98836",
   "metadata": {},
   "outputs": [
    {
     "data": {
      "text/plain": [
       "0.7927608232789212"
      ]
     },
     "execution_count": 306,
     "metadata": {},
     "output_type": "execute_result"
    }
   ],
   "source": [
    "#model2 score\n",
    "model2.score(X_telco_validate,y_telco_validate)"
   ]
  },
  {
   "cell_type": "code",
   "execution_count": 307,
   "id": "fae912c1",
   "metadata": {},
   "outputs": [
    {
     "data": {
      "text/plain": [
       "array([[3104,    0],\n",
       "       [1121,    0]])"
      ]
     },
     "execution_count": 307,
     "metadata": {},
     "output_type": "execute_result"
    }
   ],
   "source": [
    "# confusion matrix\n",
    "\n",
    "sklearn.metrics.confusion_matrix(y_telco_train, y_telco_pred)\n"
   ]
  },
  {
   "cell_type": "markdown",
   "id": "31477038",
   "metadata": {},
   "source": [
    "### Model1 performs better at an accuracy score of 73% on my in-sample data with an established baseline percentage of 73."
   ]
  },
  {
   "cell_type": "code",
   "execution_count": 308,
   "id": "dfcade7d",
   "metadata": {},
   "outputs": [
    {
     "data": {
      "text/plain": [
       "(0.7345635202271115, 0.7927608232789212)"
      ]
     },
     "execution_count": 308,
     "metadata": {},
     "output_type": "execute_result"
    }
   ],
   "source": [
    "model1.score(X_telco_validate, y_telco_validate), model2.score(X_telco_validate, y_telco_validate)"
   ]
  },
  {
   "cell_type": "markdown",
   "id": "ac18da20",
   "metadata": {},
   "source": [
    "### Using Different Features"
   ]
  },
  {
   "cell_type": "code",
   "execution_count": 309,
   "id": "5cae5037",
   "metadata": {},
   "outputs": [],
   "source": [
    "# Split the data\n",
    "# X is indepedent variables\n",
    "# y is target variable\n",
    "\n",
    "#features\n",
    "columns = ['payment_type_Credit card (automatic)',\n",
    "    'payment_type_Electronic check',\n",
    "    'payment_type_Mailed check',\n",
    "    'contract_type_One year',\n",
    "    'contract_type_Two year',\n",
    "    'tenure']\n",
    "\n",
    "# x and y train\n",
    "X_telco_train = telco_train.drop(columns = 'churn_encoded')\n",
    "y_telco_train = telco_train.churn_encoded\n",
    "\n",
    "# x and y validate\n",
    "X_telco_validate = telco_validate.drop(columns = 'churn_encoded')\n",
    "y_telco_validate = telco_validate.churn_encoded\n",
    "\n",
    "# x and y test\n",
    "X_telco_test = telco_test.drop(columns = 'churn_encoded')\n",
    "y_telco_test = telco_test.churn_encoded"
   ]
  },
  {
   "cell_type": "code",
   "execution_count": 310,
   "id": "1945cb72",
   "metadata": {},
   "outputs": [
    {
     "data": {
      "text/plain": [
       "DecisionTreeClassifier(max_depth=9, random_state=123)"
      ]
     },
     "execution_count": 310,
     "metadata": {},
     "output_type": "execute_result"
    }
   ],
   "source": [
    "model3 = DecisionTreeClassifier(max_depth = 9, random_state = 123)\n",
    "model3.fit(X_telco_train, y_telco_train)"
   ]
  },
  {
   "cell_type": "code",
   "execution_count": 311,
   "id": "52bc18b2",
   "metadata": {},
   "outputs": [
    {
     "data": {
      "text/plain": [
       "0.8577514792899408"
      ]
     },
     "execution_count": 311,
     "metadata": {},
     "output_type": "execute_result"
    }
   ],
   "source": [
    "model3.score(X_telco_train, y_telco_train)"
   ]
  },
  {
   "cell_type": "code",
   "execution_count": 312,
   "id": "1ae79116",
   "metadata": {},
   "outputs": [
    {
     "name": "stdout",
     "output_type": "stream",
     "text": [
      "              precision    recall  f1-score   support\n",
      "\n",
      "           0       0.90      0.91      0.90      3104\n",
      "           1       0.74      0.71      0.73      1121\n",
      "\n",
      "    accuracy                           0.86      4225\n",
      "   macro avg       0.82      0.81      0.82      4225\n",
      "weighted avg       0.86      0.86      0.86      4225\n",
      "\n"
     ]
    }
   ],
   "source": [
    "print(classification_report(y_telco_train, model3.predict(X_telco_train)))"
   ]
  },
  {
   "cell_type": "markdown",
   "id": "6d2d7363",
   "metadata": {},
   "source": [
    "### I used a different max_depth value to compare the results."
   ]
  },
  {
   "cell_type": "code",
   "execution_count": 313,
   "id": "1e588839",
   "metadata": {},
   "outputs": [
    {
     "data": {
      "text/plain": [
       "DecisionTreeClassifier(max_depth=12, random_state=123)"
      ]
     },
     "execution_count": 313,
     "metadata": {},
     "output_type": "execute_result"
    }
   ],
   "source": [
    "model4 = DecisionTreeClassifier(max_depth = 12, random_state = 123)\n",
    "model4.fit(X_telco_train, y_telco_train)"
   ]
  },
  {
   "cell_type": "code",
   "execution_count": 314,
   "id": "c12de335",
   "metadata": {},
   "outputs": [
    {
     "data": {
      "text/plain": [
       "0.9197633136094675"
      ]
     },
     "execution_count": 314,
     "metadata": {},
     "output_type": "execute_result"
    }
   ],
   "source": [
    "model4.score(X_telco_train, y_telco_train)"
   ]
  },
  {
   "cell_type": "code",
   "execution_count": 315,
   "id": "e72368f6",
   "metadata": {},
   "outputs": [
    {
     "name": "stdout",
     "output_type": "stream",
     "text": [
      "              precision    recall  f1-score   support\n",
      "\n",
      "           0       0.94      0.95      0.95      3104\n",
      "           1       0.85      0.84      0.85      1121\n",
      "\n",
      "    accuracy                           0.92      4225\n",
      "   macro avg       0.90      0.90      0.90      4225\n",
      "weighted avg       0.92      0.92      0.92      4225\n",
      "\n"
     ]
    }
   ],
   "source": [
    "print(classification_report(y_telco_train, model4.predict(X_telco_train)))"
   ]
  },
  {
   "cell_type": "markdown",
   "id": "5aa2467f",
   "metadata": {},
   "source": [
    "### Takeaways"
   ]
  },
  {
   "cell_type": "markdown",
   "id": "93ae8cba",
   "metadata": {},
   "source": [
    "_ With the established baseline accuracy at 73%, of all the four models, model 1 remains better performer in predicting customer churn even with out of sample data."
   ]
  },
  {
   "cell_type": "markdown",
   "id": "2cba7ca9",
   "metadata": {},
   "source": [
    "### (II) Using Random Forest"
   ]
  },
  {
   "cell_type": "code",
   "execution_count": 316,
   "id": "f638a14b",
   "metadata": {},
   "outputs": [],
   "source": [
    "# make the thing \n",
    "rf = RandomForestClassifier(min_samples_leaf = 1, max_depth = 10)"
   ]
  },
  {
   "cell_type": "code",
   "execution_count": 317,
   "id": "648a493d",
   "metadata": {},
   "outputs": [
    {
     "data": {
      "text/plain": [
       "RandomForestClassifier(max_depth=10)"
      ]
     },
     "execution_count": 317,
     "metadata": {},
     "output_type": "execute_result"
    }
   ],
   "source": [
    "# fit the thing\n",
    "rf.fit(X_telco_train, y_telco_train)"
   ]
  },
  {
   "cell_type": "code",
   "execution_count": 318,
   "id": "9a447cc3",
   "metadata": {},
   "outputs": [],
   "source": [
    "# use the thing\n",
    "y_pred = rf.predict(X_telco_train)"
   ]
  },
  {
   "cell_type": "code",
   "execution_count": 319,
   "id": "baa322d9",
   "metadata": {},
   "outputs": [
    {
     "data": {
      "text/plain": [
       "array([0, 0, 1, ..., 1, 0, 0])"
      ]
     },
     "execution_count": 319,
     "metadata": {},
     "output_type": "execute_result"
    }
   ],
   "source": [
    "y_pred"
   ]
  },
  {
   "cell_type": "code",
   "execution_count": 320,
   "id": "a984e6cf",
   "metadata": {},
   "outputs": [
    {
     "name": "stdout",
     "output_type": "stream",
     "text": [
      "              precision    recall  f1-score   support\n",
      "\n",
      "           0       0.90      0.95      0.92      3104\n",
      "           1       0.83      0.71      0.76      1121\n",
      "\n",
      "    accuracy                           0.88      4225\n",
      "   macro avg       0.86      0.83      0.84      4225\n",
      "weighted avg       0.88      0.88      0.88      4225\n",
      "\n"
     ]
    }
   ],
   "source": [
    "#model evaluation\n",
    "print(classification_report(y_telco_train, rf.predict(X_telco_train)))"
   ]
  },
  {
   "cell_type": "code",
   "execution_count": 321,
   "id": "a9c0c6e3",
   "metadata": {},
   "outputs": [
    {
     "name": "stdout",
     "output_type": "stream",
     "text": [
      "Accuracy of random forest classifier on training set: 0.88\n"
     ]
    }
   ],
   "source": [
    "#evaluate\n",
    "print('Accuracy of random forest classifier on training set: {:.2f}'\n",
    "     .format(rf.score(X_telco_train, y_telco_train)))"
   ]
  },
  {
   "cell_type": "code",
   "execution_count": 322,
   "id": "1d3dacfb",
   "metadata": {},
   "outputs": [
    {
     "data": {
      "text/plain": [
       "4225"
      ]
     },
     "execution_count": 322,
     "metadata": {},
     "output_type": "execute_result"
    }
   ],
   "source": [
    "y_telco_pred.size"
   ]
  },
  {
   "cell_type": "code",
   "execution_count": 323,
   "id": "9b01d1f8",
   "metadata": {},
   "outputs": [
    {
     "data": {
      "text/plain": [
       "4225"
      ]
     },
     "execution_count": 323,
     "metadata": {},
     "output_type": "execute_result"
    }
   ],
   "source": [
    "y_telco_train.size"
   ]
  },
  {
   "cell_type": "code",
   "execution_count": 324,
   "id": "ce20601a",
   "metadata": {},
   "outputs": [
    {
     "data": {
      "text/plain": [
       "array([[2941,  163],\n",
       "       [ 327,  794]])"
      ]
     },
     "execution_count": 324,
     "metadata": {},
     "output_type": "execute_result"
    }
   ],
   "source": [
    "#create a confusion matrix\n",
    "cm = confusion_matrix(y_telco_train, y_pred)\n",
    "cm"
   ]
  },
  {
   "cell_type": "code",
   "execution_count": 325,
   "id": "969057bb",
   "metadata": {},
   "outputs": [
    {
     "data": {
      "image/png": "[encoded data removed]",
      "text/plain": [
       "<Figure size 576x432 with 2 Axes>"
      ]
     },
     "metadata": {
      "needs_background": "light"
     },
     "output_type": "display_data"
    }
   ],
   "source": [
    "#create a confusion matrix\n",
    "disp = ConfusionMatrixDisplay(confusion_matrix=cm, display_labels=rf.classes_)\n",
    "\n",
    "disp.plot()\n",
    "plt.show()"
   ]
  },
  {
   "cell_type": "code",
   "execution_count": 326,
   "id": "d74dfda6",
   "metadata": {},
   "outputs": [
    {
     "data": {
      "text/html": [
       "<div>\n",
       "<style scoped>\n",
       "    .dataframe tbody tr th:only-of-type {\n",
       "        vertical-align: middle;\n",
       "    }\n",
       "\n",
       "    .dataframe tbody tr th {\n",
       "        vertical-align: top;\n",
       "    }\n",
       "\n",
       "    .dataframe thead th {\n",
       "        text-align: right;\n",
       "    }\n",
       "</style>\n",
       "<table border=\"1\" class=\"dataframe\">\n",
       "  <thead>\n",
       "    <tr style=\"text-align: right;\">\n",
       "      <th></th>\n",
       "      <th>0</th>\n",
       "      <th>1</th>\n",
       "      <th>accuracy</th>\n",
       "      <th>macro avg</th>\n",
       "      <th>weighted avg</th>\n",
       "    </tr>\n",
       "  </thead>\n",
       "  <tbody>\n",
       "    <tr>\n",
       "      <th>precision</th>\n",
       "      <td>0.899939</td>\n",
       "      <td>0.829676</td>\n",
       "      <td>0.884024</td>\n",
       "      <td>0.864807</td>\n",
       "      <td>0.881296</td>\n",
       "    </tr>\n",
       "    <tr>\n",
       "      <th>recall</th>\n",
       "      <td>0.947487</td>\n",
       "      <td>0.708296</td>\n",
       "      <td>0.884024</td>\n",
       "      <td>0.827892</td>\n",
       "      <td>0.884024</td>\n",
       "    </tr>\n",
       "    <tr>\n",
       "      <th>f1-score</th>\n",
       "      <td>0.923101</td>\n",
       "      <td>0.764196</td>\n",
       "      <td>0.884024</td>\n",
       "      <td>0.843649</td>\n",
       "      <td>0.880940</td>\n",
       "    </tr>\n",
       "    <tr>\n",
       "      <th>support</th>\n",
       "      <td>3104.000000</td>\n",
       "      <td>1121.000000</td>\n",
       "      <td>0.884024</td>\n",
       "      <td>4225.000000</td>\n",
       "      <td>4225.000000</td>\n",
       "    </tr>\n",
       "  </tbody>\n",
       "</table>\n",
       "</div>"
      ],
      "text/plain": [
       "                     0            1  accuracy    macro avg  weighted avg\n",
       "precision     0.899939     0.829676  0.884024     0.864807      0.881296\n",
       "recall        0.947487     0.708296  0.884024     0.827892      0.884024\n",
       "f1-score      0.923101     0.764196  0.884024     0.843649      0.880940\n",
       "support    3104.000000  1121.000000  0.884024  4225.000000   4225.000000"
      ]
     },
     "execution_count": 326,
     "metadata": {},
     "output_type": "execute_result"
    }
   ],
   "source": [
    "#classification report\n",
    "pd.DataFrame(classification_report(y_telco_train,y_pred,output_dict= True))"
   ]
  },
  {
   "cell_type": "code",
   "execution_count": 327,
   "id": "12ec27fc",
   "metadata": {},
   "outputs": [
    {
     "data": {
      "text/plain": [
       "0.8840236686390532"
      ]
     },
     "execution_count": 327,
     "metadata": {},
     "output_type": "execute_result"
    }
   ],
   "source": [
    "#create classification report\n",
    "rf.score(X_telco_train, y_telco_train)"
   ]
  },
  {
   "cell_type": "code",
   "execution_count": 328,
   "id": "ef0abe15",
   "metadata": {},
   "outputs": [
    {
     "data": {
      "text/plain": [
       "(794, 2941, 163, 327)"
      ]
     },
     "execution_count": 328,
     "metadata": {},
     "output_type": "execute_result"
    }
   ],
   "source": [
    "# We can create our own classification report with a bit more info\n",
    "TN, FP, FN, TP = confusion_matrix(y_telco_train,y_pred).ravel()\n",
    "ALL = TP + TN + FP + FN\n",
    "\n",
    "TP, TN, FP, FN"
   ]
  },
  {
   "cell_type": "code",
   "execution_count": null,
   "id": "a0efa30e",
   "metadata": {},
   "outputs": [],
   "source": []
  },
  {
   "cell_type": "markdown",
   "id": "a5edda78",
   "metadata": {},
   "source": [
    "### (III) Using KNN"
   ]
  },
  {
   "cell_type": "code",
   "execution_count": 329,
   "id": "7e82235c",
   "metadata": {},
   "outputs": [],
   "source": [
    "# make the thing (default value k5)\n",
    "knn1 = KNeighborsClassifier()"
   ]
  },
  {
   "cell_type": "code",
   "execution_count": 330,
   "id": "cd9180f6",
   "metadata": {},
   "outputs": [
    {
     "data": {
      "text/plain": [
       "KNeighborsClassifier()"
      ]
     },
     "execution_count": 330,
     "metadata": {},
     "output_type": "execute_result"
    }
   ],
   "source": [
    "# fit the thing\n",
    "knn1.fit(X_telco_train, y_telco_train)"
   ]
  },
  {
   "cell_type": "code",
   "execution_count": 331,
   "id": "0be53cc7",
   "metadata": {},
   "outputs": [],
   "source": [
    "# use the thing\n",
    "y_pred = knn1.predict(X_telco_train)"
   ]
  },
  {
   "cell_type": "code",
   "execution_count": 332,
   "id": "618d517c",
   "metadata": {},
   "outputs": [
    {
     "data": {
      "text/plain": [
       "array([0, 0, 1, ..., 0, 0, 0])"
      ]
     },
     "execution_count": 332,
     "metadata": {},
     "output_type": "execute_result"
    }
   ],
   "source": [
    "y_pred"
   ]
  },
  {
   "cell_type": "code",
   "execution_count": 333,
   "id": "c131c83f",
   "metadata": {},
   "outputs": [
    {
     "name": "stdout",
     "output_type": "stream",
     "text": [
      "              precision    recall  f1-score   support\n",
      "\n",
      "           0       0.86      0.92      0.89      3104\n",
      "           1       0.73      0.59      0.65      1121\n",
      "\n",
      "    accuracy                           0.83      4225\n",
      "   macro avg       0.80      0.76      0.77      4225\n",
      "weighted avg       0.83      0.83      0.83      4225\n",
      "\n"
     ]
    }
   ],
   "source": [
    "#model evaluation\n",
    "print(classification_report(y_telco_train, knn1.predict(X_telco_train)))"
   ]
  },
  {
   "cell_type": "code",
   "execution_count": 334,
   "id": "8a52ef87",
   "metadata": {},
   "outputs": [
    {
     "data": {
      "text/plain": [
       "array([[2860,  244],\n",
       "       [ 461,  660]])"
      ]
     },
     "execution_count": 334,
     "metadata": {},
     "output_type": "execute_result"
    }
   ],
   "source": [
    "#create a confusion matrix\n",
    "cm = confusion_matrix(y_telco_train, y_pred)\n",
    "cm"
   ]
  },
  {
   "cell_type": "code",
   "execution_count": 335,
   "id": "83d35461",
   "metadata": {},
   "outputs": [
    {
     "data": {
      "image/png": "[encoded data removed]",
      "text/plain": [
       "<Figure size 576x432 with 2 Axes>"
      ]
     },
     "metadata": {
      "needs_background": "light"
     },
     "output_type": "display_data"
    }
   ],
   "source": [
    "#create a confusion matrix\n",
    "disp = ConfusionMatrixDisplay(confusion_matrix=cm, display_labels=knn1.classes_)\n",
    "\n",
    "disp.plot()\n",
    "plt.show()"
   ]
  },
  {
   "cell_type": "code",
   "execution_count": 336,
   "id": "822fe0dd",
   "metadata": {},
   "outputs": [
    {
     "data": {
      "text/html": [
       "<div>\n",
       "<style scoped>\n",
       "    .dataframe tbody tr th:only-of-type {\n",
       "        vertical-align: middle;\n",
       "    }\n",
       "\n",
       "    .dataframe tbody tr th {\n",
       "        vertical-align: top;\n",
       "    }\n",
       "\n",
       "    .dataframe thead th {\n",
       "        text-align: right;\n",
       "    }\n",
       "</style>\n",
       "<table border=\"1\" class=\"dataframe\">\n",
       "  <thead>\n",
       "    <tr style=\"text-align: right;\">\n",
       "      <th></th>\n",
       "      <th>0</th>\n",
       "      <th>1</th>\n",
       "      <th>accuracy</th>\n",
       "      <th>macro avg</th>\n",
       "      <th>weighted avg</th>\n",
       "    </tr>\n",
       "  </thead>\n",
       "  <tbody>\n",
       "    <tr>\n",
       "      <th>precision</th>\n",
       "      <td>0.861186</td>\n",
       "      <td>0.730088</td>\n",
       "      <td>0.833136</td>\n",
       "      <td>0.795637</td>\n",
       "      <td>0.826403</td>\n",
       "    </tr>\n",
       "    <tr>\n",
       "      <th>recall</th>\n",
       "      <td>0.921392</td>\n",
       "      <td>0.588760</td>\n",
       "      <td>0.833136</td>\n",
       "      <td>0.755076</td>\n",
       "      <td>0.833136</td>\n",
       "    </tr>\n",
       "    <tr>\n",
       "      <th>f1-score</th>\n",
       "      <td>0.890272</td>\n",
       "      <td>0.651852</td>\n",
       "      <td>0.833136</td>\n",
       "      <td>0.771062</td>\n",
       "      <td>0.827013</td>\n",
       "    </tr>\n",
       "    <tr>\n",
       "      <th>support</th>\n",
       "      <td>3104.000000</td>\n",
       "      <td>1121.000000</td>\n",
       "      <td>0.833136</td>\n",
       "      <td>4225.000000</td>\n",
       "      <td>4225.000000</td>\n",
       "    </tr>\n",
       "  </tbody>\n",
       "</table>\n",
       "</div>"
      ],
      "text/plain": [
       "                     0            1  accuracy    macro avg  weighted avg\n",
       "precision     0.861186     0.730088  0.833136     0.795637      0.826403\n",
       "recall        0.921392     0.588760  0.833136     0.755076      0.833136\n",
       "f1-score      0.890272     0.651852  0.833136     0.771062      0.827013\n",
       "support    3104.000000  1121.000000  0.833136  4225.000000   4225.000000"
      ]
     },
     "execution_count": 336,
     "metadata": {},
     "output_type": "execute_result"
    }
   ],
   "source": [
    "#classification report\n",
    "pd.DataFrame(classification_report(y_telco_train,y_pred,output_dict= True))"
   ]
  },
  {
   "cell_type": "code",
   "execution_count": 337,
   "id": "8c920c0a",
   "metadata": {},
   "outputs": [
    {
     "data": {
      "text/plain": [
       "(660, 2860, 244, 461)"
      ]
     },
     "execution_count": 337,
     "metadata": {},
     "output_type": "execute_result"
    }
   ],
   "source": [
    "# We can create our own classification report with a bit more info\n",
    "TN, FP, FN, TP = confusion_matrix(y_telco_train,y_pred).ravel()\n",
    "ALL = TP + TN + FP + FN\n",
    "\n",
    "TP, TN, FP, FN"
   ]
  },
  {
   "cell_type": "markdown",
   "id": "9498b582",
   "metadata": {},
   "source": [
    "### Build a Model to Test Multiple Types of Models as MVPs\n",
    "- Create a model.\n",
    "- Fit to train.\n",
    "- Score model."
   ]
  },
  {
   "cell_type": "code",
   "execution_count": 338,
   "id": "6af58c35",
   "metadata": {},
   "outputs": [],
   "source": [
    "def score_models(X_telco_train, y_telco_train, X_telco_validate, y_telco_validate):\n",
    "    '''\n",
    "    Score multiple models on train and validate datasets.\n",
    "    Print classification reports to decide on a model to test.\n",
    "    Return each trained model, so I can choose one to test.\n",
    "    models = dt_model1, rf_model, knn1_model.\n",
    "    '''\n",
    "    dt_model1 = DecisionTreeClassifier(max_depth = 1, random_state = 123)\n",
    "    rf_model = RandomForestClassifier(min_samples_leaf = 1, max_depth = 10)\n",
    "    knn1_model = KNeighborsClassifier()\n",
    "    models = [dt_model1, rf_model, knn1_model]\n",
    "    for model in models:\n",
    "        model.fit(X_telco_train, y_telco_train)\n",
    "        actual_train = y_telco_train\n",
    "        predicted_train = model.predict(X_telco_train)\n",
    "        actual_validate = y_telco_validate\n",
    "        predicted_validate = model.predict(X_telco_validate)\n",
    "        print(model)\n",
    "        print('')\n",
    "        print('train score: ')\n",
    "        print(classification_report(actual_train, predicted_train))\n",
    "        print('validate score: ')\n",
    "        print(classification_report(actual_validate, predicted_validate))\n",
    "        print('________________________')\n",
    "        print('')\n",
    "    return dt_model1, rf_model, knn1_model\n"
   ]
  },
  {
   "cell_type": "code",
   "execution_count": 339,
   "id": "02fdc363",
   "metadata": {},
   "outputs": [
    {
     "name": "stdout",
     "output_type": "stream",
     "text": [
      "DecisionTreeClassifier(max_depth=1, random_state=123)\n",
      "\n",
      "train score: \n",
      "              precision    recall  f1-score   support\n",
      "\n",
      "           0       0.73      1.00      0.85      3104\n",
      "           1       0.00      0.00      0.00      1121\n",
      "\n",
      "    accuracy                           0.73      4225\n",
      "   macro avg       0.37      0.50      0.42      4225\n",
      "weighted avg       0.54      0.73      0.62      4225\n",
      "\n",
      "validate score: \n",
      "              precision    recall  f1-score   support\n",
      "\n",
      "           0       0.73      1.00      0.85      1035\n",
      "           1       0.00      0.00      0.00       374\n",
      "\n",
      "    accuracy                           0.73      1409\n",
      "   macro avg       0.37      0.50      0.42      1409\n",
      "weighted avg       0.54      0.73      0.62      1409\n",
      "\n",
      "________________________\n",
      "\n",
      "RandomForestClassifier(max_depth=10)\n",
      "\n",
      "train score: \n",
      "              precision    recall  f1-score   support\n",
      "\n",
      "           0       0.90      0.95      0.92      3104\n",
      "           1       0.83      0.71      0.76      1121\n",
      "\n",
      "    accuracy                           0.88      4225\n",
      "   macro avg       0.87      0.83      0.84      4225\n",
      "weighted avg       0.88      0.88      0.88      4225\n",
      "\n",
      "validate score: \n",
      "              precision    recall  f1-score   support\n",
      "\n",
      "           0       0.84      0.89      0.87      1035\n",
      "           1       0.64      0.55      0.59       374\n",
      "\n",
      "    accuracy                           0.80      1409\n",
      "   macro avg       0.74      0.72      0.73      1409\n",
      "weighted avg       0.79      0.80      0.79      1409\n",
      "\n",
      "________________________\n",
      "\n",
      "KNeighborsClassifier()\n",
      "\n",
      "train score: \n",
      "              precision    recall  f1-score   support\n",
      "\n",
      "           0       0.86      0.92      0.89      3104\n",
      "           1       0.73      0.59      0.65      1121\n",
      "\n",
      "    accuracy                           0.83      4225\n",
      "   macro avg       0.80      0.76      0.77      4225\n",
      "weighted avg       0.83      0.83      0.83      4225\n",
      "\n",
      "validate score: \n",
      "              precision    recall  f1-score   support\n",
      "\n",
      "           0       0.82      0.89      0.85      1035\n",
      "           1       0.60      0.47      0.53       374\n",
      "\n",
      "    accuracy                           0.78      1409\n",
      "   macro avg       0.71      0.68      0.69      1409\n",
      "weighted avg       0.76      0.78      0.77      1409\n",
      "\n",
      "________________________\n",
      "\n"
     ]
    }
   ],
   "source": [
    "dt_model1, rf_model, knn1_model = score_models(X_telco_train, y_telco_train, X_telco_validate, y_telco_validate)"
   ]
  },
  {
   "cell_type": "markdown",
   "id": "85e5ca4d",
   "metadata": {},
   "source": [
    "## Test"
   ]
  },
  {
   "cell_type": "code",
   "execution_count": 340,
   "id": "f944a7d9",
   "metadata": {},
   "outputs": [
    {
     "name": "stdout",
     "output_type": "stream",
     "text": [
      "Accuracy of Decision Tree classifier on test set: 0.73\n"
     ]
    }
   ],
   "source": [
    "print('Accuracy of Decision Tree classifier on test set: {:.2f}'\n",
    "     .format(clf.score(X_telco_test, y_telco_test)))"
   ]
  },
  {
   "cell_type": "code",
   "execution_count": 341,
   "id": "bf8e0154",
   "metadata": {},
   "outputs": [
    {
     "name": "stdout",
     "output_type": "stream",
     "text": [
      "Accuracy of Random Forest Classifier on test set: 0.80\n"
     ]
    }
   ],
   "source": [
    "print('Accuracy of Random Forest Classifier on test set: {:.2f}'\n",
    "     .format(rf.score(X_telco_test, y_telco_test)))"
   ]
  },
  {
   "cell_type": "code",
   "execution_count": 342,
   "id": "6170a4e4",
   "metadata": {},
   "outputs": [
    {
     "name": "stdout",
     "output_type": "stream",
     "text": [
      "Accuracy of KNN classifier on test set: 0.77\n"
     ]
    }
   ],
   "source": [
    "print('Accuracy of KNN classifier on test set: {:.2f}'\n",
    "     .format(knn1.score(X_telco_test, y_telco_test)))"
   ]
  },
  {
   "cell_type": "markdown",
   "id": "e3c42043",
   "metadata": {},
   "source": [
    "- When we run the test data, the accuracy for the Decision tree model1 train is maintained at 73%. Therefore, the model has no data overfit.\n",
    "\n",
    "- When we run the test data, the accuracy for the Randon Forest dropped from 89% to 81%. Therefore, the model overfit the data.\n",
    "\n",
    "- When we run the test data, the accuracy for the KNN model train dropped from 78% to 77%. Therefore, the model overfit the data.\n",
    "\n",
    "- The decision tree is now selected as the final model, as it does not appear to overfit the data."
   ]
  },
  {
   "cell_type": "markdown",
   "id": "2886910b",
   "metadata": {},
   "source": [
    "\n",
    "### Best Model\n",
    "### As per above scores multiple models, decision tree model1 at an accuracy level of 73% performs better on my in-sample data with a baseline percentage of 73."
   ]
  },
  {
   "cell_type": "markdown",
   "id": "e198633e",
   "metadata": {},
   "source": [
    "## Create CSV file with selected model"
   ]
  },
  {
   "cell_type": "code",
   "execution_count": 343,
   "id": "739d9fa0",
   "metadata": {},
   "outputs": [],
   "source": [
    "# X is indepedent variables\n",
    "# y is target variable\n",
    "\n",
    "# x and y train\n",
    "X_telco_train = telco_train.drop(columns = 'churn_encoded')\n",
    "y_telco_train = telco_train.churn_encoded\n",
    "\n",
    "# x and y validate\n",
    "X_telco_validate = telco_validate.drop(columns = 'churn_encoded')\n",
    "y_telco_validate = telco_validate.churn_encoded\n",
    "\n",
    "# x and y test\n",
    "X_telco_test = telco_test.drop(columns = 'churn_encoded')\n",
    "y_telco_test = telco_test.churn_encoded"
   ]
  },
  {
   "cell_type": "code",
   "execution_count": 344,
   "id": "035725d2",
   "metadata": {},
   "outputs": [
    {
     "name": "stdout",
     "output_type": "stream",
     "text": [
      "training score: 73.47%\n",
      "validate score: 73.46%\n"
     ]
    }
   ],
   "source": [
    "# make the thing\n",
    "model1 = DecisionTreeClassifier(max_depth=1)\n",
    "# fit the thing\n",
    "model1.fit(X_telco_train, y_telco_train)\n",
    "# use the thing\n",
    "print(f'training score: {model1.score(X_telco_train, y_telco_train):.2%}')\n",
    "print(f'validate score: {model1.score(X_telco_validate, y_telco_validate):.2%}')\n",
    "y_pred_DT_test = model1.predict(X_telco_test)\n",
    "y_proba_DT_test = model1.predict_proba(X_telco_test)\n",
    "X_telco_test[\"1_churn_encoded_proba\"] = pd.DataFrame(y_proba_DT_test)[1].values\n",
    "X_telco_test[\"prediction\"] = y_pred_DT_test\n",
    "X_telco_test[\"customer_id\"] = df0.customer_id\n",
    "X_telco_test = X_telco_test[X_telco_test.columns.intersection([\"customer_id\",\"prediction\",\"1_churn_encoded_proba\"])]\n",
    "#df0 = df0.drop(columns = ['Unnamed:0'])\n",
    "X_telco_test.to_csv(\"predictions.csv\")"
   ]
  },
  {
   "cell_type": "code",
   "execution_count": 347,
   "id": "f57a8263",
   "metadata": {},
   "outputs": [
    {
     "data": {
      "text/html": [
       "<div>\n",
       "<style scoped>\n",
       "    .dataframe tbody tr th:only-of-type {\n",
       "        vertical-align: middle;\n",
       "    }\n",
       "\n",
       "    .dataframe tbody tr th {\n",
       "        vertical-align: top;\n",
       "    }\n",
       "\n",
       "    .dataframe thead th {\n",
       "        text-align: right;\n",
       "    }\n",
       "</style>\n",
       "<table border=\"1\" class=\"dataframe\">\n",
       "  <thead>\n",
       "    <tr style=\"text-align: right;\">\n",
       "      <th></th>\n",
       "      <th>1_churn_encoded_proba</th>\n",
       "      <th>prediction</th>\n",
       "      <th>customer_id</th>\n",
       "    </tr>\n",
       "  </thead>\n",
       "  <tbody>\n",
       "    <tr>\n",
       "      <th>3160</th>\n",
       "      <td>0.068658</td>\n",
       "      <td>0</td>\n",
       "      <td>4531-AUZNK</td>\n",
       "    </tr>\n",
       "    <tr>\n",
       "      <th>1577</th>\n",
       "      <td>0.068658</td>\n",
       "      <td>0</td>\n",
       "      <td>2296-DKZFP</td>\n",
       "    </tr>\n",
       "    <tr>\n",
       "      <th>6823</th>\n",
       "      <td>0.427277</td>\n",
       "      <td>0</td>\n",
       "      <td>9692-TUSXH</td>\n",
       "    </tr>\n",
       "    <tr>\n",
       "      <th>3615</th>\n",
       "      <td>0.427277</td>\n",
       "      <td>0</td>\n",
       "      <td>5129-JLPIS</td>\n",
       "    </tr>\n",
       "    <tr>\n",
       "      <th>882</th>\n",
       "      <td>0.427277</td>\n",
       "      <td>0</td>\n",
       "      <td>1273-MTETI</td>\n",
       "    </tr>\n",
       "    <tr>\n",
       "      <th>...</th>\n",
       "      <td>...</td>\n",
       "      <td>...</td>\n",
       "      <td>...</td>\n",
       "    </tr>\n",
       "    <tr>\n",
       "      <th>1097</th>\n",
       "      <td>0.427277</td>\n",
       "      <td>0</td>\n",
       "      <td>1597-FZREH</td>\n",
       "    </tr>\n",
       "    <tr>\n",
       "      <th>6441</th>\n",
       "      <td>0.427277</td>\n",
       "      <td>0</td>\n",
       "      <td>9117-SHLZX</td>\n",
       "    </tr>\n",
       "    <tr>\n",
       "      <th>5985</th>\n",
       "      <td>0.068658</td>\n",
       "      <td>0</td>\n",
       "      <td>8441-SHIPE</td>\n",
       "    </tr>\n",
       "    <tr>\n",
       "      <th>2452</th>\n",
       "      <td>0.068658</td>\n",
       "      <td>0</td>\n",
       "      <td>3511-BFTJW</td>\n",
       "    </tr>\n",
       "    <tr>\n",
       "      <th>983</th>\n",
       "      <td>0.427277</td>\n",
       "      <td>0</td>\n",
       "      <td>1428-GTBJJ</td>\n",
       "    </tr>\n",
       "  </tbody>\n",
       "</table>\n",
       "<p>1409 rows × 3 columns</p>\n",
       "</div>"
      ],
      "text/plain": [
       "      1_churn_encoded_proba  prediction customer_id\n",
       "3160               0.068658           0  4531-AUZNK\n",
       "1577               0.068658           0  2296-DKZFP\n",
       "6823               0.427277           0  9692-TUSXH\n",
       "3615               0.427277           0  5129-JLPIS\n",
       "882                0.427277           0  1273-MTETI\n",
       "...                     ...         ...         ...\n",
       "1097               0.427277           0  1597-FZREH\n",
       "6441               0.427277           0  9117-SHLZX\n",
       "5985               0.068658           0  8441-SHIPE\n",
       "2452               0.068658           0  3511-BFTJW\n",
       "983                0.427277           0  1428-GTBJJ\n",
       "\n",
       "[1409 rows x 3 columns]"
      ]
     },
     "execution_count": 347,
     "metadata": {},
     "output_type": "execute_result"
    }
   ],
   "source": [
    "X_telco_test"
   ]
  },
  {
   "cell_type": "code",
   "execution_count": 349,
   "id": "63c62c34",
   "metadata": {},
   "outputs": [],
   "source": [
    "X_telco_test.to_csv(\"predictions.csv\", index = False)"
   ]
  },
  {
   "cell_type": "code",
   "execution_count": 350,
   "id": "6d88ec65",
   "metadata": {},
   "outputs": [
    {
     "data": {
      "text/html": [
       "<div>\n",
       "<style scoped>\n",
       "    .dataframe tbody tr th:only-of-type {\n",
       "        vertical-align: middle;\n",
       "    }\n",
       "\n",
       "    .dataframe tbody tr th {\n",
       "        vertical-align: top;\n",
       "    }\n",
       "\n",
       "    .dataframe thead th {\n",
       "        text-align: right;\n",
       "    }\n",
       "</style>\n",
       "<table border=\"1\" class=\"dataframe\">\n",
       "  <thead>\n",
       "    <tr style=\"text-align: right;\">\n",
       "      <th></th>\n",
       "      <th>1_churn_encoded_proba</th>\n",
       "      <th>prediction</th>\n",
       "      <th>customer_id</th>\n",
       "    </tr>\n",
       "  </thead>\n",
       "  <tbody>\n",
       "    <tr>\n",
       "      <th>0</th>\n",
       "      <td>0.068658</td>\n",
       "      <td>0</td>\n",
       "      <td>4531-AUZNK</td>\n",
       "    </tr>\n",
       "    <tr>\n",
       "      <th>1</th>\n",
       "      <td>0.068658</td>\n",
       "      <td>0</td>\n",
       "      <td>2296-DKZFP</td>\n",
       "    </tr>\n",
       "    <tr>\n",
       "      <th>2</th>\n",
       "      <td>0.427277</td>\n",
       "      <td>0</td>\n",
       "      <td>9692-TUSXH</td>\n",
       "    </tr>\n",
       "    <tr>\n",
       "      <th>3</th>\n",
       "      <td>0.427277</td>\n",
       "      <td>0</td>\n",
       "      <td>5129-JLPIS</td>\n",
       "    </tr>\n",
       "    <tr>\n",
       "      <th>4</th>\n",
       "      <td>0.427277</td>\n",
       "      <td>0</td>\n",
       "      <td>1273-MTETI</td>\n",
       "    </tr>\n",
       "    <tr>\n",
       "      <th>...</th>\n",
       "      <td>...</td>\n",
       "      <td>...</td>\n",
       "      <td>...</td>\n",
       "    </tr>\n",
       "    <tr>\n",
       "      <th>1404</th>\n",
       "      <td>0.427277</td>\n",
       "      <td>0</td>\n",
       "      <td>1597-FZREH</td>\n",
       "    </tr>\n",
       "    <tr>\n",
       "      <th>1405</th>\n",
       "      <td>0.427277</td>\n",
       "      <td>0</td>\n",
       "      <td>9117-SHLZX</td>\n",
       "    </tr>\n",
       "    <tr>\n",
       "      <th>1406</th>\n",
       "      <td>0.068658</td>\n",
       "      <td>0</td>\n",
       "      <td>8441-SHIPE</td>\n",
       "    </tr>\n",
       "    <tr>\n",
       "      <th>1407</th>\n",
       "      <td>0.068658</td>\n",
       "      <td>0</td>\n",
       "      <td>3511-BFTJW</td>\n",
       "    </tr>\n",
       "    <tr>\n",
       "      <th>1408</th>\n",
       "      <td>0.427277</td>\n",
       "      <td>0</td>\n",
       "      <td>1428-GTBJJ</td>\n",
       "    </tr>\n",
       "  </tbody>\n",
       "</table>\n",
       "<p>1409 rows × 3 columns</p>\n",
       "</div>"
      ],
      "text/plain": [
       "      1_churn_encoded_proba  prediction customer_id\n",
       "0                  0.068658           0  4531-AUZNK\n",
       "1                  0.068658           0  2296-DKZFP\n",
       "2                  0.427277           0  9692-TUSXH\n",
       "3                  0.427277           0  5129-JLPIS\n",
       "4                  0.427277           0  1273-MTETI\n",
       "...                     ...         ...         ...\n",
       "1404               0.427277           0  1597-FZREH\n",
       "1405               0.427277           0  9117-SHLZX\n",
       "1406               0.068658           0  8441-SHIPE\n",
       "1407               0.068658           0  3511-BFTJW\n",
       "1408               0.427277           0  1428-GTBJJ\n",
       "\n",
       "[1409 rows x 3 columns]"
      ]
     },
     "execution_count": 350,
     "metadata": {},
     "output_type": "execute_result"
    }
   ],
   "source": [
    "check = pd.read_csv(\"predictions.csv\")\n",
    "check"
   ]
  },
  {
   "cell_type": "code",
   "execution_count": 192,
   "id": "cf5fce8b",
   "metadata": {},
   "outputs": [],
   "source": [
    "# for classification you can change the algorithm to gini or entropy (information gain).  \n",
    "# Default is gini.\n",
    "\n",
    "clf = DecisionTreeClassifier(max_depth=1, random_state=123)\n"
   ]
  },
  {
   "cell_type": "code",
   "execution_count": 193,
   "id": "ce12e8fb",
   "metadata": {},
   "outputs": [],
   "source": [
    "# model1.fit(X, y)\n",
    "\n",
    "clf = clf.fit(X_telco_train, y_telco_train)\n"
   ]
  },
  {
   "cell_type": "code",
   "execution_count": 194,
   "id": "40a5a818",
   "metadata": {},
   "outputs": [
    {
     "data": {
      "text/plain": [
       "array([0, 0, 0, ..., 0, 0, 0])"
      ]
     },
     "execution_count": 194,
     "metadata": {},
     "output_type": "execute_result"
    }
   ],
   "source": [
    "# make prediction on train obeservations\n",
    "\n",
    "y_telco_pred_proba = clf.predict(X_telco_train)\n",
    "y_telco_pred_proba"
   ]
  },
  {
   "cell_type": "code",
   "execution_count": null,
   "id": "1692b33d",
   "metadata": {},
   "outputs": [],
   "source": []
  },
  {
   "cell_type": "code",
   "execution_count": 195,
   "id": "1493bd10",
   "metadata": {},
   "outputs": [],
   "source": [
    "# create dataframes with the indexes\n",
    "df_y_telco_pred = pd.DataFrame(y_telco_pred).set_index(X_telco_train.index)\n",
    "df_y_telco_pred_proba = pd.DataFrame(y_telco_pred_proba).set_index(X_telco_train.index)\n",
    "df_id = df0[\"customer_id\"]"
   ]
  },
  {
   "cell_type": "code",
   "execution_count": 196,
   "id": "c0162e31",
   "metadata": {},
   "outputs": [],
   "source": [
    "#clf, y_pred, y_pred_proba = model.clf(X_train1, y_train1)\n",
    "# recreate decision tree model\n",
    "#clf, y_telco_pred, y_telco_pred_proba = clf.predict(X_telco_train, y_telco_train)"
   ]
  },
  {
   "cell_type": "markdown",
   "id": "28ea223e",
   "metadata": {},
   "source": [
    "## IV. Data Exploration"
   ]
  },
  {
   "cell_type": "code",
   "execution_count": 197,
   "id": "1a68628e",
   "metadata": {},
   "outputs": [
    {
     "data": {
      "text/plain": [
       "(Index(['payment_type_id', 'internet_service_type_id', 'contract_type_id',\n",
       "        'senior_citizen', 'tenure', 'monthly_charges', 'total_charges',\n",
       "        'gender_encoded', 'partner_encoded', 'dependents_encoded',\n",
       "        'phone_service_encoded', 'paperless_billing_encoded', 'churn_encoded',\n",
       "        'multiple_lines_No phone service', 'multiple_lines_Yes',\n",
       "        'online_security_No internet service', 'online_security_Yes',\n",
       "        'online_backup_No internet service', 'online_backup_Yes',\n",
       "        'device_protection_No internet service', 'device_protection_Yes',\n",
       "        'tech_support_No internet service', 'tech_support_Yes',\n",
       "        'streaming_tv_No internet service', 'streaming_tv_Yes',\n",
       "        'streaming_movies_No internet service', 'streaming_movies_Yes',\n",
       "        'contract_type_One year', 'contract_type_Two year',\n",
       "        'internet_service_type_Fiber optic', 'internet_service_type_None',\n",
       "        'payment_type_Credit card (automatic)', 'payment_type_Electronic check',\n",
       "        'payment_type_Mailed check'],\n",
       "       dtype='object'),\n",
       " Index(['payment_type_id', 'internet_service_type_id', 'contract_type_id',\n",
       "        'senior_citizen', 'tenure', 'monthly_charges', 'total_charges',\n",
       "        'gender_encoded', 'partner_encoded', 'dependents_encoded',\n",
       "        'phone_service_encoded', 'paperless_billing_encoded', 'churn_encoded',\n",
       "        'multiple_lines_No phone service', 'multiple_lines_Yes',\n",
       "        'online_security_No internet service', 'online_security_Yes',\n",
       "        'online_backup_No internet service', 'online_backup_Yes',\n",
       "        'device_protection_No internet service', 'device_protection_Yes',\n",
       "        'tech_support_No internet service', 'tech_support_Yes',\n",
       "        'streaming_tv_No internet service', 'streaming_tv_Yes',\n",
       "        'streaming_movies_No internet service', 'streaming_movies_Yes',\n",
       "        'contract_type_One year', 'contract_type_Two year',\n",
       "        'internet_service_type_Fiber optic', 'internet_service_type_None',\n",
       "        'payment_type_Credit card (automatic)', 'payment_type_Electronic check',\n",
       "        'payment_type_Mailed check'],\n",
       "       dtype='object'))"
      ]
     },
     "execution_count": 197,
     "metadata": {},
     "output_type": "execute_result"
    }
   ],
   "source": [
    "telco_train.columns, telco_validate.columns\n"
   ]
  },
  {
   "cell_type": "markdown",
   "id": "29022459",
   "metadata": {},
   "source": [
    "### Attributes and drivers of customers churning"
   ]
  },
  {
   "cell_type": "code",
   "execution_count": 198,
   "id": "269fd1a8",
   "metadata": {},
   "outputs": [
    {
     "name": "stdout",
     "output_type": "stream",
     "text": [
      "churn_encoded                            1.000000\n",
      "internet_service_type_Fiber optic        0.303352\n",
      "payment_type_Electronic check            0.301090\n",
      "monthly_charges                          0.188467\n",
      "paperless_billing_encoded                0.188077\n",
      "senior_citizen                           0.139013\n",
      "streaming_movies_Yes                     0.063197\n",
      "streaming_tv_Yes                         0.056389\n",
      "multiple_lines_Yes                       0.038528\n",
      "phone_service_encoded                    0.011578\n",
      "gender_encoded                           0.008381\n",
      "multiple_lines_No phone service         -0.011578\n",
      "internet_service_type_id                -0.044251\n",
      "device_protection_Yes                   -0.063436\n",
      "payment_type_Mailed check               -0.080974\n",
      "online_backup_Yes                       -0.090380\n",
      "payment_type_Credit card (automatic)    -0.128428\n",
      "tech_support_Yes                        -0.153070\n",
      "partner_encoded                         -0.159401\n",
      "online_security_Yes                     -0.162633\n",
      "dependents_encoded                      -0.163208\n",
      "contract_type_One year                  -0.187877\n",
      "total_charges                           -0.192130\n",
      "internet_service_type_None              -0.221720\n",
      "streaming_movies_No internet service    -0.221720\n",
      "online_backup_No internet service       -0.221720\n",
      "streaming_tv_No internet service        -0.221720\n",
      "tech_support_No internet service        -0.221720\n",
      "device_protection_No internet service   -0.221720\n",
      "online_security_No internet service     -0.221720\n",
      "payment_type_id                         -0.263817\n",
      "contract_type_Two year                  -0.291850\n",
      "tenure                                  -0.348330\n",
      "contract_type_id                        -0.392391\n",
      "Name: churn_encoded, dtype: float64\n"
     ]
    }
   ],
   "source": [
    "corr=telco_train.corr()\n",
    "corr.sort_values(['churn_encoded'], ascending = False, inplace = True)\n",
    "print(corr.churn_encoded)"
   ]
  },
  {
   "cell_type": "markdown",
   "id": "ec6070cd",
   "metadata": {},
   "source": [
    "## From the above data\n",
    "### Strongest drivers of customers churning \n",
    "- internet_service_type_Fiber optic        \n",
    "- payment_type_Electronic check            \n",
    "- monthly_charges                          \n",
    "- paperless_billing_encoded                \n",
    "- senior_citizen                           \n",
    "- streaming_movies_Yes                     \n",
    "- streaming_tv_Yes                         \n",
    "- multiple_lines_Yes\n",
    "\n",
    "### Strongest drivers of customers retention \n",
    "- payment_type_id                         \n",
    "- contract_type_Two year                  \n",
    "- tenure                                  \n",
    "- contract_type_id  \n",
    "- contract_type_One year\n",
    "- total_charges"
   ]
  },
  {
   "cell_type": "markdown",
   "id": "070a3d28",
   "metadata": {},
   "source": [
    "## Exploratory questions"
   ]
  },
  {
   "cell_type": "markdown",
   "id": "323b7deb",
   "metadata": {},
   "source": [
    "- What is the Churn rate?\n",
    "### Positive Correlation\n",
    "- How does internet_service_type_id correlate to customers churn?\n",
    "- How does payment type Electronic check correlate to customers churn?\n",
    "- How does paperless billing encoded correlate to customers churn?\n",
    "- How does senior citizen correlate to churn?\n",
    "- How does streaming movies correlate to churn?\n",
    "- How does streaming tv correlate to churn?\n",
    "- How does multiple lines correlate to churn?\n",
    "- How does gender correlate to churn?\n",
    "\n",
    "### Negative Correlation\n",
    "- How does online_security No internet service correlate to churn?\n",
    "- How does customers with contract type two year correlate to churn?\n",
    "- How does tenure correlate to customers churning?\n",
    "- How does customers with contract type id correlate to churn?\n",
    "- How does customers with contract type one year correlate to churn?\n",
    "- How does total charges correlate to churn?\n",
    "\n",
    "### Given the above questions, we can now begin to prepare and analyze data.\n"
   ]
  },
  {
   "cell_type": "markdown",
   "id": "e28902f5",
   "metadata": {},
   "source": [
    "### 1. What is the Churn rate?"
   ]
  },
  {
   "cell_type": "code",
   "execution_count": 199,
   "id": "0728d806",
   "metadata": {},
   "outputs": [
    {
     "name": "stdout",
     "output_type": "stream",
     "text": [
      "Churn percentage 26.529999999999998%\n"
     ]
    }
   ],
   "source": [
    "print(f'Churn percentage {round(telco_train.churn_encoded.mean(),4)*100}%')"
   ]
  },
  {
   "cell_type": "code",
   "execution_count": 200,
   "id": "3e7c230f",
   "metadata": {},
   "outputs": [
    {
     "data": {
      "image/png": "[encoded data removed]",
      "text/plain": [
       "<Figure size 576x432 with 1 Axes>"
      ]
     },
     "metadata": {},
     "output_type": "display_data"
    }
   ],
   "source": [
    "y = telco_train.churn_encoded.value_counts()\n",
    "plt.pie(y,labels=['No Churn','Churn'] ,explode= [0,0.2], autopct='%.2f%%')\n",
    "plt.show()"
   ]
  },
  {
   "cell_type": "code",
   "execution_count": 201,
   "id": "a25a11f0",
   "metadata": {},
   "outputs": [
    {
     "data": {
      "text/html": [
       "<div>\n",
       "<style scoped>\n",
       "    .dataframe tbody tr th:only-of-type {\n",
       "        vertical-align: middle;\n",
       "    }\n",
       "\n",
       "    .dataframe tbody tr th {\n",
       "        vertical-align: top;\n",
       "    }\n",
       "\n",
       "    .dataframe thead th {\n",
       "        text-align: right;\n",
       "    }\n",
       "</style>\n",
       "<table border=\"1\" class=\"dataframe\">\n",
       "  <thead>\n",
       "    <tr style=\"text-align: right;\">\n",
       "      <th></th>\n",
       "      <th>5911</th>\n",
       "      <th>2479</th>\n",
       "      <th>5889</th>\n",
       "      <th>6087</th>\n",
       "      <th>785</th>\n",
       "    </tr>\n",
       "  </thead>\n",
       "  <tbody>\n",
       "    <tr>\n",
       "      <th>payment_type_id</th>\n",
       "      <td>3.00</td>\n",
       "      <td>1.00</td>\n",
       "      <td>2.00</td>\n",
       "      <td>3.00</td>\n",
       "      <td>4.00</td>\n",
       "    </tr>\n",
       "    <tr>\n",
       "      <th>internet_service_type_id</th>\n",
       "      <td>1.00</td>\n",
       "      <td>3.00</td>\n",
       "      <td>1.00</td>\n",
       "      <td>1.00</td>\n",
       "      <td>2.00</td>\n",
       "    </tr>\n",
       "    <tr>\n",
       "      <th>contract_type_id</th>\n",
       "      <td>2.00</td>\n",
       "      <td>2.00</td>\n",
       "      <td>1.00</td>\n",
       "      <td>3.00</td>\n",
       "      <td>2.00</td>\n",
       "    </tr>\n",
       "    <tr>\n",
       "      <th>senior_citizen</th>\n",
       "      <td>0.00</td>\n",
       "      <td>0.00</td>\n",
       "      <td>0.00</td>\n",
       "      <td>0.00</td>\n",
       "      <td>0.00</td>\n",
       "    </tr>\n",
       "    <tr>\n",
       "      <th>tenure</th>\n",
       "      <td>26.00</td>\n",
       "      <td>47.00</td>\n",
       "      <td>1.00</td>\n",
       "      <td>69.00</td>\n",
       "      <td>51.00</td>\n",
       "    </tr>\n",
       "    <tr>\n",
       "      <th>monthly_charges</th>\n",
       "      <td>39.95</td>\n",
       "      <td>26.90</td>\n",
       "      <td>50.45</td>\n",
       "      <td>60.05</td>\n",
       "      <td>87.55</td>\n",
       "    </tr>\n",
       "    <tr>\n",
       "      <th>total_charges</th>\n",
       "      <td>1023.75</td>\n",
       "      <td>1250.85</td>\n",
       "      <td>50.45</td>\n",
       "      <td>4176.70</td>\n",
       "      <td>4475.90</td>\n",
       "    </tr>\n",
       "    <tr>\n",
       "      <th>gender_encoded</th>\n",
       "      <td>1.00</td>\n",
       "      <td>0.00</td>\n",
       "      <td>0.00</td>\n",
       "      <td>1.00</td>\n",
       "      <td>0.00</td>\n",
       "    </tr>\n",
       "    <tr>\n",
       "      <th>partner_encoded</th>\n",
       "      <td>0.00</td>\n",
       "      <td>1.00</td>\n",
       "      <td>0.00</td>\n",
       "      <td>0.00</td>\n",
       "      <td>0.00</td>\n",
       "    </tr>\n",
       "    <tr>\n",
       "      <th>dependents_encoded</th>\n",
       "      <td>1.00</td>\n",
       "      <td>0.00</td>\n",
       "      <td>0.00</td>\n",
       "      <td>0.00</td>\n",
       "      <td>0.00</td>\n",
       "    </tr>\n",
       "    <tr>\n",
       "      <th>phone_service_encoded</th>\n",
       "      <td>0.00</td>\n",
       "      <td>1.00</td>\n",
       "      <td>1.00</td>\n",
       "      <td>0.00</td>\n",
       "      <td>1.00</td>\n",
       "    </tr>\n",
       "    <tr>\n",
       "      <th>paperless_billing_encoded</th>\n",
       "      <td>1.00</td>\n",
       "      <td>0.00</td>\n",
       "      <td>1.00</td>\n",
       "      <td>1.00</td>\n",
       "      <td>0.00</td>\n",
       "    </tr>\n",
       "    <tr>\n",
       "      <th>churn_encoded</th>\n",
       "      <td>0.00</td>\n",
       "      <td>0.00</td>\n",
       "      <td>1.00</td>\n",
       "      <td>0.00</td>\n",
       "      <td>0.00</td>\n",
       "    </tr>\n",
       "    <tr>\n",
       "      <th>multiple_lines_No phone service</th>\n",
       "      <td>1.00</td>\n",
       "      <td>0.00</td>\n",
       "      <td>0.00</td>\n",
       "      <td>1.00</td>\n",
       "      <td>0.00</td>\n",
       "    </tr>\n",
       "    <tr>\n",
       "      <th>multiple_lines_Yes</th>\n",
       "      <td>0.00</td>\n",
       "      <td>1.00</td>\n",
       "      <td>0.00</td>\n",
       "      <td>0.00</td>\n",
       "      <td>0.00</td>\n",
       "    </tr>\n",
       "    <tr>\n",
       "      <th>online_security_No internet service</th>\n",
       "      <td>0.00</td>\n",
       "      <td>1.00</td>\n",
       "      <td>0.00</td>\n",
       "      <td>0.00</td>\n",
       "      <td>0.00</td>\n",
       "    </tr>\n",
       "    <tr>\n",
       "      <th>online_security_Yes</th>\n",
       "      <td>0.00</td>\n",
       "      <td>0.00</td>\n",
       "      <td>0.00</td>\n",
       "      <td>1.00</td>\n",
       "      <td>0.00</td>\n",
       "    </tr>\n",
       "    <tr>\n",
       "      <th>online_backup_No internet service</th>\n",
       "      <td>0.00</td>\n",
       "      <td>1.00</td>\n",
       "      <td>0.00</td>\n",
       "      <td>0.00</td>\n",
       "      <td>0.00</td>\n",
       "    </tr>\n",
       "    <tr>\n",
       "      <th>online_backup_Yes</th>\n",
       "      <td>1.00</td>\n",
       "      <td>0.00</td>\n",
       "      <td>0.00</td>\n",
       "      <td>1.00</td>\n",
       "      <td>0.00</td>\n",
       "    </tr>\n",
       "    <tr>\n",
       "      <th>device_protection_No internet service</th>\n",
       "      <td>0.00</td>\n",
       "      <td>1.00</td>\n",
       "      <td>0.00</td>\n",
       "      <td>0.00</td>\n",
       "      <td>0.00</td>\n",
       "    </tr>\n",
       "    <tr>\n",
       "      <th>device_protection_Yes</th>\n",
       "      <td>0.00</td>\n",
       "      <td>0.00</td>\n",
       "      <td>1.00</td>\n",
       "      <td>0.00</td>\n",
       "      <td>0.00</td>\n",
       "    </tr>\n",
       "    <tr>\n",
       "      <th>tech_support_No internet service</th>\n",
       "      <td>0.00</td>\n",
       "      <td>1.00</td>\n",
       "      <td>0.00</td>\n",
       "      <td>0.00</td>\n",
       "      <td>0.00</td>\n",
       "    </tr>\n",
       "    <tr>\n",
       "      <th>tech_support_Yes</th>\n",
       "      <td>0.00</td>\n",
       "      <td>0.00</td>\n",
       "      <td>0.00</td>\n",
       "      <td>1.00</td>\n",
       "      <td>0.00</td>\n",
       "    </tr>\n",
       "    <tr>\n",
       "      <th>streaming_tv_No internet service</th>\n",
       "      <td>0.00</td>\n",
       "      <td>1.00</td>\n",
       "      <td>0.00</td>\n",
       "      <td>0.00</td>\n",
       "      <td>0.00</td>\n",
       "    </tr>\n",
       "    <tr>\n",
       "      <th>streaming_tv_Yes</th>\n",
       "      <td>1.00</td>\n",
       "      <td>0.00</td>\n",
       "      <td>0.00</td>\n",
       "      <td>1.00</td>\n",
       "      <td>1.00</td>\n",
       "    </tr>\n",
       "    <tr>\n",
       "      <th>streaming_movies_No internet service</th>\n",
       "      <td>0.00</td>\n",
       "      <td>1.00</td>\n",
       "      <td>0.00</td>\n",
       "      <td>0.00</td>\n",
       "      <td>0.00</td>\n",
       "    </tr>\n",
       "    <tr>\n",
       "      <th>streaming_movies_Yes</th>\n",
       "      <td>0.00</td>\n",
       "      <td>0.00</td>\n",
       "      <td>0.00</td>\n",
       "      <td>1.00</td>\n",
       "      <td>1.00</td>\n",
       "    </tr>\n",
       "    <tr>\n",
       "      <th>contract_type_One year</th>\n",
       "      <td>1.00</td>\n",
       "      <td>1.00</td>\n",
       "      <td>0.00</td>\n",
       "      <td>0.00</td>\n",
       "      <td>1.00</td>\n",
       "    </tr>\n",
       "    <tr>\n",
       "      <th>contract_type_Two year</th>\n",
       "      <td>0.00</td>\n",
       "      <td>0.00</td>\n",
       "      <td>0.00</td>\n",
       "      <td>1.00</td>\n",
       "      <td>0.00</td>\n",
       "    </tr>\n",
       "    <tr>\n",
       "      <th>internet_service_type_Fiber optic</th>\n",
       "      <td>0.00</td>\n",
       "      <td>0.00</td>\n",
       "      <td>0.00</td>\n",
       "      <td>0.00</td>\n",
       "      <td>1.00</td>\n",
       "    </tr>\n",
       "    <tr>\n",
       "      <th>internet_service_type_None</th>\n",
       "      <td>0.00</td>\n",
       "      <td>1.00</td>\n",
       "      <td>0.00</td>\n",
       "      <td>0.00</td>\n",
       "      <td>0.00</td>\n",
       "    </tr>\n",
       "    <tr>\n",
       "      <th>payment_type_Credit card (automatic)</th>\n",
       "      <td>0.00</td>\n",
       "      <td>0.00</td>\n",
       "      <td>0.00</td>\n",
       "      <td>0.00</td>\n",
       "      <td>1.00</td>\n",
       "    </tr>\n",
       "    <tr>\n",
       "      <th>payment_type_Electronic check</th>\n",
       "      <td>0.00</td>\n",
       "      <td>1.00</td>\n",
       "      <td>0.00</td>\n",
       "      <td>0.00</td>\n",
       "      <td>0.00</td>\n",
       "    </tr>\n",
       "    <tr>\n",
       "      <th>payment_type_Mailed check</th>\n",
       "      <td>0.00</td>\n",
       "      <td>0.00</td>\n",
       "      <td>1.00</td>\n",
       "      <td>0.00</td>\n",
       "      <td>0.00</td>\n",
       "    </tr>\n",
       "  </tbody>\n",
       "</table>\n",
       "</div>"
      ],
      "text/plain": [
       "                                          5911     2479   5889     6087  \\\n",
       "payment_type_id                           3.00     1.00   2.00     3.00   \n",
       "internet_service_type_id                  1.00     3.00   1.00     1.00   \n",
       "contract_type_id                          2.00     2.00   1.00     3.00   \n",
       "senior_citizen                            0.00     0.00   0.00     0.00   \n",
       "tenure                                   26.00    47.00   1.00    69.00   \n",
       "monthly_charges                          39.95    26.90  50.45    60.05   \n",
       "total_charges                          1023.75  1250.85  50.45  4176.70   \n",
       "gender_encoded                            1.00     0.00   0.00     1.00   \n",
       "partner_encoded                           0.00     1.00   0.00     0.00   \n",
       "dependents_encoded                        1.00     0.00   0.00     0.00   \n",
       "phone_service_encoded                     0.00     1.00   1.00     0.00   \n",
       "paperless_billing_encoded                 1.00     0.00   1.00     1.00   \n",
       "churn_encoded                             0.00     0.00   1.00     0.00   \n",
       "multiple_lines_No phone service           1.00     0.00   0.00     1.00   \n",
       "multiple_lines_Yes                        0.00     1.00   0.00     0.00   \n",
       "online_security_No internet service       0.00     1.00   0.00     0.00   \n",
       "online_security_Yes                       0.00     0.00   0.00     1.00   \n",
       "online_backup_No internet service         0.00     1.00   0.00     0.00   \n",
       "online_backup_Yes                         1.00     0.00   0.00     1.00   \n",
       "device_protection_No internet service     0.00     1.00   0.00     0.00   \n",
       "device_protection_Yes                     0.00     0.00   1.00     0.00   \n",
       "tech_support_No internet service          0.00     1.00   0.00     0.00   \n",
       "tech_support_Yes                          0.00     0.00   0.00     1.00   \n",
       "streaming_tv_No internet service          0.00     1.00   0.00     0.00   \n",
       "streaming_tv_Yes                          1.00     0.00   0.00     1.00   \n",
       "streaming_movies_No internet service      0.00     1.00   0.00     0.00   \n",
       "streaming_movies_Yes                      0.00     0.00   0.00     1.00   \n",
       "contract_type_One year                    1.00     1.00   0.00     0.00   \n",
       "contract_type_Two year                    0.00     0.00   0.00     1.00   \n",
       "internet_service_type_Fiber optic         0.00     0.00   0.00     0.00   \n",
       "internet_service_type_None                0.00     1.00   0.00     0.00   \n",
       "payment_type_Credit card (automatic)      0.00     0.00   0.00     0.00   \n",
       "payment_type_Electronic check             0.00     1.00   0.00     0.00   \n",
       "payment_type_Mailed check                 0.00     0.00   1.00     0.00   \n",
       "\n",
       "                                          785   \n",
       "payment_type_id                           4.00  \n",
       "internet_service_type_id                  2.00  \n",
       "contract_type_id                          2.00  \n",
       "senior_citizen                            0.00  \n",
       "tenure                                   51.00  \n",
       "monthly_charges                          87.55  \n",
       "total_charges                          4475.90  \n",
       "gender_encoded                            0.00  \n",
       "partner_encoded                           0.00  \n",
       "dependents_encoded                        0.00  \n",
       "phone_service_encoded                     1.00  \n",
       "paperless_billing_encoded                 0.00  \n",
       "churn_encoded                             0.00  \n",
       "multiple_lines_No phone service           0.00  \n",
       "multiple_lines_Yes                        0.00  \n",
       "online_security_No internet service       0.00  \n",
       "online_security_Yes                       0.00  \n",
       "online_backup_No internet service         0.00  \n",
       "online_backup_Yes                         0.00  \n",
       "device_protection_No internet service     0.00  \n",
       "device_protection_Yes                     0.00  \n",
       "tech_support_No internet service          0.00  \n",
       "tech_support_Yes                          0.00  \n",
       "streaming_tv_No internet service          0.00  \n",
       "streaming_tv_Yes                          1.00  \n",
       "streaming_movies_No internet service      0.00  \n",
       "streaming_movies_Yes                      1.00  \n",
       "contract_type_One year                    1.00  \n",
       "contract_type_Two year                    0.00  \n",
       "internet_service_type_Fiber optic         1.00  \n",
       "internet_service_type_None                0.00  \n",
       "payment_type_Credit card (automatic)      1.00  \n",
       "payment_type_Electronic check             0.00  \n",
       "payment_type_Mailed check                 0.00  "
      ]
     },
     "execution_count": 201,
     "metadata": {},
     "output_type": "execute_result"
    }
   ],
   "source": [
    "telco_train.head().T"
   ]
  },
  {
   "cell_type": "markdown",
   "id": "547dd05d",
   "metadata": {},
   "source": [
    "### Heatmap showing positive correlation (highest churn) from top to bottom negative correlation (lowest churn)"
   ]
  },
  {
   "cell_type": "code",
   "execution_count": 202,
   "id": "8f8f170d",
   "metadata": {},
   "outputs": [
    {
     "data": {
      "text/plain": [
       "Text(0.5, 1.0, 'Features Correlating with Churn')"
      ]
     },
     "execution_count": 202,
     "metadata": {},
     "output_type": "execute_result"
    },
    {
     "data": {
      "image/png": "[encoded data removed]",
      "text/plain": [
       "<Figure size 1080x1440 with 2 Axes>"
      ]
     },
     "metadata": {
      "needs_background": "light"
     },
     "output_type": "display_data"
    }
   ],
   "source": [
    "plt.figure(figsize=(15,20))\n",
    "churn_encoded_heatmap = sns.heatmap(telco_train.corr()[['churn_encoded']].sort_values(by='churn_encoded', ascending=False), vmin=-.5, vmax=.5, annot=True)\n",
    "churn_encoded_heatmap.set_title('Features Correlating with Churn')"
   ]
  },
  {
   "cell_type": "markdown",
   "id": "9f035284",
   "metadata": {},
   "source": [
    "### Hypothesis"
   ]
  },
  {
   "cell_type": "markdown",
   "id": "6d6eaf20",
   "metadata": {},
   "source": [
    "\n",
    "### alpha = 0.05\n",
    "        \n",
    "### HO: There is no relation between collumn features and churn rate\n",
    "    (collumn features and churn rate are independent)\n",
    "    (We fail to reject the H0 that collumn feature and churn rate are dependent)\n",
    "     \n",
    "### H⍺: There is a relation between collumn features and churn rate \n",
    "    (collumn features and churn are dependent)\n",
    "    (We reject the H0 that collumn feature and churn rate are independent)"
   ]
  },
  {
   "cell_type": "markdown",
   "id": "d125527a",
   "metadata": {},
   "source": [
    "### Statitsical test"
   ]
  },
  {
   "cell_type": "markdown",
   "id": "13407cf9",
   "metadata": {},
   "source": [
    "### alpha = 0.05\n",
    "### null_hyp = 'col feature and churn rate are independent'\n",
    "### alt_hyp = 'col feature and churn rate are dependent'\n",
    "### observed = pd.crosstab(telco_train.churn_encoded, telco_train.col feature)\n",
    "### chi2, p, degf, expected = stats.chi2_contingency(observed)\n",
    "### if p < alpha:\n",
    "    print('reject the null hypothesis that and posit', alt_hyp)\n",
    "### else:\n",
    "    print('fail to reject the null hypothesis and posit', null_hyp)\n"
   ]
  },
  {
   "cell_type": "markdown",
   "id": "b18bab76",
   "metadata": {},
   "source": [
    "### Positive correlation\n",
    "### 1. How does internet_service_type_id correlate to customers churn?"
   ]
  },
  {
   "cell_type": "code",
   "execution_count": 203,
   "id": "d93afa3d",
   "metadata": {},
   "outputs": [
    {
     "data": {
      "image/png": "[encoded data removed]",
      "text/plain": [
       "<Figure size 576x432 with 1 Axes>"
      ]
     },
     "metadata": {
      "needs_background": "light"
     },
     "output_type": "display_data"
    }
   ],
   "source": [
    "plt.title(\"Relationship between internet service type fiber optic & Customer Churn\")\n",
    "sns.barplot(x=\"internet_service_type_Fiber optic\", y=\"churn_encoded\", data=telco_train)\n",
    "population_churn_rate = telco_train.churn_encoded.mean()\n",
    "plt.axhline(population_churn_rate, color=\"r\",label=\"Churn rate\")\n",
    "plt.legend()\n",
    "plt.show()"
   ]
  },
  {
   "cell_type": "markdown",
   "id": "d49a77e8",
   "metadata": {},
   "source": [
    "\n",
    "#### Reject H0 that internet_type_fiber_optic and churn rate are independent\n",
    "#### There is a relationship between internet_type_fiber_optic and churn rate"
   ]
  },
  {
   "cell_type": "markdown",
   "id": "3398549d",
   "metadata": {},
   "source": [
    "### 2. How does payment type Electronic check correlate to customers churn?"
   ]
  },
  {
   "cell_type": "code",
   "execution_count": 205,
   "id": "9a74339d",
   "metadata": {},
   "outputs": [
    {
     "data": {
      "image/png": "[encoded data removed]",
      "text/plain": [
       "<Figure size 576x432 with 1 Axes>"
      ]
     },
     "metadata": {
      "needs_background": "light"
     },
     "output_type": "display_data"
    }
   ],
   "source": [
    "plt.title(\"Relationship between payment type electronic check & Customer Churn\")\n",
    "sns.barplot(x=\"payment_type_Electronic check\", y=\"churn_encoded\", data=telco_train)\n",
    "population_churn_rate = telco_train.churn_encoded.mean()\n",
    "plt.axhline(population_churn_rate, color=\"r\", label=\"Churn rate\")\n",
    "plt.legend()\n",
    "plt.show()"
   ]
  },
  {
   "cell_type": "markdown",
   "id": "b4215317",
   "metadata": {},
   "source": [
    "#### Reject the H0 that payment_type_electronic_check and churn rate are independent\n",
    "#### There is a relationship between payment_type_electronic_check and churn rate"
   ]
  },
  {
   "cell_type": "markdown",
   "id": "5c6b8958",
   "metadata": {},
   "source": [
    "### 3. How does paperless billing encoded correlate to customers churn?"
   ]
  },
  {
   "cell_type": "code",
   "execution_count": 207,
   "id": "1de407b6",
   "metadata": {},
   "outputs": [
    {
     "data": {
      "image/png": "[encoded data removed]",
      "text/plain": [
       "<Figure size 576x432 with 1 Axes>"
      ]
     },
     "metadata": {
      "needs_background": "light"
     },
     "output_type": "display_data"
    }
   ],
   "source": [
    "plt.title(\"Relationship between paperless billing_encoded & Customer Churn\")\n",
    "sns.barplot(x=\"paperless_billing_encoded\", y=\"churn_encoded\", data=telco_train)\n",
    "population_churn_rate = telco_train.churn_encoded.mean()\n",
    "plt.axhline(population_churn_rate, color=\"r\", label=\"Churn rate\")\n",
    "plt.legend()\n",
    "plt.show()"
   ]
  },
  {
   "cell_type": "markdown",
   "id": "3a7f7ad8",
   "metadata": {},
   "source": [
    "#### Reject the H0 that paperless_billing and churn rate are independent\n",
    "#### There is a relationship between paperless_billing and churn rate\n"
   ]
  },
  {
   "cell_type": "markdown",
   "id": "c8a1a294",
   "metadata": {},
   "source": [
    "### 4. How does senior citizen correlate to churn?"
   ]
  },
  {
   "cell_type": "code",
   "execution_count": 209,
   "id": "165b78f1",
   "metadata": {},
   "outputs": [
    {
     "data": {
      "image/png": "[encoded data removed]",
      "text/plain": [
       "<Figure size 576x432 with 1 Axes>"
      ]
     },
     "metadata": {
      "needs_background": "light"
     },
     "output_type": "display_data"
    }
   ],
   "source": [
    "plt.title(\"Relationship between senior citizen  & Customer Churn\")\n",
    "sns.barplot(x=\"senior_citizen\", y=\"churn_encoded\", data=telco_train)\n",
    "population_churn_rate = telco_train.churn_encoded.mean()\n",
    "plt.axhline(population_churn_rate, color=\"r\", label=\"Churn rate\")\n",
    "plt.legend()\n",
    "plt.show()"
   ]
  },
  {
   "cell_type": "markdown",
   "id": "2ac06797",
   "metadata": {},
   "source": [
    "#### Reject the null hypothesis that senior_citizen and churn rate are independent\n",
    "#### There is a relationship between senior_citizen and churn rate"
   ]
  },
  {
   "cell_type": "markdown",
   "id": "67c4d775",
   "metadata": {},
   "source": [
    "### 5. How does streaming movies correlate to churn?"
   ]
  },
  {
   "cell_type": "code",
   "execution_count": 211,
   "id": "5ab844db",
   "metadata": {},
   "outputs": [
    {
     "data": {
      "image/png": "[encoded data removed]",
      "text/plain": [
       "<Figure size 576x432 with 1 Axes>"
      ]
     },
     "metadata": {
      "needs_background": "light"
     },
     "output_type": "display_data"
    }
   ],
   "source": [
    "plt.title(\"Relationship between streaming movies Yes  & Customer Churn\")\n",
    "sns.barplot(x=\"streaming_movies_Yes\", y=\"churn_encoded\", data=telco_train)\n",
    "population_churn_rate = telco_train.churn_encoded.mean()\n",
    "plt.axhline(population_churn_rate, color=\"r\", label=\"Churn rate\")\n",
    "plt.legend()\n",
    "plt.show()"
   ]
  },
  {
   "cell_type": "markdown",
   "id": "0bcf9528",
   "metadata": {},
   "source": [
    "#### Reject the null hypothesis that streaming_movies_no and churn rate are independent\n",
    "#### There is a relationship between streaming_movies_no and churn rate"
   ]
  },
  {
   "cell_type": "markdown",
   "id": "92fd606f",
   "metadata": {},
   "source": [
    "### 6. How does streaming tv correlate to churn?"
   ]
  },
  {
   "cell_type": "code",
   "execution_count": 213,
   "id": "f3196fb2",
   "metadata": {},
   "outputs": [
    {
     "data": {
      "image/png": "[encoded data removed]",
      "text/plain": [
       "<Figure size 576x432 with 1 Axes>"
      ]
     },
     "metadata": {
      "needs_background": "light"
     },
     "output_type": "display_data"
    }
   ],
   "source": [
    "plt.title(\"Relationship between streaming tv No internet service  & Customer Churn\")\n",
    "sns.barplot(x=\"streaming_tv_No internet service\", y=\"churn_encoded\", data=telco_train)\n",
    "population_churn_rate = telco_train.churn_encoded.mean()\n",
    "plt.axhline(population_churn_rate, color=\"r\", label=\"Churn rate\")\n",
    "plt.legend()\n",
    "plt.show()"
   ]
  },
  {
   "cell_type": "markdown",
   "id": "e34fd81c",
   "metadata": {},
   "source": [
    "#### Reject the null hypothesis that streaming_tv_no and churn rate are independent\n",
    "#### There is a relationship between streaming_tv_no and churn rate"
   ]
  },
  {
   "cell_type": "markdown",
   "id": "17b16f13",
   "metadata": {},
   "source": [
    "### 7. How does multiple lines correlate to churn?"
   ]
  },
  {
   "cell_type": "code",
   "execution_count": 215,
   "id": "9a59a017",
   "metadata": {},
   "outputs": [
    {
     "data": {
      "image/png": "[encoded data removed]",
      "text/plain": [
       "<Figure size 576x432 with 1 Axes>"
      ]
     },
     "metadata": {
      "needs_background": "light"
     },
     "output_type": "display_data"
    }
   ],
   "source": [
    "plt.title(\"Relationship between multiple lines Yes  & Customer Churn\")\n",
    "sns.barplot(x=\"multiple_lines_Yes\", y=\"churn_encoded\", data=telco_train)\n",
    "population_churn_rate = telco_train.churn_encoded.mean()\n",
    "plt.axhline(population_churn_rate, color=\"r\", label=\"Churn rate\")\n",
    "plt.legend()\n",
    "plt.show()"
   ]
  },
  {
   "cell_type": "markdown",
   "id": "a07dae44",
   "metadata": {},
   "source": [
    "#### Reject the null hypothesis that multiple_lines_yes and churn rate are independent\n",
    "#### There is a relationship between multiple_lines_yes and churn rate"
   ]
  },
  {
   "cell_type": "markdown",
   "id": "269993dd",
   "metadata": {},
   "source": [
    "### 8. How does gender correlate to churn?"
   ]
  },
  {
   "cell_type": "code",
   "execution_count": 217,
   "id": "9032c512",
   "metadata": {},
   "outputs": [
    {
     "data": {
      "image/png": "[encoded data removed]",
      "text/plain": [
       "<Figure size 576x432 with 1 Axes>"
      ]
     },
     "metadata": {
      "needs_background": "light"
     },
     "output_type": "display_data"
    }
   ],
   "source": [
    "plt.title(\"Relationship between gender & Customer Churn\")\n",
    "sns.barplot(x=\"gender_encoded\", y=\"churn_encoded\", data=telco_train)\n",
    "population_churn_rate = telco_train.churn_encoded.mean()\n",
    "plt.axhline(population_churn_rate, color=\"r\", label=\"Churn rate\")\n",
    "plt.legend()\n",
    "plt.show()"
   ]
  },
  {
   "cell_type": "markdown",
   "id": "08aad46f",
   "metadata": {},
   "source": [
    "#### We fail to reject the null hypothesis that gender and churn rate are dependent\n",
    "#### There is no relationship between gender and churn rate"
   ]
  },
  {
   "cell_type": "markdown",
   "id": "07d90b7c",
   "metadata": {},
   "source": [
    "### Negative Correlation"
   ]
  },
  {
   "cell_type": "markdown",
   "id": "81b1e604",
   "metadata": {},
   "source": [
    "### 1. How does online security No internet service correlate to churn?"
   ]
  },
  {
   "cell_type": "code",
   "execution_count": 219,
   "id": "b2a2b431",
   "metadata": {},
   "outputs": [
    {
     "data": {
      "image/png": "[encoded data removed]",
      "text/plain": [
       "<Figure size 576x432 with 1 Axes>"
      ]
     },
     "metadata": {
      "needs_background": "light"
     },
     "output_type": "display_data"
    }
   ],
   "source": [
    "plt.title(\"Relationship between online security No internet service   & Customer Churn\")\n",
    "sns.barplot(x=\"online_security_No internet service\", y=\"churn_encoded\", data=telco_train)\n",
    "population_churn_rate = telco_train.churn_encoded.mean()\n",
    "plt.axhline(population_churn_rate, color=\"r\", label=\"Churn rate\")\n",
    "plt.legend()\n",
    "plt.show()"
   ]
  },
  {
   "cell_type": "markdown",
   "id": "f2b27f3a",
   "metadata": {},
   "source": [
    "#### Reject the null hypothesis that online_security_No internet service and churn rate are independent\n",
    "#### There is a relationship between online_security No internet service & churn rate"
   ]
  },
  {
   "cell_type": "markdown",
   "id": "e7315275",
   "metadata": {},
   "source": [
    "### 2. How does customers with contract type two year correlate to churn?"
   ]
  },
  {
   "cell_type": "code",
   "execution_count": 221,
   "id": "3ed098e8",
   "metadata": {},
   "outputs": [
    {
     "data": {
      "image/png": "[encoded data removed]",
      "text/plain": [
       "<Figure size 576x432 with 1 Axes>"
      ]
     },
     "metadata": {
      "needs_background": "light"
     },
     "output_type": "display_data"
    }
   ],
   "source": [
    "plt.title(\"Relationship between contract type Two year   & Customer Churn\")\n",
    "sns.barplot(x=\"contract_type_Two year\", y=\"churn_encoded\", data=telco_train)\n",
    "population_churn_rate = telco_train.churn_encoded.mean()\n",
    "plt.axhline(population_churn_rate, color=\"r\", label=\"Churn rate\")\n",
    "plt.legend()\n",
    "plt.show()"
   ]
  },
  {
   "cell_type": "markdown",
   "id": "b9eb06f7",
   "metadata": {},
   "source": [
    "#### Reject the null hypothesis that contract_type_two_year and churn rate are independent\n",
    "#### There is a relationship between contract_type_two_year churn rate"
   ]
  },
  {
   "cell_type": "markdown",
   "id": "ed264f0c",
   "metadata": {},
   "source": [
    "### 3. How does tenure correlate to customers churning?"
   ]
  },
  {
   "cell_type": "code",
   "execution_count": 223,
   "id": "40ed4563",
   "metadata": {},
   "outputs": [
    {
     "data": {
      "image/png": "[encoded data removed]",
      "text/plain": [
       "<Figure size 576x432 with 1 Axes>"
      ]
     },
     "metadata": {
      "needs_background": "light"
     },
     "output_type": "display_data"
    }
   ],
   "source": [
    "plt.title(\"Relationship between tenure   & Customer Churn\")\n",
    "sns.barplot(x=\"tenure\", y=\"churn_encoded\", data=telco_train)\n",
    "population_churn_rate = telco_train.churn_encoded.mean()\n",
    "plt.axhline(population_churn_rate, color=\"r\", label=\"Churn rate\")\n",
    "plt.legend()\n",
    "plt.show()"
   ]
  },
  {
   "cell_type": "code",
   "execution_count": null,
   "id": "49d26bfc",
   "metadata": {},
   "outputs": [],
   "source": []
  },
  {
   "cell_type": "markdown",
   "id": "e0b29085",
   "metadata": {},
   "source": [
    "### 4. How does contract type id correlate to customers churning?"
   ]
  },
  {
   "cell_type": "code",
   "execution_count": 224,
   "id": "b4fc0303",
   "metadata": {},
   "outputs": [
    {
     "data": {
      "image/png": "[encoded data removed]",
      "text/plain": [
       "<Figure size 576x432 with 1 Axes>"
      ]
     },
     "metadata": {
      "needs_background": "light"
     },
     "output_type": "display_data"
    }
   ],
   "source": [
    "plt.title(\"Relationship between contract type id   & Customer Churn\")\n",
    "sns.barplot(x=\"contract_type_id\", y=\"churn_encoded\", data=telco_train)\n",
    "population_churn_rate = telco_train.churn_encoded.mean()\n",
    "plt.axhline(population_churn_rate, color=\"r\", label=\"Churn rate\")\n",
    "plt.legend()\n",
    "plt.show()"
   ]
  },
  {
   "cell_type": "markdown",
   "id": "94e4ac30",
   "metadata": {},
   "source": [
    "#### Reject the null hypothesis that contract type id and churn rate are independent\n",
    "#### There is a relationship between contract type id churn rate"
   ]
  },
  {
   "cell_type": "markdown",
   "id": "cb26a1b0",
   "metadata": {},
   "source": [
    "### 5. How does contract type One year correlate to customers churning?"
   ]
  },
  {
   "cell_type": "code",
   "execution_count": 226,
   "id": "1a3ea3d3",
   "metadata": {},
   "outputs": [
    {
     "data": {
      "image/png": "[encoded data removed]",
      "text/plain": [
       "<Figure size 576x432 with 1 Axes>"
      ]
     },
     "metadata": {
      "needs_background": "light"
     },
     "output_type": "display_data"
    }
   ],
   "source": [
    "plt.title(\"Relationship between contract_type One year   & Customer Churn\")\n",
    "sns.barplot(x=\"contract_type_One year\", y=\"churn_encoded\", data=telco_train)\n",
    "population_churn_rate = telco_train.churn_encoded.mean()\n",
    "plt.axhline(population_churn_rate, color=\"r\", label=\"Churn rate\")\n",
    "plt.legend()\n",
    "plt.show()"
   ]
  },
  {
   "cell_type": "markdown",
   "id": "907f7929",
   "metadata": {},
   "source": [
    "#### Reject the null hypothesis that contract_type_one_year and churn rate are independent\n",
    "#### There is a relationship between contract_type_one_year churn rate"
   ]
  },
  {
   "cell_type": "markdown",
   "id": "7068f7ea",
   "metadata": {},
   "source": [
    "### 6. How does total_charges to customers churning?"
   ]
  },
  {
   "cell_type": "code",
   "execution_count": 228,
   "id": "ec0137f1",
   "metadata": {},
   "outputs": [
    {
     "data": {
      "image/png": "[encoded data removed]",
      "text/plain": [
       "<Figure size 576x432 with 1 Axes>"
      ]
     },
     "metadata": {
      "needs_background": "light"
     },
     "output_type": "display_data"
    }
   ],
   "source": [
    "plt.title(\"Relationship between total_charges   & Customer Churn\")\n",
    "sns.barplot(x=\"total_charges\", y=\"churn_encoded\", data=telco_train)\n",
    "population_churn_rate = telco_train.churn_encoded.mean()\n",
    "plt.axhline(population_churn_rate, color=\"r\", label=\"Churn rate\")\n",
    "plt.legend()\n",
    "plt.show()"
   ]
  },
  {
   "cell_type": "markdown",
   "id": "0e235d2d",
   "metadata": {},
   "source": [
    "### Other features\n",
    "### Finding out if there is a relation between monthly charges  and customers churning"
   ]
  },
  {
   "cell_type": "code",
   "execution_count": 104,
   "id": "e47dadf3",
   "metadata": {},
   "outputs": [
    {
     "data": {
      "image/png": "[encoded data removed]",
      "text/plain": [
       "<Figure size 576x432 with 1 Axes>"
      ]
     },
     "metadata": {
      "needs_background": "light"
     },
     "output_type": "display_data"
    }
   ],
   "source": [
    "sns.boxplot(data=telco_train, y='monthly_charges', x='churn_encoded')\n",
    "plt.title('Do customers that churn pay more per month?')\n",
    "plt.show()\n"
   ]
  },
  {
   "cell_type": "markdown",
   "id": "54b5fc2b",
   "metadata": {},
   "source": [
    "### Takeaway\n",
    "- The median monthly charges is higher for customers that have churned compared to customers that have not churned."
   ]
  },
  {
   "cell_type": "markdown",
   "id": "775029e2",
   "metadata": {},
   "source": [
    "### Finding out if there is a relation between senior citezen to tenure"
   ]
  },
  {
   "cell_type": "code",
   "execution_count": 105,
   "id": "e0a769b7",
   "metadata": {},
   "outputs": [
    {
     "data": {
      "image/png": "[encoded data removed]",
      "text/plain": [
       "<Figure size 576x432 with 1 Axes>"
      ]
     },
     "metadata": {
      "needs_background": "light"
     },
     "output_type": "display_data"
    }
   ],
   "source": [
    "df[\"senior_citizen\"].replace({0:\"not_senior_citizen\",1:\"senior_citizen\"},inplace=True)\n",
    "df[\"churn_encoded\"].replace({0:\"NO\", 1:\"YES\"}, inplace=True)\n",
    "sns.barplot(data=df, x=df.senior_citizen,y=df.tenure,hue=df.churn_encoded)\n",
    "plt.title('How does senior citizen correlate to tenure?')\n",
    "plt.show()"
   ]
  },
  {
   "cell_type": "markdown",
   "id": "84d3bde7",
   "metadata": {},
   "source": [
    "### Takeaway\n",
    "- Senior citizen churn more than non senior citizens"
   ]
  },
  {
   "cell_type": "markdown",
   "id": "827a9101",
   "metadata": {},
   "source": [
    "### Finding out if there is any relation between internet service type id and tenure"
   ]
  },
  {
   "cell_type": "code",
   "execution_count": 110,
   "id": "a2cdcf22",
   "metadata": {},
   "outputs": [
    {
     "data": {
      "text/plain": [
       "(Fiber optic    3096\n",
       " DSL            2421\n",
       " None           1526\n",
       " Name: internet_service_type, dtype: int64,\n",
       " 2    3096\n",
       " 1    2421\n",
       " 3    1526\n",
       " Name: internet_service_type_id, dtype: int64)"
      ]
     },
     "execution_count": 110,
     "metadata": {},
     "output_type": "execute_result"
    }
   ],
   "source": [
    "temp0 = acquire.get_telco_data()\n",
    "temp0.columns\n",
    "temp0['internet_service_type'].value_counts(),temp0['internet_service_type_id'].value_counts()"
   ]
  },
  {
   "cell_type": "code",
   "execution_count": 111,
   "id": "819777b5",
   "metadata": {},
   "outputs": [
    {
     "data": {
      "image/png": "[encoded data removed]",
      "text/plain": [
       "<Figure size 576x432 with 1 Axes>"
      ]
     },
     "metadata": {
      "needs_background": "light"
     },
     "output_type": "display_data"
    }
   ],
   "source": [
    "\n",
    "# 1= DSL, 2=Fiber Optic, 3= NONE\n",
    "\n",
    "df[\"internet_service_type\"] = df.contract_type_id\n",
    "df[\"internet_service_type\"].replace({3:\"NONE\",1:\"DSL\",2:\"Fiber Optic\"},inplace=True)\n",
    "df[\"churn_encoded\"].replace({0:\"NO\", 1:\"YES\"}, inplace=True)\n",
    "\n",
    "sns.barplot(data=df,  x=df.internet_service_type,y=df.tenure,hue=df.churn_encoded)\n",
    "\n",
    "df.drop(columns=[\"internet_service_type\"])\n",
    "\n",
    "plt.title('How does internet_service_type_id correlate to customers tenure?')\n",
    "plt.show()"
   ]
  },
  {
   "cell_type": "markdown",
   "id": "aa3a04d0",
   "metadata": {},
   "source": [
    "### Takeaways\n",
    "- Customers with no internet service type churn more than those with internet"
   ]
  },
  {
   "cell_type": "markdown",
   "id": "c528457f",
   "metadata": {},
   "source": [
    "### Finding out if there is a relation between customers contract type and tenure"
   ]
  },
  {
   "cell_type": "code",
   "execution_count": 233,
   "id": "ebea0b3b",
   "metadata": {},
   "outputs": [
    {
     "data": {
      "image/png": "[encoded data removed]",
      "text/plain": [
       "<Figure size 576x432 with 1 Axes>"
      ]
     },
     "metadata": {
      "needs_background": "light"
     },
     "output_type": "display_data"
    }
   ],
   "source": [
    "plt.title(\"Relationship between contract type id & Customer Churn\")\n",
    "sns.barplot(x=\"contract_type_id\", y=\"churn_encoded\", data=telco_train)\n",
    "churn_encoded_rate = telco_train.churn_encoded.mean()\n",
    "plt.axhline(churn_encoded_rate, color=\"r\", label = \"Churn rate\")\n",
    "plt.xlabel('Month to month     One year     Two year contract type')\n",
    "plt.legend()\n",
    "plt.show()"
   ]
  },
  {
   "cell_type": "markdown",
   "id": "d8d903b9",
   "metadata": {},
   "source": [
    "### Takeaway\n",
    "- Customers with month to month contract churn most than customers with longer contacts"
   ]
  },
  {
   "cell_type": "markdown",
   "id": "0b4d8246",
   "metadata": {},
   "source": [
    "### Finding out a relation between dependents and tenure"
   ]
  },
  {
   "cell_type": "code",
   "execution_count": 116,
   "id": "346d6b53",
   "metadata": {},
   "outputs": [
    {
     "data": {
      "image/png": "[encoded data removed]",
      "text/plain": [
       "<Figure size 576x432 with 1 Axes>"
      ]
     },
     "metadata": {
      "needs_background": "light"
     },
     "output_type": "display_data"
    }
   ],
   "source": [
    "df[\"dependents_encoded\"].replace({0:\"no_dependents\",1:\"with_dependents\"},inplace=True)\n",
    "df[\"churn_encoded\"].replace({0:\"NO\", 1:\"YES\"}, inplace=True)\n",
    "sns.barplot(data=df, x=df.dependents_encoded,y=df.tenure,hue=df.churn_encoded)\n",
    "plt.title('How does dependents correlate to tenure?')\n",
    "plt.show()"
   ]
  },
  {
   "cell_type": "markdown",
   "id": "df534d09",
   "metadata": {},
   "source": [
    "### Takeaway\n",
    "- Customers with dependents have a longer tenure compared to those without dependents"
   ]
  },
  {
   "cell_type": "markdown",
   "id": "9f675a69",
   "metadata": {},
   "source": [
    "### Finding out if there is a relation between tech support and tenure "
   ]
  },
  {
   "cell_type": "code",
   "execution_count": 117,
   "id": "98eb8b9f",
   "metadata": {},
   "outputs": [
    {
     "data": {
      "image/png": "[encoded data removed]",
      "text/plain": [
       "<Figure size 576x432 with 1 Axes>"
      ]
     },
     "metadata": {
      "needs_background": "light"
     },
     "output_type": "display_data"
    }
   ],
   "source": [
    "df[\"tech_support_Yes\"].replace({0:\"no_tech_support\",1:\"with_tech_support\"},inplace=True)\n",
    "df[\"churn_encoded\"].replace({0:\"NO\", 1:\"YES\"}, inplace=True)\n",
    "sns.barplot(data=df, x=df.tech_support_Yes,y=df.tenure,hue=df.churn_encoded)\n",
    "plt.title('How does customers with tech support correlate to tenure?')\n",
    "plt.show()"
   ]
  },
  {
   "cell_type": "markdown",
   "id": "0428be29",
   "metadata": {},
   "source": [
    "### Takeaway\n",
    "- Customers with tech support have a longer tenure than customers without."
   ]
  },
  {
   "cell_type": "markdown",
   "id": "10613ff7",
   "metadata": {},
   "source": [
    "## Telco Churn Classification Project\n",
    "\n",
    "## Reduce Customer Churn\n",
    "<hr style=\"border-top: 50px groove blue; margin-top: 1px; margin-bottom: 1px\"></hr>\n",
    "\n",
    "### Project Goals\n",
    "> - The main goal of this project is identify drivers of customer churn.\n",
    "> - Build machine learning model that can predict and identify customers that are like to churn.\n",
    "> - Deliver a report on recommendations for reducing customer churn.\n",
    "\n",
    "#### Project Description\n",
    "> - Telco is a leading communications company offering great services to its customers.\n",
    "> - Customers are churning at a high rate affecting the company's performance.\n",
    "> - We will therefore identify drivers of customer churn and look at features with highest and low churn rate.\n",
    "> - We will use machine learning prediction models and demographics and offer recommendations for customer retention.\n",
    "\n",
    "#### Initial Questions\n",
    "> - What is the churn rate Telco?\n",
    "> - What are the features with the highest churn rate?\n",
    "> - What are the features with the lowest churn rate?\n",
    "> - What demographic has the highest churn rate?\n",
    "#### Audience\n",
    "> - Codeup Data Science students\n",
    "\n",
    "#### Project Deliverables\n",
    "> - A final report notebook \n",
    "> - A final report notebook presentation\n",
    "> - All necessary modules to make my project reproducible\n",
    "\n",
    "#### Project Context\n",
    "> - The Telco dataset from the Codeup database.\n",
    "\n",
    "\n",
    "\n",
    "#### Data Dictionary\n",
    "\n",
    "\n",
    "\n",
    "\n",
    "\n",
    "\n",
    "<hr style=\"border-top: 10px groove blue; margin-top: 1px; margin-bottom: 1px\"></hr>\n",
    "\n",
    "\n",
    "### Initial Hypothesis\n",
    "> - alpha = 0.05\n",
    "> - HO: There is no relation between collumn features and churn rate\n",
    "> - (collumn features and churn rate are independent)\n",
    "> - (We fail to reject the H0 that collumn feature and churn rate are dependent)\n",
    "> - H⍺: There is a relation between collumn features and churn rate\n",
    "> - (collumn features and churn are dependent)\n",
    "> - (We reject the H0 that collumn feature and churn rate are independent)\n",
    "\n",
    "<hr style=\"border-top: 10px groove blue; margin-top: 1px; margin-bottom: 1px\"></hr>\n",
    "\n",
    "### Conclusions & Next Steps\n",
    "### Executive Summary \n",
    "<hr style=\"border-top: 10px groove blue; margin-top: 1px; margin-bottom: 1px\"></hr>\n",
    "\n",
    "> - With Telco churn rate being at 27%. We identified the main drivers of churn. As per our analysis the main issues were customers with short term contracts, device protection with no internet service, customers with payment type electronic checks.\n",
    "> - I chose DecisionTree model as my best model1 with a 73% accuracy rate for predicting my target value, churn. When we run the test data, the accuracy for the Decision tree model1 train is maintained at 73%. Therefore, the model has no data overfit compared to other models.\n",
    "\n",
    "### Recommendations\n",
    "> - Come up with incentives and promotions to have customers sign up for long term contracts.\n",
    "> - Provide customers with technical support.\n",
    "> - Set customer accounts to automatic payments to prevent missed payments.\n",
    "\n",
    "### Next steps\n",
    "> - Investigate why customers with Fibre optic churn.\n",
    "<hr style=\"border-top: 10px groove blue; margin-top: 1px; margin-bottom: 1px\"></hr>\n",
    "\n",
    "### Pipeline Stages Breakdown\n",
    "\n",
    "<hr style=\"border-top: 10px groove blue; margin-top: 1px; margin-bottom: 1px\"></hr>\n",
    "\n",
    "##### Plan\n",
    "- [x] Create README.md with data dictionary, project and business goals, come up with initial hypotheses.\n",
    "- [x] Acquire data from the Codeup Database and create a function to automate this process. Save the function in an acquire.py file to import into the Final Report Notebook.\n",
    "- [x] Clean and prepare data for the first iteration through the pipeline, MVP preparation. Create a function to automate the process, store the function in a prepare.py module, and prepare data in Final Report Notebook by importing and using the funtion.\n",
    "- [x]  Clearly define two hypotheses, set an alpha, run the statistical tests needed, reject or fail to reject the Null Hypothesis, and document findings and takeaways.\n",
    "- [x] Establish a baseline accuracy and document well.\n",
    "- [x] Train three different classification models.\n",
    "- [x] Evaluate models on train and validate datasets.\n",
    "- [x] Choose the model with that performs the best and evaluate that single model on the test dataset.\n",
    "- [x] Create csv file with the measurement id, the probability of the target values, and the model's prediction for each observation in my test dataset.\n",
    "- [x] Document conclusions, takeaways, and next steps in the Final Report Notebook.\n",
    "\n",
    "___\n",
    "\n",
    "##### Plan -> Acquire\n",
    "> - Store functions that are needed to acquire data from the measures and species tables from the iris database on the Codeup data science database server; make sure the acquire.py module contains the necessary imports to run my code.\n",
    "> - The final function will return a pandas DataFrame.\n",
    "> - Import the acquire function from the acquire.py module and use it to acquire the data in the Final Report Notebook.\n",
    "> - Complete some initial data summarization (`.info()`, `.describe()`, `.value_counts()`, ...).\n",
    "> - Plot distributions of individual variables.\n",
    "___\n",
    "\n",
    "##### Plan -> Acquire -> Prepare\n",
    "> - Store functions needed to prepare the iris data; make sure the module contains the necessary imports to run the code. The final function should do the following:\n",
    "    - Split the data into train/validate/test.\n",
    "    - Handle any missing values.\n",
    "    - Handle erroneous data and/or outliers that need addressing.\n",
    "    - Encode variables as needed.\n",
    "    - Create any new features, if made for this project.\n",
    "> - Import the prepare function from the prepare.py module and use it to prepare the data in the Final Report Notebook.\n",
    "___\n",
    "\n",
    "##### Plan -> Acquire -> Prepare -> Explore\n",
    "> - Answer key questions, my hypotheses, and figure out the features that can be used in a classification model to best predict the target variable, species. \n",
    "> - Run at least 2 statistical tests in data exploration. Document my hypotheses, set an alpha before running the tests, and document the findings well.\n",
    "> - Create visualizations and run statistical tests that work toward discovering variable relationships (independent with independent and independent with dependent). The goal is to identify features that are related to species (the target), identify any data integrity issues, and understand 'how the data works'. If there appears to be some sort of interaction or correlation, assume there is no causal relationship and brainstorm (and document) ideas on reasons there could be correlation.\n",
    "> - Summarize my conclusions, provide clear answers to my specific questions, and summarize any takeaways/action plan from the work above.\n",
    "___\n",
    "\n",
    "##### Plan -> Acquire -> Prepare -> Explore -> Model\n",
    "> - Establish a baseline accuracy to determine if having a model is better than no model and train and compare at least 3 different models. Document these steps well.\n",
    "> - Train (fit, transform, evaluate) multiple models, varying the algorithm and/or hyperparameters you use.\n",
    "> - Compare evaluation metrics across all the models you train and select the ones you want to evaluate using your validate dataframe.\n",
    "> - Feature Selection (after initial iteration through pipeline): Are there any variables that seem to provide limited to no additional information? If so, remove them.\n",
    "> - Based on the evaluation of the models using the train and validate datasets, choose the best model to try with the test data, once.\n",
    "> - Test the final model on the out-of-sample data (the testing dataset), summarize the performance, interpret and document the results.\n",
    "___\n",
    "\n",
    "##### Plan -> Acquire -> Prepare -> Explore -> Model -> Deliver\n",
    "> - Introduce myself and my project goals at the very beginning of my notebook walkthrough.\n",
    "> - Summarize my findings at the beginning like I would for an Executive Summary. (Don't throw everything out that I learned from Storytelling) .\n",
    "> - Walk Codeup Data Science Team through the analysis I did to answer my questions and that lead to my findings. (Visualize relationships and Document takeaways.) \n",
    "> - Clearly call out the questions and answers I am analyzing as well as offer insights and recommendations based on my findings.\n",
    "\n",
    "<hr style=\"border-top: 10px groove blue; margin-top: 1px; margin-bottom: 1px\"></hr>\n",
    "\n",
    "### Reproduce My Project\n",
    "\n",
    "<hr style=\"border-top: 10px groove blue; margin-top: 1px; margin-bottom: 1px\"></hr>\n",
    "\n",
    "You will need your own env file with database credentials along with all the necessary files listed below to run my final project notebook. \n",
    "- [x] Read this README.md\n",
    "- [ ] Download the aquire.py, prepare.py, and final_report.ipynb files into your working directory\n",
    "- [ ] Add your own env file to your directory. (user, password, host)\n",
    "- [ ] Run the final_report.ipynb notebook"
   ]
  },
  {
   "cell_type": "code",
   "execution_count": null,
   "id": "9907b3c9",
   "metadata": {},
   "outputs": [],
   "source": []
  }
 ],
 "metadata": {
  "kernelspec": {
   "display_name": "Python 3 (ipykernel)",
   "language": "python",
   "name": "python3"
  },
  "language_info": {
   "codemirror_mode": {
    "name": "ipython",
    "version": 3
   },
   "file_extension": ".py",
   "mimetype": "text/x-python",
   "name": "python",
   "nbconvert_exporter": "python",
   "pygments_lexer": "ipython3",
   "version": "3.9.12"
  }
 },
 "nbformat": 4,
 "nbformat_minor": 5
}
