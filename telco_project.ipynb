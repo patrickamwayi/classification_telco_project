{
 "cells": [
  {
   "cell_type": "code",
   "execution_count": 84,
   "id": "407e9379",
   "metadata": {},
   "outputs": [],
   "source": [
    "import numpy as np\n",
    "import pandas as pd\n",
    "from io import StringIO\n",
    "import warnings\n",
    "warnings.filterwarnings('ignore')\n",
    "\n",
    "import acquire\n",
    "import prepare\n",
    "# grab Decision Tree Classifier and some helping friends from sklearn.tree\n",
    "from sklearn.tree import DecisionTreeClassifier, plot_tree, export_text\n",
    "# get classification report for model assessment\n",
    "from sklearn.metrics import classification_report\n",
    "import sklearn\n",
    "from sklearn.ensemble import RandomForestClassifier\n",
    "from sklearn.neighbors import KNeighborsClassifier\n",
    "from sklearn.linear_model import LogisticRegression\n",
    "from sklearn.metrics import classification_report, confusion_matrix, plot_confusion_matrix,ConfusionMatrixDisplay\n",
    "\n",
    "# visualize\n",
    "import matplotlib.pyplot as plt\n",
    "import seaborn as sns\n",
    "plt.rc('figure', figsize=(8, 6))\n",
    "plt.rc('font', size=13)\n"
   ]
  },
  {
   "cell_type": "markdown",
   "id": "cf4e0b99",
   "metadata": {},
   "source": [
    "## Telco Classification Project"
   ]
  },
  {
   "cell_type": "markdown",
   "id": "50cb93da",
   "metadata": {},
   "source": [
    "### Data Acquisition"
   ]
  },
  {
   "cell_type": "code",
   "execution_count": 85,
   "id": "d86d4638",
   "metadata": {},
   "outputs": [],
   "source": [
    "# get telco data\n",
    "df = acquire.get_telco_data()\n"
   ]
  },
  {
   "cell_type": "code",
   "execution_count": 86,
   "id": "06eb0118",
   "metadata": {},
   "outputs": [
    {
     "data": {
      "text/html": [
       "<div>\n",
       "<style scoped>\n",
       "    .dataframe tbody tr th:only-of-type {\n",
       "        vertical-align: middle;\n",
       "    }\n",
       "\n",
       "    .dataframe tbody tr th {\n",
       "        vertical-align: top;\n",
       "    }\n",
       "\n",
       "    .dataframe thead th {\n",
       "        text-align: right;\n",
       "    }\n",
       "</style>\n",
       "<table border=\"1\" class=\"dataframe\">\n",
       "  <thead>\n",
       "    <tr style=\"text-align: right;\">\n",
       "      <th></th>\n",
       "      <th>payment_type_id</th>\n",
       "      <th>internet_service_type_id</th>\n",
       "      <th>contract_type_id</th>\n",
       "      <th>customer_id</th>\n",
       "      <th>gender</th>\n",
       "      <th>senior_citizen</th>\n",
       "      <th>partner</th>\n",
       "      <th>dependents</th>\n",
       "      <th>tenure</th>\n",
       "      <th>phone_service</th>\n",
       "      <th>...</th>\n",
       "      <th>tech_support</th>\n",
       "      <th>streaming_tv</th>\n",
       "      <th>streaming_movies</th>\n",
       "      <th>paperless_billing</th>\n",
       "      <th>monthly_charges</th>\n",
       "      <th>total_charges</th>\n",
       "      <th>churn</th>\n",
       "      <th>contract_type</th>\n",
       "      <th>internet_service_type</th>\n",
       "      <th>payment_type</th>\n",
       "    </tr>\n",
       "  </thead>\n",
       "  <tbody>\n",
       "    <tr>\n",
       "      <th>0</th>\n",
       "      <td>2</td>\n",
       "      <td>1</td>\n",
       "      <td>2</td>\n",
       "      <td>0002-ORFBO</td>\n",
       "      <td>Female</td>\n",
       "      <td>0</td>\n",
       "      <td>Yes</td>\n",
       "      <td>Yes</td>\n",
       "      <td>9</td>\n",
       "      <td>Yes</td>\n",
       "      <td>...</td>\n",
       "      <td>Yes</td>\n",
       "      <td>Yes</td>\n",
       "      <td>No</td>\n",
       "      <td>Yes</td>\n",
       "      <td>65.6</td>\n",
       "      <td>593.3</td>\n",
       "      <td>No</td>\n",
       "      <td>One year</td>\n",
       "      <td>DSL</td>\n",
       "      <td>Mailed check</td>\n",
       "    </tr>\n",
       "    <tr>\n",
       "      <th>1</th>\n",
       "      <td>2</td>\n",
       "      <td>1</td>\n",
       "      <td>1</td>\n",
       "      <td>0003-MKNFE</td>\n",
       "      <td>Male</td>\n",
       "      <td>0</td>\n",
       "      <td>No</td>\n",
       "      <td>No</td>\n",
       "      <td>9</td>\n",
       "      <td>Yes</td>\n",
       "      <td>...</td>\n",
       "      <td>No</td>\n",
       "      <td>No</td>\n",
       "      <td>Yes</td>\n",
       "      <td>No</td>\n",
       "      <td>59.9</td>\n",
       "      <td>542.4</td>\n",
       "      <td>No</td>\n",
       "      <td>Month-to-month</td>\n",
       "      <td>DSL</td>\n",
       "      <td>Mailed check</td>\n",
       "    </tr>\n",
       "    <tr>\n",
       "      <th>2</th>\n",
       "      <td>1</td>\n",
       "      <td>2</td>\n",
       "      <td>1</td>\n",
       "      <td>0004-TLHLJ</td>\n",
       "      <td>Male</td>\n",
       "      <td>0</td>\n",
       "      <td>No</td>\n",
       "      <td>No</td>\n",
       "      <td>4</td>\n",
       "      <td>Yes</td>\n",
       "      <td>...</td>\n",
       "      <td>No</td>\n",
       "      <td>No</td>\n",
       "      <td>No</td>\n",
       "      <td>Yes</td>\n",
       "      <td>73.9</td>\n",
       "      <td>280.85</td>\n",
       "      <td>Yes</td>\n",
       "      <td>Month-to-month</td>\n",
       "      <td>Fiber optic</td>\n",
       "      <td>Electronic check</td>\n",
       "    </tr>\n",
       "    <tr>\n",
       "      <th>3</th>\n",
       "      <td>1</td>\n",
       "      <td>2</td>\n",
       "      <td>1</td>\n",
       "      <td>0011-IGKFF</td>\n",
       "      <td>Male</td>\n",
       "      <td>1</td>\n",
       "      <td>Yes</td>\n",
       "      <td>No</td>\n",
       "      <td>13</td>\n",
       "      <td>Yes</td>\n",
       "      <td>...</td>\n",
       "      <td>No</td>\n",
       "      <td>Yes</td>\n",
       "      <td>Yes</td>\n",
       "      <td>Yes</td>\n",
       "      <td>98.0</td>\n",
       "      <td>1237.85</td>\n",
       "      <td>Yes</td>\n",
       "      <td>Month-to-month</td>\n",
       "      <td>Fiber optic</td>\n",
       "      <td>Electronic check</td>\n",
       "    </tr>\n",
       "    <tr>\n",
       "      <th>4</th>\n",
       "      <td>2</td>\n",
       "      <td>2</td>\n",
       "      <td>1</td>\n",
       "      <td>0013-EXCHZ</td>\n",
       "      <td>Female</td>\n",
       "      <td>1</td>\n",
       "      <td>Yes</td>\n",
       "      <td>No</td>\n",
       "      <td>3</td>\n",
       "      <td>Yes</td>\n",
       "      <td>...</td>\n",
       "      <td>Yes</td>\n",
       "      <td>Yes</td>\n",
       "      <td>No</td>\n",
       "      <td>Yes</td>\n",
       "      <td>83.9</td>\n",
       "      <td>267.4</td>\n",
       "      <td>Yes</td>\n",
       "      <td>Month-to-month</td>\n",
       "      <td>Fiber optic</td>\n",
       "      <td>Mailed check</td>\n",
       "    </tr>\n",
       "  </tbody>\n",
       "</table>\n",
       "<p>5 rows × 24 columns</p>\n",
       "</div>"
      ],
      "text/plain": [
       "   payment_type_id  internet_service_type_id  contract_type_id customer_id  \\\n",
       "0                2                         1                 2  0002-ORFBO   \n",
       "1                2                         1                 1  0003-MKNFE   \n",
       "2                1                         2                 1  0004-TLHLJ   \n",
       "3                1                         2                 1  0011-IGKFF   \n",
       "4                2                         2                 1  0013-EXCHZ   \n",
       "\n",
       "   gender  senior_citizen partner dependents  tenure phone_service  ...  \\\n",
       "0  Female               0     Yes        Yes       9           Yes  ...   \n",
       "1    Male               0      No         No       9           Yes  ...   \n",
       "2    Male               0      No         No       4           Yes  ...   \n",
       "3    Male               1     Yes         No      13           Yes  ...   \n",
       "4  Female               1     Yes         No       3           Yes  ...   \n",
       "\n",
       "  tech_support streaming_tv streaming_movies paperless_billing  \\\n",
       "0          Yes          Yes               No               Yes   \n",
       "1           No           No              Yes                No   \n",
       "2           No           No               No               Yes   \n",
       "3           No          Yes              Yes               Yes   \n",
       "4          Yes          Yes               No               Yes   \n",
       "\n",
       "  monthly_charges total_charges churn   contract_type  internet_service_type  \\\n",
       "0            65.6         593.3    No        One year                    DSL   \n",
       "1            59.9         542.4    No  Month-to-month                    DSL   \n",
       "2            73.9        280.85   Yes  Month-to-month            Fiber optic   \n",
       "3            98.0       1237.85   Yes  Month-to-month            Fiber optic   \n",
       "4            83.9         267.4   Yes  Month-to-month            Fiber optic   \n",
       "\n",
       "       payment_type  \n",
       "0      Mailed check  \n",
       "1      Mailed check  \n",
       "2  Electronic check  \n",
       "3  Electronic check  \n",
       "4      Mailed check  \n",
       "\n",
       "[5 rows x 24 columns]"
      ]
     },
     "execution_count": 86,
     "metadata": {},
     "output_type": "execute_result"
    }
   ],
   "source": [
    "# view first few rows\n",
    "df.head()"
   ]
  },
  {
   "cell_type": "markdown",
   "id": "d3bcedd9",
   "metadata": {},
   "source": [
    "### Data Preparation"
   ]
  },
  {
   "cell_type": "code",
   "execution_count": 87,
   "id": "da440bfb",
   "metadata": {},
   "outputs": [
    {
     "data": {
      "text/html": [
       "<div>\n",
       "<style scoped>\n",
       "    .dataframe tbody tr th:only-of-type {\n",
       "        vertical-align: middle;\n",
       "    }\n",
       "\n",
       "    .dataframe tbody tr th {\n",
       "        vertical-align: top;\n",
       "    }\n",
       "\n",
       "    .dataframe thead th {\n",
       "        text-align: right;\n",
       "    }\n",
       "</style>\n",
       "<table border=\"1\" class=\"dataframe\">\n",
       "  <thead>\n",
       "    <tr style=\"text-align: right;\">\n",
       "      <th></th>\n",
       "      <th>payment_type_id</th>\n",
       "      <th>internet_service_type_id</th>\n",
       "      <th>contract_type_id</th>\n",
       "      <th>senior_citizen</th>\n",
       "      <th>tenure</th>\n",
       "      <th>monthly_charges</th>\n",
       "      <th>total_charges</th>\n",
       "      <th>gender_encoded</th>\n",
       "      <th>partner_encoded</th>\n",
       "      <th>dependents_encoded</th>\n",
       "      <th>...</th>\n",
       "      <th>streaming_tv_Yes</th>\n",
       "      <th>streaming_movies_No internet service</th>\n",
       "      <th>streaming_movies_Yes</th>\n",
       "      <th>contract_type_One year</th>\n",
       "      <th>contract_type_Two year</th>\n",
       "      <th>internet_service_type_Fiber optic</th>\n",
       "      <th>internet_service_type_None</th>\n",
       "      <th>payment_type_Credit card (automatic)</th>\n",
       "      <th>payment_type_Electronic check</th>\n",
       "      <th>payment_type_Mailed check</th>\n",
       "    </tr>\n",
       "  </thead>\n",
       "  <tbody>\n",
       "    <tr>\n",
       "      <th>0</th>\n",
       "      <td>2</td>\n",
       "      <td>1</td>\n",
       "      <td>2</td>\n",
       "      <td>0</td>\n",
       "      <td>9</td>\n",
       "      <td>65.60</td>\n",
       "      <td>593.30</td>\n",
       "      <td>0</td>\n",
       "      <td>1</td>\n",
       "      <td>1</td>\n",
       "      <td>...</td>\n",
       "      <td>1</td>\n",
       "      <td>0</td>\n",
       "      <td>0</td>\n",
       "      <td>1</td>\n",
       "      <td>0</td>\n",
       "      <td>0</td>\n",
       "      <td>0</td>\n",
       "      <td>0</td>\n",
       "      <td>0</td>\n",
       "      <td>1</td>\n",
       "    </tr>\n",
       "    <tr>\n",
       "      <th>1</th>\n",
       "      <td>2</td>\n",
       "      <td>1</td>\n",
       "      <td>1</td>\n",
       "      <td>0</td>\n",
       "      <td>9</td>\n",
       "      <td>59.90</td>\n",
       "      <td>542.40</td>\n",
       "      <td>1</td>\n",
       "      <td>0</td>\n",
       "      <td>0</td>\n",
       "      <td>...</td>\n",
       "      <td>0</td>\n",
       "      <td>0</td>\n",
       "      <td>1</td>\n",
       "      <td>0</td>\n",
       "      <td>0</td>\n",
       "      <td>0</td>\n",
       "      <td>0</td>\n",
       "      <td>0</td>\n",
       "      <td>0</td>\n",
       "      <td>1</td>\n",
       "    </tr>\n",
       "    <tr>\n",
       "      <th>2</th>\n",
       "      <td>1</td>\n",
       "      <td>2</td>\n",
       "      <td>1</td>\n",
       "      <td>0</td>\n",
       "      <td>4</td>\n",
       "      <td>73.90</td>\n",
       "      <td>280.85</td>\n",
       "      <td>1</td>\n",
       "      <td>0</td>\n",
       "      <td>0</td>\n",
       "      <td>...</td>\n",
       "      <td>0</td>\n",
       "      <td>0</td>\n",
       "      <td>0</td>\n",
       "      <td>0</td>\n",
       "      <td>0</td>\n",
       "      <td>1</td>\n",
       "      <td>0</td>\n",
       "      <td>0</td>\n",
       "      <td>1</td>\n",
       "      <td>0</td>\n",
       "    </tr>\n",
       "    <tr>\n",
       "      <th>3</th>\n",
       "      <td>1</td>\n",
       "      <td>2</td>\n",
       "      <td>1</td>\n",
       "      <td>1</td>\n",
       "      <td>13</td>\n",
       "      <td>98.00</td>\n",
       "      <td>1237.85</td>\n",
       "      <td>1</td>\n",
       "      <td>1</td>\n",
       "      <td>0</td>\n",
       "      <td>...</td>\n",
       "      <td>1</td>\n",
       "      <td>0</td>\n",
       "      <td>1</td>\n",
       "      <td>0</td>\n",
       "      <td>0</td>\n",
       "      <td>1</td>\n",
       "      <td>0</td>\n",
       "      <td>0</td>\n",
       "      <td>1</td>\n",
       "      <td>0</td>\n",
       "    </tr>\n",
       "    <tr>\n",
       "      <th>4</th>\n",
       "      <td>2</td>\n",
       "      <td>2</td>\n",
       "      <td>1</td>\n",
       "      <td>1</td>\n",
       "      <td>3</td>\n",
       "      <td>83.90</td>\n",
       "      <td>267.40</td>\n",
       "      <td>0</td>\n",
       "      <td>1</td>\n",
       "      <td>0</td>\n",
       "      <td>...</td>\n",
       "      <td>1</td>\n",
       "      <td>0</td>\n",
       "      <td>0</td>\n",
       "      <td>0</td>\n",
       "      <td>0</td>\n",
       "      <td>1</td>\n",
       "      <td>0</td>\n",
       "      <td>0</td>\n",
       "      <td>0</td>\n",
       "      <td>1</td>\n",
       "    </tr>\n",
       "    <tr>\n",
       "      <th>...</th>\n",
       "      <td>...</td>\n",
       "      <td>...</td>\n",
       "      <td>...</td>\n",
       "      <td>...</td>\n",
       "      <td>...</td>\n",
       "      <td>...</td>\n",
       "      <td>...</td>\n",
       "      <td>...</td>\n",
       "      <td>...</td>\n",
       "      <td>...</td>\n",
       "      <td>...</td>\n",
       "      <td>...</td>\n",
       "      <td>...</td>\n",
       "      <td>...</td>\n",
       "      <td>...</td>\n",
       "      <td>...</td>\n",
       "      <td>...</td>\n",
       "      <td>...</td>\n",
       "      <td>...</td>\n",
       "      <td>...</td>\n",
       "      <td>...</td>\n",
       "    </tr>\n",
       "    <tr>\n",
       "      <th>7038</th>\n",
       "      <td>2</td>\n",
       "      <td>1</td>\n",
       "      <td>2</td>\n",
       "      <td>0</td>\n",
       "      <td>13</td>\n",
       "      <td>55.15</td>\n",
       "      <td>742.90</td>\n",
       "      <td>0</td>\n",
       "      <td>0</td>\n",
       "      <td>0</td>\n",
       "      <td>...</td>\n",
       "      <td>0</td>\n",
       "      <td>0</td>\n",
       "      <td>0</td>\n",
       "      <td>1</td>\n",
       "      <td>0</td>\n",
       "      <td>0</td>\n",
       "      <td>0</td>\n",
       "      <td>0</td>\n",
       "      <td>0</td>\n",
       "      <td>1</td>\n",
       "    </tr>\n",
       "    <tr>\n",
       "      <th>7039</th>\n",
       "      <td>1</td>\n",
       "      <td>2</td>\n",
       "      <td>1</td>\n",
       "      <td>0</td>\n",
       "      <td>22</td>\n",
       "      <td>85.10</td>\n",
       "      <td>1873.70</td>\n",
       "      <td>1</td>\n",
       "      <td>1</td>\n",
       "      <td>0</td>\n",
       "      <td>...</td>\n",
       "      <td>0</td>\n",
       "      <td>0</td>\n",
       "      <td>1</td>\n",
       "      <td>0</td>\n",
       "      <td>0</td>\n",
       "      <td>1</td>\n",
       "      <td>0</td>\n",
       "      <td>0</td>\n",
       "      <td>1</td>\n",
       "      <td>0</td>\n",
       "    </tr>\n",
       "    <tr>\n",
       "      <th>7040</th>\n",
       "      <td>2</td>\n",
       "      <td>1</td>\n",
       "      <td>1</td>\n",
       "      <td>0</td>\n",
       "      <td>2</td>\n",
       "      <td>50.30</td>\n",
       "      <td>92.75</td>\n",
       "      <td>1</td>\n",
       "      <td>0</td>\n",
       "      <td>0</td>\n",
       "      <td>...</td>\n",
       "      <td>0</td>\n",
       "      <td>0</td>\n",
       "      <td>0</td>\n",
       "      <td>0</td>\n",
       "      <td>0</td>\n",
       "      <td>0</td>\n",
       "      <td>0</td>\n",
       "      <td>0</td>\n",
       "      <td>0</td>\n",
       "      <td>1</td>\n",
       "    </tr>\n",
       "    <tr>\n",
       "      <th>7041</th>\n",
       "      <td>2</td>\n",
       "      <td>1</td>\n",
       "      <td>3</td>\n",
       "      <td>0</td>\n",
       "      <td>67</td>\n",
       "      <td>67.85</td>\n",
       "      <td>4627.65</td>\n",
       "      <td>1</td>\n",
       "      <td>1</td>\n",
       "      <td>1</td>\n",
       "      <td>...</td>\n",
       "      <td>0</td>\n",
       "      <td>0</td>\n",
       "      <td>1</td>\n",
       "      <td>0</td>\n",
       "      <td>1</td>\n",
       "      <td>0</td>\n",
       "      <td>0</td>\n",
       "      <td>0</td>\n",
       "      <td>0</td>\n",
       "      <td>1</td>\n",
       "    </tr>\n",
       "    <tr>\n",
       "      <th>7042</th>\n",
       "      <td>1</td>\n",
       "      <td>1</td>\n",
       "      <td>3</td>\n",
       "      <td>0</td>\n",
       "      <td>63</td>\n",
       "      <td>59.00</td>\n",
       "      <td>3707.60</td>\n",
       "      <td>1</td>\n",
       "      <td>1</td>\n",
       "      <td>1</td>\n",
       "      <td>...</td>\n",
       "      <td>1</td>\n",
       "      <td>0</td>\n",
       "      <td>1</td>\n",
       "      <td>0</td>\n",
       "      <td>1</td>\n",
       "      <td>0</td>\n",
       "      <td>0</td>\n",
       "      <td>0</td>\n",
       "      <td>1</td>\n",
       "      <td>0</td>\n",
       "    </tr>\n",
       "  </tbody>\n",
       "</table>\n",
       "<p>7043 rows × 34 columns</p>\n",
       "</div>"
      ],
      "text/plain": [
       "      payment_type_id  internet_service_type_id  contract_type_id  \\\n",
       "0                   2                         1                 2   \n",
       "1                   2                         1                 1   \n",
       "2                   1                         2                 1   \n",
       "3                   1                         2                 1   \n",
       "4                   2                         2                 1   \n",
       "...               ...                       ...               ...   \n",
       "7038                2                         1                 2   \n",
       "7039                1                         2                 1   \n",
       "7040                2                         1                 1   \n",
       "7041                2                         1                 3   \n",
       "7042                1                         1                 3   \n",
       "\n",
       "      senior_citizen  tenure  monthly_charges  total_charges  gender_encoded  \\\n",
       "0                  0       9            65.60         593.30               0   \n",
       "1                  0       9            59.90         542.40               1   \n",
       "2                  0       4            73.90         280.85               1   \n",
       "3                  1      13            98.00        1237.85               1   \n",
       "4                  1       3            83.90         267.40               0   \n",
       "...              ...     ...              ...            ...             ...   \n",
       "7038               0      13            55.15         742.90               0   \n",
       "7039               0      22            85.10        1873.70               1   \n",
       "7040               0       2            50.30          92.75               1   \n",
       "7041               0      67            67.85        4627.65               1   \n",
       "7042               0      63            59.00        3707.60               1   \n",
       "\n",
       "      partner_encoded  dependents_encoded  ...  streaming_tv_Yes  \\\n",
       "0                   1                   1  ...                 1   \n",
       "1                   0                   0  ...                 0   \n",
       "2                   0                   0  ...                 0   \n",
       "3                   1                   0  ...                 1   \n",
       "4                   1                   0  ...                 1   \n",
       "...               ...                 ...  ...               ...   \n",
       "7038                0                   0  ...                 0   \n",
       "7039                1                   0  ...                 0   \n",
       "7040                0                   0  ...                 0   \n",
       "7041                1                   1  ...                 0   \n",
       "7042                1                   1  ...                 1   \n",
       "\n",
       "      streaming_movies_No internet service  streaming_movies_Yes  \\\n",
       "0                                        0                     0   \n",
       "1                                        0                     1   \n",
       "2                                        0                     0   \n",
       "3                                        0                     1   \n",
       "4                                        0                     0   \n",
       "...                                    ...                   ...   \n",
       "7038                                     0                     0   \n",
       "7039                                     0                     1   \n",
       "7040                                     0                     0   \n",
       "7041                                     0                     1   \n",
       "7042                                     0                     1   \n",
       "\n",
       "      contract_type_One year  contract_type_Two year  \\\n",
       "0                          1                       0   \n",
       "1                          0                       0   \n",
       "2                          0                       0   \n",
       "3                          0                       0   \n",
       "4                          0                       0   \n",
       "...                      ...                     ...   \n",
       "7038                       1                       0   \n",
       "7039                       0                       0   \n",
       "7040                       0                       0   \n",
       "7041                       0                       1   \n",
       "7042                       0                       1   \n",
       "\n",
       "      internet_service_type_Fiber optic  internet_service_type_None  \\\n",
       "0                                     0                           0   \n",
       "1                                     0                           0   \n",
       "2                                     1                           0   \n",
       "3                                     1                           0   \n",
       "4                                     1                           0   \n",
       "...                                 ...                         ...   \n",
       "7038                                  0                           0   \n",
       "7039                                  1                           0   \n",
       "7040                                  0                           0   \n",
       "7041                                  0                           0   \n",
       "7042                                  0                           0   \n",
       "\n",
       "      payment_type_Credit card (automatic)  payment_type_Electronic check  \\\n",
       "0                                        0                              0   \n",
       "1                                        0                              0   \n",
       "2                                        0                              1   \n",
       "3                                        0                              1   \n",
       "4                                        0                              0   \n",
       "...                                    ...                            ...   \n",
       "7038                                     0                              0   \n",
       "7039                                     0                              1   \n",
       "7040                                     0                              0   \n",
       "7041                                     0                              0   \n",
       "7042                                     0                              1   \n",
       "\n",
       "      payment_type_Mailed check  \n",
       "0                             1  \n",
       "1                             1  \n",
       "2                             0  \n",
       "3                             0  \n",
       "4                             1  \n",
       "...                         ...  \n",
       "7038                          1  \n",
       "7039                          0  \n",
       "7040                          1  \n",
       "7041                          1  \n",
       "7042                          0  \n",
       "\n",
       "[7043 rows x 34 columns]"
      ]
     },
     "execution_count": 87,
     "metadata": {},
     "output_type": "execute_result"
    }
   ],
   "source": [
    "df = prepare.prep_telco(df)\n",
    "df"
   ]
  },
  {
   "cell_type": "code",
   "execution_count": 88,
   "id": "51d88266",
   "metadata": {},
   "outputs": [
    {
     "name": "stdout",
     "output_type": "stream",
     "text": [
      "<class 'pandas.core.frame.DataFrame'>\n",
      "Int64Index: 7043 entries, 0 to 7042\n",
      "Data columns (total 34 columns):\n",
      " #   Column                                 Non-Null Count  Dtype  \n",
      "---  ------                                 --------------  -----  \n",
      " 0   payment_type_id                        7043 non-null   int64  \n",
      " 1   internet_service_type_id               7043 non-null   int64  \n",
      " 2   contract_type_id                       7043 non-null   int64  \n",
      " 3   senior_citizen                         7043 non-null   int64  \n",
      " 4   tenure                                 7043 non-null   int64  \n",
      " 5   monthly_charges                        7043 non-null   float64\n",
      " 6   total_charges                          7043 non-null   float64\n",
      " 7   gender_encoded                         7043 non-null   int64  \n",
      " 8   partner_encoded                        7043 non-null   int64  \n",
      " 9   dependents_encoded                     7043 non-null   int64  \n",
      " 10  phone_service_encoded                  7043 non-null   int64  \n",
      " 11  paperless_billing_encoded              7043 non-null   int64  \n",
      " 12  churn_encoded                          7043 non-null   int64  \n",
      " 13  multiple_lines_No phone service        7043 non-null   uint8  \n",
      " 14  multiple_lines_Yes                     7043 non-null   uint8  \n",
      " 15  online_security_No internet service    7043 non-null   uint8  \n",
      " 16  online_security_Yes                    7043 non-null   uint8  \n",
      " 17  online_backup_No internet service      7043 non-null   uint8  \n",
      " 18  online_backup_Yes                      7043 non-null   uint8  \n",
      " 19  device_protection_No internet service  7043 non-null   uint8  \n",
      " 20  device_protection_Yes                  7043 non-null   uint8  \n",
      " 21  tech_support_No internet service       7043 non-null   uint8  \n",
      " 22  tech_support_Yes                       7043 non-null   uint8  \n",
      " 23  streaming_tv_No internet service       7043 non-null   uint8  \n",
      " 24  streaming_tv_Yes                       7043 non-null   uint8  \n",
      " 25  streaming_movies_No internet service   7043 non-null   uint8  \n",
      " 26  streaming_movies_Yes                   7043 non-null   uint8  \n",
      " 27  contract_type_One year                 7043 non-null   uint8  \n",
      " 28  contract_type_Two year                 7043 non-null   uint8  \n",
      " 29  internet_service_type_Fiber optic      7043 non-null   uint8  \n",
      " 30  internet_service_type_None             7043 non-null   uint8  \n",
      " 31  payment_type_Credit card (automatic)   7043 non-null   uint8  \n",
      " 32  payment_type_Electronic check          7043 non-null   uint8  \n",
      " 33  payment_type_Mailed check              7043 non-null   uint8  \n",
      "dtypes: float64(2), int64(11), uint8(21)\n",
      "memory usage: 914.8 KB\n"
     ]
    }
   ],
   "source": [
    "df.info()"
   ]
  },
  {
   "cell_type": "code",
   "execution_count": 89,
   "id": "2e767bcd",
   "metadata": {},
   "outputs": [
    {
     "name": "stdout",
     "output_type": "stream",
     "text": [
      "(4225, 34) (1409, 34) (1409, 34)\n",
      "                                        count         mean          std  \\\n",
      "payment_type_id                        4225.0     2.319053     1.151612   \n",
      "internet_service_type_id               4225.0     1.875976     0.738711   \n",
      "contract_type_id                       4225.0     1.687101     0.828349   \n",
      "senior_citizen                         4225.0     0.161893     0.368397   \n",
      "tenure                                 4225.0    32.500828    24.532563   \n",
      "monthly_charges                        4225.0    65.056142    30.268493   \n",
      "total_charges                          4225.0  2298.513598  2271.603284   \n",
      "gender_encoded                         4225.0     0.508639     0.499985   \n",
      "partner_encoded                        4225.0     0.488521     0.499927   \n",
      "dependents_encoded                     4225.0     0.306272     0.460999   \n",
      "phone_service_encoded                  4225.0     0.906982     0.290492   \n",
      "paperless_billing_encoded              4225.0     0.593846     0.491172   \n",
      "churn_encoded                          4225.0     0.265325     0.441559   \n",
      "multiple_lines_No phone service        4225.0     0.093018     0.290492   \n",
      "multiple_lines_Yes                     4225.0     0.427692     0.494803   \n",
      "online_security_No internet service    4225.0     0.218462     0.413251   \n",
      "online_security_Yes                    4225.0     0.291598     0.454552   \n",
      "online_backup_No internet service      4225.0     0.218462     0.413251   \n",
      "online_backup_Yes                      4225.0     0.350059     0.477045   \n",
      "device_protection_No internet service  4225.0     0.218462     0.413251   \n",
      "device_protection_Yes                  4225.0     0.351006     0.477341   \n",
      "tech_support_No internet service       4225.0     0.218462     0.413251   \n",
      "tech_support_Yes                       4225.0     0.289467     0.453569   \n",
      "streaming_tv_No internet service       4225.0     0.218462     0.413251   \n",
      "streaming_tv_Yes                       4225.0     0.392189     0.488296   \n",
      "streaming_movies_No internet service   4225.0     0.218462     0.413251   \n",
      "streaming_movies_Yes                   4225.0     0.395503     0.489016   \n",
      "contract_type_One year                 4225.0     0.216095     0.411628   \n",
      "contract_type_Two year                 4225.0     0.235503     0.424363   \n",
      "internet_service_type_Fiber optic      4225.0     0.439053     0.496330   \n",
      "internet_service_type_None             4225.0     0.218462     0.413251   \n",
      "payment_type_Credit card (automatic)   4225.0     0.217515     0.412604   \n",
      "payment_type_Electronic check          4225.0     0.336805     0.472673   \n",
      "payment_type_Mailed check              4225.0     0.224852     0.417534   \n",
      "\n",
      "                                         min     25%      50%      75%  \\\n",
      "payment_type_id                         1.00    1.00     2.00     3.00   \n",
      "internet_service_type_id                1.00    1.00     2.00     2.00   \n",
      "contract_type_id                        1.00    1.00     1.00     2.00   \n",
      "senior_citizen                          0.00    0.00     0.00     0.00   \n",
      "tenure                                  0.00    9.00    29.00    55.00   \n",
      "monthly_charges                        18.25   35.65    70.40    90.15   \n",
      "total_charges                           0.00  411.60  1401.15  3865.45   \n",
      "gender_encoded                          0.00    0.00     1.00     1.00   \n",
      "partner_encoded                         0.00    0.00     0.00     1.00   \n",
      "dependents_encoded                      0.00    0.00     0.00     1.00   \n",
      "phone_service_encoded                   0.00    1.00     1.00     1.00   \n",
      "paperless_billing_encoded               0.00    0.00     1.00     1.00   \n",
      "churn_encoded                           0.00    0.00     0.00     1.00   \n",
      "multiple_lines_No phone service         0.00    0.00     0.00     0.00   \n",
      "multiple_lines_Yes                      0.00    0.00     0.00     1.00   \n",
      "online_security_No internet service     0.00    0.00     0.00     0.00   \n",
      "online_security_Yes                     0.00    0.00     0.00     1.00   \n",
      "online_backup_No internet service       0.00    0.00     0.00     0.00   \n",
      "online_backup_Yes                       0.00    0.00     0.00     1.00   \n",
      "device_protection_No internet service   0.00    0.00     0.00     0.00   \n",
      "device_protection_Yes                   0.00    0.00     0.00     1.00   \n",
      "tech_support_No internet service        0.00    0.00     0.00     0.00   \n",
      "tech_support_Yes                        0.00    0.00     0.00     1.00   \n",
      "streaming_tv_No internet service        0.00    0.00     0.00     0.00   \n",
      "streaming_tv_Yes                        0.00    0.00     0.00     1.00   \n",
      "streaming_movies_No internet service    0.00    0.00     0.00     0.00   \n",
      "streaming_movies_Yes                    0.00    0.00     0.00     1.00   \n",
      "contract_type_One year                  0.00    0.00     0.00     0.00   \n",
      "contract_type_Two year                  0.00    0.00     0.00     0.00   \n",
      "internet_service_type_Fiber optic       0.00    0.00     0.00     1.00   \n",
      "internet_service_type_None              0.00    0.00     0.00     0.00   \n",
      "payment_type_Credit card (automatic)    0.00    0.00     0.00     0.00   \n",
      "payment_type_Electronic check           0.00    0.00     0.00     1.00   \n",
      "payment_type_Mailed check               0.00    0.00     0.00     0.00   \n",
      "\n",
      "                                           max  \n",
      "payment_type_id                           4.00  \n",
      "internet_service_type_id                  3.00  \n",
      "contract_type_id                          3.00  \n",
      "senior_citizen                            1.00  \n",
      "tenure                                   72.00  \n",
      "monthly_charges                         118.75  \n",
      "total_charges                          8672.45  \n",
      "gender_encoded                            1.00  \n",
      "partner_encoded                           1.00  \n",
      "dependents_encoded                        1.00  \n",
      "phone_service_encoded                     1.00  \n",
      "paperless_billing_encoded                 1.00  \n",
      "churn_encoded                             1.00  \n",
      "multiple_lines_No phone service           1.00  \n",
      "multiple_lines_Yes                        1.00  \n",
      "online_security_No internet service       1.00  \n",
      "online_security_Yes                       1.00  \n",
      "online_backup_No internet service         1.00  \n",
      "online_backup_Yes                         1.00  \n",
      "device_protection_No internet service     1.00  \n",
      "device_protection_Yes                     1.00  \n",
      "tech_support_No internet service          1.00  \n",
      "tech_support_Yes                          1.00  \n",
      "streaming_tv_No internet service          1.00  \n",
      "streaming_tv_Yes                          1.00  \n",
      "streaming_movies_No internet service      1.00  \n",
      "streaming_movies_Yes                      1.00  \n",
      "contract_type_One year                    1.00  \n",
      "contract_type_Two year                    1.00  \n",
      "internet_service_type_Fiber optic         1.00  \n",
      "internet_service_type_None                1.00  \n",
      "payment_type_Credit card (automatic)      1.00  \n",
      "payment_type_Electronic check             1.00  \n",
      "payment_type_Mailed check                 1.00  \n"
     ]
    }
   ],
   "source": [
    "telco_train, telco_validate, telco_test = prepare.my_train_test_split(df,\"churn_encoded\")\n",
    "print(telco_train.shape, telco_validate.shape, telco_test.shape)\n",
    "print(telco_train.describe().T)\n"
   ]
  },
  {
   "cell_type": "code",
   "execution_count": 90,
   "id": "8139f974",
   "metadata": {},
   "outputs": [
    {
     "data": {
      "text/html": [
       "<div>\n",
       "<style scoped>\n",
       "    .dataframe tbody tr th:only-of-type {\n",
       "        vertical-align: middle;\n",
       "    }\n",
       "\n",
       "    .dataframe tbody tr th {\n",
       "        vertical-align: top;\n",
       "    }\n",
       "\n",
       "    .dataframe thead th {\n",
       "        text-align: right;\n",
       "    }\n",
       "</style>\n",
       "<table border=\"1\" class=\"dataframe\">\n",
       "  <thead>\n",
       "    <tr style=\"text-align: right;\">\n",
       "      <th></th>\n",
       "      <th>payment_type_id</th>\n",
       "      <th>internet_service_type_id</th>\n",
       "      <th>contract_type_id</th>\n",
       "      <th>senior_citizen</th>\n",
       "      <th>tenure</th>\n",
       "      <th>monthly_charges</th>\n",
       "      <th>total_charges</th>\n",
       "      <th>gender_encoded</th>\n",
       "      <th>partner_encoded</th>\n",
       "      <th>dependents_encoded</th>\n",
       "      <th>...</th>\n",
       "      <th>streaming_tv_Yes</th>\n",
       "      <th>streaming_movies_No internet service</th>\n",
       "      <th>streaming_movies_Yes</th>\n",
       "      <th>contract_type_One year</th>\n",
       "      <th>contract_type_Two year</th>\n",
       "      <th>internet_service_type_Fiber optic</th>\n",
       "      <th>internet_service_type_None</th>\n",
       "      <th>payment_type_Credit card (automatic)</th>\n",
       "      <th>payment_type_Electronic check</th>\n",
       "      <th>payment_type_Mailed check</th>\n",
       "    </tr>\n",
       "  </thead>\n",
       "  <tbody>\n",
       "    <tr>\n",
       "      <th>count</th>\n",
       "      <td>4225.000000</td>\n",
       "      <td>4225.000000</td>\n",
       "      <td>4225.000000</td>\n",
       "      <td>4225.000000</td>\n",
       "      <td>4225.000000</td>\n",
       "      <td>4225.000000</td>\n",
       "      <td>4225.000000</td>\n",
       "      <td>4225.000000</td>\n",
       "      <td>4225.000000</td>\n",
       "      <td>4225.000000</td>\n",
       "      <td>...</td>\n",
       "      <td>4225.000000</td>\n",
       "      <td>4225.000000</td>\n",
       "      <td>4225.000000</td>\n",
       "      <td>4225.000000</td>\n",
       "      <td>4225.000000</td>\n",
       "      <td>4225.000000</td>\n",
       "      <td>4225.000000</td>\n",
       "      <td>4225.000000</td>\n",
       "      <td>4225.000000</td>\n",
       "      <td>4225.000000</td>\n",
       "    </tr>\n",
       "    <tr>\n",
       "      <th>mean</th>\n",
       "      <td>2.319053</td>\n",
       "      <td>1.875976</td>\n",
       "      <td>1.687101</td>\n",
       "      <td>0.161893</td>\n",
       "      <td>32.500828</td>\n",
       "      <td>65.056142</td>\n",
       "      <td>2298.513598</td>\n",
       "      <td>0.508639</td>\n",
       "      <td>0.488521</td>\n",
       "      <td>0.306272</td>\n",
       "      <td>...</td>\n",
       "      <td>0.392189</td>\n",
       "      <td>0.218462</td>\n",
       "      <td>0.395503</td>\n",
       "      <td>0.216095</td>\n",
       "      <td>0.235503</td>\n",
       "      <td>0.439053</td>\n",
       "      <td>0.218462</td>\n",
       "      <td>0.217515</td>\n",
       "      <td>0.336805</td>\n",
       "      <td>0.224852</td>\n",
       "    </tr>\n",
       "    <tr>\n",
       "      <th>std</th>\n",
       "      <td>1.151612</td>\n",
       "      <td>0.738711</td>\n",
       "      <td>0.828349</td>\n",
       "      <td>0.368397</td>\n",
       "      <td>24.532563</td>\n",
       "      <td>30.268493</td>\n",
       "      <td>2271.603284</td>\n",
       "      <td>0.499985</td>\n",
       "      <td>0.499927</td>\n",
       "      <td>0.460999</td>\n",
       "      <td>...</td>\n",
       "      <td>0.488296</td>\n",
       "      <td>0.413251</td>\n",
       "      <td>0.489016</td>\n",
       "      <td>0.411628</td>\n",
       "      <td>0.424363</td>\n",
       "      <td>0.496330</td>\n",
       "      <td>0.413251</td>\n",
       "      <td>0.412604</td>\n",
       "      <td>0.472673</td>\n",
       "      <td>0.417534</td>\n",
       "    </tr>\n",
       "    <tr>\n",
       "      <th>min</th>\n",
       "      <td>1.000000</td>\n",
       "      <td>1.000000</td>\n",
       "      <td>1.000000</td>\n",
       "      <td>0.000000</td>\n",
       "      <td>0.000000</td>\n",
       "      <td>18.250000</td>\n",
       "      <td>0.000000</td>\n",
       "      <td>0.000000</td>\n",
       "      <td>0.000000</td>\n",
       "      <td>0.000000</td>\n",
       "      <td>...</td>\n",
       "      <td>0.000000</td>\n",
       "      <td>0.000000</td>\n",
       "      <td>0.000000</td>\n",
       "      <td>0.000000</td>\n",
       "      <td>0.000000</td>\n",
       "      <td>0.000000</td>\n",
       "      <td>0.000000</td>\n",
       "      <td>0.000000</td>\n",
       "      <td>0.000000</td>\n",
       "      <td>0.000000</td>\n",
       "    </tr>\n",
       "    <tr>\n",
       "      <th>25%</th>\n",
       "      <td>1.000000</td>\n",
       "      <td>1.000000</td>\n",
       "      <td>1.000000</td>\n",
       "      <td>0.000000</td>\n",
       "      <td>9.000000</td>\n",
       "      <td>35.650000</td>\n",
       "      <td>411.600000</td>\n",
       "      <td>0.000000</td>\n",
       "      <td>0.000000</td>\n",
       "      <td>0.000000</td>\n",
       "      <td>...</td>\n",
       "      <td>0.000000</td>\n",
       "      <td>0.000000</td>\n",
       "      <td>0.000000</td>\n",
       "      <td>0.000000</td>\n",
       "      <td>0.000000</td>\n",
       "      <td>0.000000</td>\n",
       "      <td>0.000000</td>\n",
       "      <td>0.000000</td>\n",
       "      <td>0.000000</td>\n",
       "      <td>0.000000</td>\n",
       "    </tr>\n",
       "    <tr>\n",
       "      <th>50%</th>\n",
       "      <td>2.000000</td>\n",
       "      <td>2.000000</td>\n",
       "      <td>1.000000</td>\n",
       "      <td>0.000000</td>\n",
       "      <td>29.000000</td>\n",
       "      <td>70.400000</td>\n",
       "      <td>1401.150000</td>\n",
       "      <td>1.000000</td>\n",
       "      <td>0.000000</td>\n",
       "      <td>0.000000</td>\n",
       "      <td>...</td>\n",
       "      <td>0.000000</td>\n",
       "      <td>0.000000</td>\n",
       "      <td>0.000000</td>\n",
       "      <td>0.000000</td>\n",
       "      <td>0.000000</td>\n",
       "      <td>0.000000</td>\n",
       "      <td>0.000000</td>\n",
       "      <td>0.000000</td>\n",
       "      <td>0.000000</td>\n",
       "      <td>0.000000</td>\n",
       "    </tr>\n",
       "    <tr>\n",
       "      <th>75%</th>\n",
       "      <td>3.000000</td>\n",
       "      <td>2.000000</td>\n",
       "      <td>2.000000</td>\n",
       "      <td>0.000000</td>\n",
       "      <td>55.000000</td>\n",
       "      <td>90.150000</td>\n",
       "      <td>3865.450000</td>\n",
       "      <td>1.000000</td>\n",
       "      <td>1.000000</td>\n",
       "      <td>1.000000</td>\n",
       "      <td>...</td>\n",
       "      <td>1.000000</td>\n",
       "      <td>0.000000</td>\n",
       "      <td>1.000000</td>\n",
       "      <td>0.000000</td>\n",
       "      <td>0.000000</td>\n",
       "      <td>1.000000</td>\n",
       "      <td>0.000000</td>\n",
       "      <td>0.000000</td>\n",
       "      <td>1.000000</td>\n",
       "      <td>0.000000</td>\n",
       "    </tr>\n",
       "    <tr>\n",
       "      <th>max</th>\n",
       "      <td>4.000000</td>\n",
       "      <td>3.000000</td>\n",
       "      <td>3.000000</td>\n",
       "      <td>1.000000</td>\n",
       "      <td>72.000000</td>\n",
       "      <td>118.750000</td>\n",
       "      <td>8672.450000</td>\n",
       "      <td>1.000000</td>\n",
       "      <td>1.000000</td>\n",
       "      <td>1.000000</td>\n",
       "      <td>...</td>\n",
       "      <td>1.000000</td>\n",
       "      <td>1.000000</td>\n",
       "      <td>1.000000</td>\n",
       "      <td>1.000000</td>\n",
       "      <td>1.000000</td>\n",
       "      <td>1.000000</td>\n",
       "      <td>1.000000</td>\n",
       "      <td>1.000000</td>\n",
       "      <td>1.000000</td>\n",
       "      <td>1.000000</td>\n",
       "    </tr>\n",
       "  </tbody>\n",
       "</table>\n",
       "<p>8 rows × 34 columns</p>\n",
       "</div>"
      ],
      "text/plain": [
       "       payment_type_id  internet_service_type_id  contract_type_id  \\\n",
       "count      4225.000000               4225.000000       4225.000000   \n",
       "mean          2.319053                  1.875976          1.687101   \n",
       "std           1.151612                  0.738711          0.828349   \n",
       "min           1.000000                  1.000000          1.000000   \n",
       "25%           1.000000                  1.000000          1.000000   \n",
       "50%           2.000000                  2.000000          1.000000   \n",
       "75%           3.000000                  2.000000          2.000000   \n",
       "max           4.000000                  3.000000          3.000000   \n",
       "\n",
       "       senior_citizen       tenure  monthly_charges  total_charges  \\\n",
       "count     4225.000000  4225.000000      4225.000000    4225.000000   \n",
       "mean         0.161893    32.500828        65.056142    2298.513598   \n",
       "std          0.368397    24.532563        30.268493    2271.603284   \n",
       "min          0.000000     0.000000        18.250000       0.000000   \n",
       "25%          0.000000     9.000000        35.650000     411.600000   \n",
       "50%          0.000000    29.000000        70.400000    1401.150000   \n",
       "75%          0.000000    55.000000        90.150000    3865.450000   \n",
       "max          1.000000    72.000000       118.750000    8672.450000   \n",
       "\n",
       "       gender_encoded  partner_encoded  dependents_encoded  ...  \\\n",
       "count     4225.000000      4225.000000         4225.000000  ...   \n",
       "mean         0.508639         0.488521            0.306272  ...   \n",
       "std          0.499985         0.499927            0.460999  ...   \n",
       "min          0.000000         0.000000            0.000000  ...   \n",
       "25%          0.000000         0.000000            0.000000  ...   \n",
       "50%          1.000000         0.000000            0.000000  ...   \n",
       "75%          1.000000         1.000000            1.000000  ...   \n",
       "max          1.000000         1.000000            1.000000  ...   \n",
       "\n",
       "       streaming_tv_Yes  streaming_movies_No internet service  \\\n",
       "count       4225.000000                           4225.000000   \n",
       "mean           0.392189                              0.218462   \n",
       "std            0.488296                              0.413251   \n",
       "min            0.000000                              0.000000   \n",
       "25%            0.000000                              0.000000   \n",
       "50%            0.000000                              0.000000   \n",
       "75%            1.000000                              0.000000   \n",
       "max            1.000000                              1.000000   \n",
       "\n",
       "       streaming_movies_Yes  contract_type_One year  contract_type_Two year  \\\n",
       "count           4225.000000             4225.000000             4225.000000   \n",
       "mean               0.395503                0.216095                0.235503   \n",
       "std                0.489016                0.411628                0.424363   \n",
       "min                0.000000                0.000000                0.000000   \n",
       "25%                0.000000                0.000000                0.000000   \n",
       "50%                0.000000                0.000000                0.000000   \n",
       "75%                1.000000                0.000000                0.000000   \n",
       "max                1.000000                1.000000                1.000000   \n",
       "\n",
       "       internet_service_type_Fiber optic  internet_service_type_None  \\\n",
       "count                        4225.000000                 4225.000000   \n",
       "mean                            0.439053                    0.218462   \n",
       "std                             0.496330                    0.413251   \n",
       "min                             0.000000                    0.000000   \n",
       "25%                             0.000000                    0.000000   \n",
       "50%                             0.000000                    0.000000   \n",
       "75%                             1.000000                    0.000000   \n",
       "max                             1.000000                    1.000000   \n",
       "\n",
       "       payment_type_Credit card (automatic)  payment_type_Electronic check  \\\n",
       "count                           4225.000000                    4225.000000   \n",
       "mean                               0.217515                       0.336805   \n",
       "std                                0.412604                       0.472673   \n",
       "min                                0.000000                       0.000000   \n",
       "25%                                0.000000                       0.000000   \n",
       "50%                                0.000000                       0.000000   \n",
       "75%                                0.000000                       1.000000   \n",
       "max                                1.000000                       1.000000   \n",
       "\n",
       "       payment_type_Mailed check  \n",
       "count                4225.000000  \n",
       "mean                    0.224852  \n",
       "std                     0.417534  \n",
       "min                     0.000000  \n",
       "25%                     0.000000  \n",
       "50%                     0.000000  \n",
       "75%                     0.000000  \n",
       "max                     1.000000  \n",
       "\n",
       "[8 rows x 34 columns]"
      ]
     },
     "execution_count": 90,
     "metadata": {},
     "output_type": "execute_result"
    }
   ],
   "source": [
    "telco_train.describe()"
   ]
  },
  {
   "cell_type": "code",
   "execution_count": 91,
   "id": "b72ea71f",
   "metadata": {},
   "outputs": [
    {
     "data": {
      "text/plain": [
       "(Index(['payment_type_id', 'internet_service_type_id', 'contract_type_id',\n",
       "        'senior_citizen', 'tenure', 'monthly_charges', 'total_charges',\n",
       "        'gender_encoded', 'partner_encoded', 'dependents_encoded',\n",
       "        'phone_service_encoded', 'paperless_billing_encoded', 'churn_encoded',\n",
       "        'multiple_lines_No phone service', 'multiple_lines_Yes',\n",
       "        'online_security_No internet service', 'online_security_Yes',\n",
       "        'online_backup_No internet service', 'online_backup_Yes',\n",
       "        'device_protection_No internet service', 'device_protection_Yes',\n",
       "        'tech_support_No internet service', 'tech_support_Yes',\n",
       "        'streaming_tv_No internet service', 'streaming_tv_Yes',\n",
       "        'streaming_movies_No internet service', 'streaming_movies_Yes',\n",
       "        'contract_type_One year', 'contract_type_Two year',\n",
       "        'internet_service_type_Fiber optic', 'internet_service_type_None',\n",
       "        'payment_type_Credit card (automatic)', 'payment_type_Electronic check',\n",
       "        'payment_type_Mailed check'],\n",
       "       dtype='object'),\n",
       " Index(['payment_type_id', 'internet_service_type_id', 'contract_type_id',\n",
       "        'senior_citizen', 'tenure', 'monthly_charges', 'total_charges',\n",
       "        'gender_encoded', 'partner_encoded', 'dependents_encoded',\n",
       "        'phone_service_encoded', 'paperless_billing_encoded', 'churn_encoded',\n",
       "        'multiple_lines_No phone service', 'multiple_lines_Yes',\n",
       "        'online_security_No internet service', 'online_security_Yes',\n",
       "        'online_backup_No internet service', 'online_backup_Yes',\n",
       "        'device_protection_No internet service', 'device_protection_Yes',\n",
       "        'tech_support_No internet service', 'tech_support_Yes',\n",
       "        'streaming_tv_No internet service', 'streaming_tv_Yes',\n",
       "        'streaming_movies_No internet service', 'streaming_movies_Yes',\n",
       "        'contract_type_One year', 'contract_type_Two year',\n",
       "        'internet_service_type_Fiber optic', 'internet_service_type_None',\n",
       "        'payment_type_Credit card (automatic)', 'payment_type_Electronic check',\n",
       "        'payment_type_Mailed check'],\n",
       "       dtype='object'))"
      ]
     },
     "execution_count": 91,
     "metadata": {},
     "output_type": "execute_result"
    }
   ],
   "source": [
    "telco_train.columns, telco_validate.columns\n"
   ]
  },
  {
   "cell_type": "code",
   "execution_count": 92,
   "id": "74f550e7",
   "metadata": {},
   "outputs": [],
   "source": [
    "# X is indepedent variables\n",
    "# y is target variable\n",
    "\n",
    "# x and y train\n",
    "X_telco_train = telco_train.drop(columns = 'churn_encoded')\n",
    "y_telco_train = telco_train.churn_encoded\n",
    "\n",
    "# x and y validate\n",
    "X_telco_validate = telco_validate.drop(columns = 'churn_encoded')\n",
    "y_telco_validate = telco_validate.churn_encoded\n",
    "\n",
    "# x and y test\n",
    "X_telco_test = telco_test.drop(columns = 'churn_encoded')\n",
    "y_telco_test = telco_test.churn_encoded"
   ]
  },
  {
   "cell_type": "code",
   "execution_count": 93,
   "id": "6892c8a7",
   "metadata": {},
   "outputs": [
    {
     "data": {
      "text/plain": [
       "0    3104\n",
       "1    1121\n",
       "Name: churn_encoded, dtype: int64"
      ]
     },
     "execution_count": 93,
     "metadata": {},
     "output_type": "execute_result"
    }
   ],
   "source": [
    "# y_train data\n",
    "y_telco_train.value_counts()"
   ]
  },
  {
   "cell_type": "code",
   "execution_count": 94,
   "id": "e9cd502a",
   "metadata": {},
   "outputs": [
    {
     "name": "stdout",
     "output_type": "stream",
     "text": [
      "The churn baseline is: 0.7346745562130178\n"
     ]
    }
   ],
   "source": [
    "# create a baseline model\n",
    "telco_baseline = (y_telco_train == 0).mean()\n",
    "print('The churn baseline is:', telco_baseline)"
   ]
  },
  {
   "cell_type": "code",
   "execution_count": 95,
   "id": "797c7767",
   "metadata": {},
   "outputs": [],
   "source": [
    "# baseline model is the mode of target varible that did not churn.\n",
    "# baseline churn percentage is 73"
   ]
  },
  {
   "cell_type": "code",
   "execution_count": 96,
   "id": "206db695",
   "metadata": {},
   "outputs": [
    {
     "name": "stdout",
     "output_type": "stream",
     "text": [
      "<class 'pandas.core.frame.DataFrame'>\n",
      "Int64Index: 4225 entries, 5911 to 3586\n",
      "Data columns (total 33 columns):\n",
      " #   Column                                 Non-Null Count  Dtype  \n",
      "---  ------                                 --------------  -----  \n",
      " 0   payment_type_id                        4225 non-null   int64  \n",
      " 1   internet_service_type_id               4225 non-null   int64  \n",
      " 2   contract_type_id                       4225 non-null   int64  \n",
      " 3   senior_citizen                         4225 non-null   int64  \n",
      " 4   tenure                                 4225 non-null   int64  \n",
      " 5   monthly_charges                        4225 non-null   float64\n",
      " 6   total_charges                          4225 non-null   float64\n",
      " 7   gender_encoded                         4225 non-null   int64  \n",
      " 8   partner_encoded                        4225 non-null   int64  \n",
      " 9   dependents_encoded                     4225 non-null   int64  \n",
      " 10  phone_service_encoded                  4225 non-null   int64  \n",
      " 11  paperless_billing_encoded              4225 non-null   int64  \n",
      " 12  multiple_lines_No phone service        4225 non-null   uint8  \n",
      " 13  multiple_lines_Yes                     4225 non-null   uint8  \n",
      " 14  online_security_No internet service    4225 non-null   uint8  \n",
      " 15  online_security_Yes                    4225 non-null   uint8  \n",
      " 16  online_backup_No internet service      4225 non-null   uint8  \n",
      " 17  online_backup_Yes                      4225 non-null   uint8  \n",
      " 18  device_protection_No internet service  4225 non-null   uint8  \n",
      " 19  device_protection_Yes                  4225 non-null   uint8  \n",
      " 20  tech_support_No internet service       4225 non-null   uint8  \n",
      " 21  tech_support_Yes                       4225 non-null   uint8  \n",
      " 22  streaming_tv_No internet service       4225 non-null   uint8  \n",
      " 23  streaming_tv_Yes                       4225 non-null   uint8  \n",
      " 24  streaming_movies_No internet service   4225 non-null   uint8  \n",
      " 25  streaming_movies_Yes                   4225 non-null   uint8  \n",
      " 26  contract_type_One year                 4225 non-null   uint8  \n",
      " 27  contract_type_Two year                 4225 non-null   uint8  \n",
      " 28  internet_service_type_Fiber optic      4225 non-null   uint8  \n",
      " 29  internet_service_type_None             4225 non-null   uint8  \n",
      " 30  payment_type_Credit card (automatic)   4225 non-null   uint8  \n",
      " 31  payment_type_Electronic check          4225 non-null   uint8  \n",
      " 32  payment_type_Mailed check              4225 non-null   uint8  \n",
      "dtypes: float64(2), int64(10), uint8(21)\n",
      "memory usage: 515.7 KB\n"
     ]
    }
   ],
   "source": [
    "X_telco_train.info()"
   ]
  },
  {
   "cell_type": "markdown",
   "id": "fab636b8",
   "metadata": {},
   "source": [
    "### (I) Using Decision Tree"
   ]
  },
  {
   "cell_type": "markdown",
   "id": "99c782e1",
   "metadata": {},
   "source": [
    "###  I made predictions on the training sample to fit decision tree classifier using decion tree model"
   ]
  },
  {
   "cell_type": "code",
   "execution_count": 97,
   "id": "45dc96b5",
   "metadata": {},
   "outputs": [
    {
     "name": "stdout",
     "output_type": "stream",
     "text": [
      "training score: 73.47%\n",
      "validate score: 73.46%\n"
     ]
    }
   ],
   "source": [
    "# make the thing\n",
    "model1 = DecisionTreeClassifier(max_depth=1)\n",
    "# fit the thing\n",
    "model1.fit(X_telco_train, y_telco_train)\n",
    "# use the thing\n",
    "print(f'training score: {model1.score(X_telco_train, y_telco_train):.2%}')\n",
    "print(f'validate score: {model1.score(X_telco_validate, y_telco_validate):.2%}')"
   ]
  },
  {
   "cell_type": "code",
   "execution_count": 98,
   "id": "e6cd2684",
   "metadata": {},
   "outputs": [
    {
     "data": {
      "image/png": "[encoded data removed]",
      "text/plain": [
       "<Figure size 1080x360 with 1 Axes>"
      ]
     },
     "metadata": {
      "needs_background": "light"
     },
     "output_type": "display_data"
    }
   ],
   "source": [
    "import matplotlib.pyplot as plt\n",
    "plt.figure(figsize=(15,5))\n",
    "plot_tree(model1, feature_names=X_telco_train.columns.to_list(), class_names=['churn_encoded']);"
   ]
  },
  {
   "cell_type": "code",
   "execution_count": 99,
   "id": "3173050d",
   "metadata": {},
   "outputs": [],
   "source": [
    "# for classification you can change the algorithm to gini or entropy (information gain).  \n",
    "# Default is gini.\n",
    "\n",
    "clf = DecisionTreeClassifier(max_depth=1, random_state=123)\n"
   ]
  },
  {
   "cell_type": "code",
   "execution_count": 100,
   "id": "4c64b8b8",
   "metadata": {},
   "outputs": [],
   "source": [
    "# model1.fit(X, y)\n",
    "\n",
    "clf = clf.fit(X_telco_train, y_telco_train)\n"
   ]
  },
  {
   "cell_type": "code",
   "execution_count": 101,
   "id": "08742a2f",
   "metadata": {},
   "outputs": [
    {
     "data": {
      "text/plain": [
       "array([0, 0, 0, 0, 0])"
      ]
     },
     "execution_count": 101,
     "metadata": {},
     "output_type": "execute_result"
    }
   ],
   "source": [
    "# make prediction on train obeservations\n",
    "\n",
    "y_telco_pred = clf.predict(X_telco_train)\n",
    "y_telco_pred[0:5]\n"
   ]
  },
  {
   "cell_type": "code",
   "execution_count": 102,
   "id": "8b81094c",
   "metadata": {},
   "outputs": [
    {
     "name": "stdout",
     "output_type": "stream",
     "text": [
      "              precision    recall  f1-score   support\n",
      "\n",
      "           0       0.73      1.00      0.85      3104\n",
      "           1       0.00      0.00      0.00      1121\n",
      "\n",
      "    accuracy                           0.73      4225\n",
      "   macro avg       0.37      0.50      0.42      4225\n",
      "weighted avg       0.54      0.73      0.62      4225\n",
      "\n"
     ]
    }
   ],
   "source": [
    "print(classification_report(y_telco_train, y_telco_pred))\n"
   ]
  },
  {
   "cell_type": "markdown",
   "id": "3ac7afa9",
   "metadata": {},
   "source": [
    "### 3.Evaluate your in-sample results using the model score, confusion matrix, and classification report."
   ]
  },
  {
   "cell_type": "code",
   "execution_count": 103,
   "id": "e36ad921",
   "metadata": {},
   "outputs": [
    {
     "data": {
      "text/plain": [
       "0.7345635202271115"
      ]
     },
     "execution_count": 103,
     "metadata": {},
     "output_type": "execute_result"
    }
   ],
   "source": [
    "#model1 score\n",
    "model1.score(X_telco_validate,y_telco_validate)"
   ]
  },
  {
   "cell_type": "code",
   "execution_count": 104,
   "id": "539af3b6",
   "metadata": {},
   "outputs": [
    {
     "name": "stdout",
     "output_type": "stream",
     "text": [
      "              precision    recall  f1-score   support\n",
      "\n",
      "           0       0.73      1.00      0.85      3104\n",
      "           1       0.00      0.00      0.00      1121\n",
      "\n",
      "    accuracy                           0.73      4225\n",
      "   macro avg       0.37      0.50      0.42      4225\n",
      "weighted avg       0.54      0.73      0.62      4225\n",
      "\n"
     ]
    }
   ],
   "source": [
    "#classification report\n",
    "print(classification_report(y_telco_train, y_telco_pred))"
   ]
  },
  {
   "cell_type": "markdown",
   "id": "3a43742c",
   "metadata": {},
   "source": [
    "### 4. Compute: Accuracy, true positive rate, false positive rate, true negative rate, false negative rate, precision, recall, f1-score, and support."
   ]
  },
  {
   "cell_type": "code",
   "execution_count": 105,
   "id": "b4dc9c7b",
   "metadata": {},
   "outputs": [
    {
     "data": {
      "text/plain": [
       "array([[3104,    0],\n",
       "       [1121,    0]])"
      ]
     },
     "execution_count": 105,
     "metadata": {},
     "output_type": "execute_result"
    }
   ],
   "source": [
    "# confusion matrix\n",
    "\n",
    "sklearn.metrics.confusion_matrix(y_telco_train, y_telco_pred)\n"
   ]
  },
  {
   "cell_type": "code",
   "execution_count": 106,
   "id": "d2ef4785",
   "metadata": {},
   "outputs": [
    {
     "data": {
      "text/plain": [
       "0    3104\n",
       "1    1121\n",
       "Name: churn_encoded, dtype: int64"
      ]
     },
     "execution_count": 106,
     "metadata": {},
     "output_type": "execute_result"
    }
   ],
   "source": [
    "y_telco_train.value_counts()\n"
   ]
  },
  {
   "cell_type": "code",
   "execution_count": 107,
   "id": "6354c02b",
   "metadata": {},
   "outputs": [
    {
     "data": {
      "text/html": [
       "<div>\n",
       "<style scoped>\n",
       "    .dataframe tbody tr th:only-of-type {\n",
       "        vertical-align: middle;\n",
       "    }\n",
       "\n",
       "    .dataframe tbody tr th {\n",
       "        vertical-align: top;\n",
       "    }\n",
       "\n",
       "    .dataframe thead th {\n",
       "        text-align: right;\n",
       "    }\n",
       "</style>\n",
       "<table border=\"1\" class=\"dataframe\">\n",
       "  <thead>\n",
       "    <tr style=\"text-align: right;\">\n",
       "      <th></th>\n",
       "      <th>0</th>\n",
       "      <th>1</th>\n",
       "    </tr>\n",
       "  </thead>\n",
       "  <tbody>\n",
       "    <tr>\n",
       "      <th>0</th>\n",
       "      <td>3104</td>\n",
       "      <td>0</td>\n",
       "    </tr>\n",
       "    <tr>\n",
       "      <th>1</th>\n",
       "      <td>1121</td>\n",
       "      <td>0</td>\n",
       "    </tr>\n",
       "  </tbody>\n",
       "</table>\n",
       "</div>"
      ],
      "text/plain": [
       "      0  1\n",
       "0  3104  0\n",
       "1  1121  0"
      ]
     },
     "execution_count": 107,
     "metadata": {},
     "output_type": "execute_result"
    }
   ],
   "source": [
    "import pandas as pd\n",
    "\n",
    "labels = sorted(y_telco_train.unique())\n",
    "\n",
    "df1_confused = pd.DataFrame(sklearn.metrics.confusion_matrix(y_telco_train, y_telco_pred), index=labels, columns=labels)\n",
    "df1_confused\n"
   ]
  },
  {
   "cell_type": "markdown",
   "id": "8c7f7d90",
   "metadata": {},
   "source": [
    "### 5.Run through steps 2-4 using a different max_depth value."
   ]
  },
  {
   "cell_type": "code",
   "execution_count": 108,
   "id": "e429ae03",
   "metadata": {},
   "outputs": [
    {
     "name": "stdout",
     "output_type": "stream",
     "text": [
      "training score: 78.79%\n",
      "validate score: 79.28%\n"
     ]
    }
   ],
   "source": [
    "#model2\n",
    "# make the thing\n",
    "model2 = DecisionTreeClassifier(max_depth=3)\n",
    "# fit the thing\n",
    "model2.fit(X_telco_train, y_telco_train)\n",
    "# use the thing\n",
    "print(f'training score: {model2.score(X_telco_train, y_telco_train):.2%}')\n",
    "print(f'validate score: {model2.score(X_telco_validate, y_telco_validate):.2%}')"
   ]
  },
  {
   "cell_type": "code",
   "execution_count": 109,
   "id": "0a43fe2c",
   "metadata": {},
   "outputs": [],
   "source": [
    "# model2.fit(X, y)\n",
    "\n",
    "clf = clf.fit(X_telco_train, y_telco_train)\n"
   ]
  },
  {
   "cell_type": "code",
   "execution_count": 110,
   "id": "e3b4f4a9",
   "metadata": {},
   "outputs": [
    {
     "data": {
      "text/plain": [
       "array([0, 0, 0, 0, 0])"
      ]
     },
     "execution_count": 110,
     "metadata": {},
     "output_type": "execute_result"
    }
   ],
   "source": [
    "# make prediction on train obeservations\n",
    "\n",
    "y_telco_pred = clf.predict(X_telco_train)\n",
    "y_telco_pred[0:5]\n"
   ]
  },
  {
   "cell_type": "code",
   "execution_count": 111,
   "id": "583b6a5e",
   "metadata": {},
   "outputs": [
    {
     "name": "stdout",
     "output_type": "stream",
     "text": [
      "              precision    recall  f1-score   support\n",
      "\n",
      "           0       0.73      1.00      0.85      3104\n",
      "           1       0.00      0.00      0.00      1121\n",
      "\n",
      "    accuracy                           0.73      4225\n",
      "   macro avg       0.37      0.50      0.42      4225\n",
      "weighted avg       0.54      0.73      0.62      4225\n",
      "\n"
     ]
    }
   ],
   "source": [
    "print(classification_report(y_telco_train, y_telco_pred))\n"
   ]
  },
  {
   "cell_type": "code",
   "execution_count": 112,
   "id": "58c98836",
   "metadata": {},
   "outputs": [
    {
     "data": {
      "text/plain": [
       "0.7927608232789212"
      ]
     },
     "execution_count": 112,
     "metadata": {},
     "output_type": "execute_result"
    }
   ],
   "source": [
    "#model2 score\n",
    "model2.score(X_telco_validate,y_telco_validate)"
   ]
  },
  {
   "cell_type": "code",
   "execution_count": 113,
   "id": "fae912c1",
   "metadata": {},
   "outputs": [
    {
     "data": {
      "text/plain": [
       "array([[3104,    0],\n",
       "       [1121,    0]])"
      ]
     },
     "execution_count": 113,
     "metadata": {},
     "output_type": "execute_result"
    }
   ],
   "source": [
    "# confusion matrix\n",
    "\n",
    "sklearn.metrics.confusion_matrix(y_telco_train, y_telco_pred)\n"
   ]
  },
  {
   "cell_type": "code",
   "execution_count": 114,
   "id": "68ac3563",
   "metadata": {},
   "outputs": [
    {
     "data": {
      "text/plain": [
       "0    3104\n",
       "1    1121\n",
       "Name: churn_encoded, dtype: int64"
      ]
     },
     "execution_count": 114,
     "metadata": {},
     "output_type": "execute_result"
    }
   ],
   "source": [
    "y_telco_train.value_counts()\n"
   ]
  },
  {
   "cell_type": "markdown",
   "id": "31477038",
   "metadata": {},
   "source": [
    "### 6. Which model performs better on your in-sample data?"
   ]
  },
  {
   "cell_type": "code",
   "execution_count": 115,
   "id": "6e44b4d4",
   "metadata": {},
   "outputs": [
    {
     "data": {
      "text/plain": [
       "0.7346745562130178"
      ]
     },
     "execution_count": 115,
     "metadata": {},
     "output_type": "execute_result"
    }
   ],
   "source": [
    "# make a new column in y_preds\n",
    "y_titanic_pred = clf.predict(X_telco_train)\n",
    "clf.score(X_telco_train, y_telco_train)"
   ]
  },
  {
   "cell_type": "code",
   "execution_count": 116,
   "id": "eea3334a",
   "metadata": {},
   "outputs": [],
   "source": [
    "# loop it!\n",
    "models = []\n",
    "model_scores = []\n",
    "for i in range(2,8):\n",
    "    model = DecisionTreeClassifier(max_depth=i)\n",
    "    model.fit(X_telco_train, y_telco_train)\n",
    "    models.append(model)\n",
    "    model_scores.append(model.score(X_telco_train, y_telco_train))"
   ]
  },
  {
   "cell_type": "markdown",
   "id": "2cba7ca9",
   "metadata": {},
   "source": [
    "### (II) Using Random Forest"
   ]
  },
  {
   "cell_type": "code",
   "execution_count": 117,
   "id": "f638a14b",
   "metadata": {},
   "outputs": [],
   "source": [
    "# make the thing \n",
    "rf = RandomForestClassifier(min_samples_leaf = 1, max_depth = 10)"
   ]
  },
  {
   "cell_type": "code",
   "execution_count": 118,
   "id": "648a493d",
   "metadata": {},
   "outputs": [
    {
     "data": {
      "text/plain": [
       "RandomForestClassifier(max_depth=10)"
      ]
     },
     "execution_count": 118,
     "metadata": {},
     "output_type": "execute_result"
    }
   ],
   "source": [
    "# fit the thing\n",
    "rf.fit(X_telco_train, y_telco_train)"
   ]
  },
  {
   "cell_type": "code",
   "execution_count": 119,
   "id": "9a447cc3",
   "metadata": {},
   "outputs": [],
   "source": [
    "# use the thing\n",
    "y_pred = rf.predict(X_telco_train)"
   ]
  },
  {
   "cell_type": "code",
   "execution_count": 120,
   "id": "baa322d9",
   "metadata": {},
   "outputs": [
    {
     "data": {
      "text/plain": [
       "array([0, 0, 1, ..., 1, 0, 0])"
      ]
     },
     "execution_count": 120,
     "metadata": {},
     "output_type": "execute_result"
    }
   ],
   "source": [
    "y_pred"
   ]
  },
  {
   "cell_type": "code",
   "execution_count": 121,
   "id": "a984e6cf",
   "metadata": {},
   "outputs": [
    {
     "name": "stdout",
     "output_type": "stream",
     "text": [
      "              precision    recall  f1-score   support\n",
      "\n",
      "           0       0.90      0.95      0.92      3104\n",
      "           1       0.83      0.69      0.75      1121\n",
      "\n",
      "    accuracy                           0.88      4225\n",
      "   macro avg       0.86      0.82      0.84      4225\n",
      "weighted avg       0.88      0.88      0.88      4225\n",
      "\n"
     ]
    }
   ],
   "source": [
    "#model evaluation\n",
    "print(classification_report(y_telco_train, rf.predict(X_telco_train)))"
   ]
  },
  {
   "cell_type": "code",
   "execution_count": 122,
   "id": "a9c0c6e3",
   "metadata": {},
   "outputs": [
    {
     "name": "stdout",
     "output_type": "stream",
     "text": [
      "Accuracy of random forest classifier on training set: 0.88\n"
     ]
    }
   ],
   "source": [
    "#evaluate\n",
    "print('Accuracy of random forest classifier on training set: {:.2f}'\n",
    "     .format(rf.score(X_telco_train, y_telco_train)))"
   ]
  },
  {
   "cell_type": "code",
   "execution_count": 123,
   "id": "1d3dacfb",
   "metadata": {},
   "outputs": [
    {
     "data": {
      "text/plain": [
       "4225"
      ]
     },
     "execution_count": 123,
     "metadata": {},
     "output_type": "execute_result"
    }
   ],
   "source": [
    "y_telco_pred.size"
   ]
  },
  {
   "cell_type": "code",
   "execution_count": 124,
   "id": "9b01d1f8",
   "metadata": {},
   "outputs": [
    {
     "data": {
      "text/plain": [
       "4225"
      ]
     },
     "execution_count": 124,
     "metadata": {},
     "output_type": "execute_result"
    }
   ],
   "source": [
    "y_telco_train.size"
   ]
  },
  {
   "cell_type": "code",
   "execution_count": 125,
   "id": "ce20601a",
   "metadata": {},
   "outputs": [
    {
     "data": {
      "text/plain": [
       "array([[2939,  165],\n",
       "       [ 343,  778]])"
      ]
     },
     "execution_count": 125,
     "metadata": {},
     "output_type": "execute_result"
    }
   ],
   "source": [
    "#create a confusion matrix\n",
    "cm = confusion_matrix(y_telco_train, y_pred)\n",
    "cm"
   ]
  },
  {
   "cell_type": "code",
   "execution_count": 126,
   "id": "969057bb",
   "metadata": {},
   "outputs": [
    {
     "data": {
      "image/png": "[encoded data removed]",
      "text/plain": [
       "<Figure size 576x432 with 2 Axes>"
      ]
     },
     "metadata": {
      "needs_background": "light"
     },
     "output_type": "display_data"
    }
   ],
   "source": [
    "#create a confusion matrix\n",
    "disp = ConfusionMatrixDisplay(confusion_matrix=cm, display_labels=rf.classes_)\n",
    "\n",
    "disp.plot()\n",
    "plt.show()"
   ]
  },
  {
   "cell_type": "code",
   "execution_count": 127,
   "id": "d74dfda6",
   "metadata": {},
   "outputs": [
    {
     "data": {
      "text/html": [
       "<div>\n",
       "<style scoped>\n",
       "    .dataframe tbody tr th:only-of-type {\n",
       "        vertical-align: middle;\n",
       "    }\n",
       "\n",
       "    .dataframe tbody tr th {\n",
       "        vertical-align: top;\n",
       "    }\n",
       "\n",
       "    .dataframe thead th {\n",
       "        text-align: right;\n",
       "    }\n",
       "</style>\n",
       "<table border=\"1\" class=\"dataframe\">\n",
       "  <thead>\n",
       "    <tr style=\"text-align: right;\">\n",
       "      <th></th>\n",
       "      <th>0</th>\n",
       "      <th>1</th>\n",
       "      <th>accuracy</th>\n",
       "      <th>macro avg</th>\n",
       "      <th>weighted avg</th>\n",
       "    </tr>\n",
       "  </thead>\n",
       "  <tbody>\n",
       "    <tr>\n",
       "      <th>precision</th>\n",
       "      <td>0.895491</td>\n",
       "      <td>0.825027</td>\n",
       "      <td>0.879763</td>\n",
       "      <td>0.860259</td>\n",
       "      <td>0.876795</td>\n",
       "    </tr>\n",
       "    <tr>\n",
       "      <th>recall</th>\n",
       "      <td>0.946843</td>\n",
       "      <td>0.694023</td>\n",
       "      <td>0.879763</td>\n",
       "      <td>0.820433</td>\n",
       "      <td>0.879763</td>\n",
       "    </tr>\n",
       "    <tr>\n",
       "      <th>f1-score</th>\n",
       "      <td>0.920451</td>\n",
       "      <td>0.753876</td>\n",
       "      <td>0.879763</td>\n",
       "      <td>0.837163</td>\n",
       "      <td>0.876254</td>\n",
       "    </tr>\n",
       "    <tr>\n",
       "      <th>support</th>\n",
       "      <td>3104.000000</td>\n",
       "      <td>1121.000000</td>\n",
       "      <td>0.879763</td>\n",
       "      <td>4225.000000</td>\n",
       "      <td>4225.000000</td>\n",
       "    </tr>\n",
       "  </tbody>\n",
       "</table>\n",
       "</div>"
      ],
      "text/plain": [
       "                     0            1  accuracy    macro avg  weighted avg\n",
       "precision     0.895491     0.825027  0.879763     0.860259      0.876795\n",
       "recall        0.946843     0.694023  0.879763     0.820433      0.879763\n",
       "f1-score      0.920451     0.753876  0.879763     0.837163      0.876254\n",
       "support    3104.000000  1121.000000  0.879763  4225.000000   4225.000000"
      ]
     },
     "execution_count": 127,
     "metadata": {},
     "output_type": "execute_result"
    }
   ],
   "source": [
    "#classification report\n",
    "pd.DataFrame(classification_report(y_telco_train,y_pred,output_dict= True))"
   ]
  },
  {
   "cell_type": "code",
   "execution_count": 128,
   "id": "12ec27fc",
   "metadata": {},
   "outputs": [
    {
     "data": {
      "text/plain": [
       "0.8797633136094675"
      ]
     },
     "execution_count": 128,
     "metadata": {},
     "output_type": "execute_result"
    }
   ],
   "source": [
    "#create classification report\n",
    "rf.score(X_telco_train, y_telco_train)"
   ]
  },
  {
   "cell_type": "code",
   "execution_count": 129,
   "id": "ef0abe15",
   "metadata": {},
   "outputs": [
    {
     "data": {
      "text/plain": [
       "(778, 2939, 165, 343)"
      ]
     },
     "execution_count": 129,
     "metadata": {},
     "output_type": "execute_result"
    }
   ],
   "source": [
    "# We can create our own classification report with a bit more info\n",
    "TN, FP, FN, TP = confusion_matrix(y_telco_train,y_pred).ravel()\n",
    "ALL = TP + TN + FP + FN\n",
    "\n",
    "TP, TN, FP, FN"
   ]
  },
  {
   "cell_type": "code",
   "execution_count": null,
   "id": "a0efa30e",
   "metadata": {},
   "outputs": [],
   "source": []
  },
  {
   "cell_type": "markdown",
   "id": "a5edda78",
   "metadata": {},
   "source": [
    "### (III) Using KNN"
   ]
  },
  {
   "cell_type": "code",
   "execution_count": 130,
   "id": "7e82235c",
   "metadata": {},
   "outputs": [],
   "source": [
    "# make the thing (default value k5)\n",
    "knn1 = KNeighborsClassifier()"
   ]
  },
  {
   "cell_type": "code",
   "execution_count": 131,
   "id": "cd9180f6",
   "metadata": {},
   "outputs": [
    {
     "data": {
      "text/plain": [
       "KNeighborsClassifier()"
      ]
     },
     "execution_count": 131,
     "metadata": {},
     "output_type": "execute_result"
    }
   ],
   "source": [
    "# fit the thing\n",
    "knn1.fit(X_telco_train, y_telco_train)"
   ]
  },
  {
   "cell_type": "code",
   "execution_count": 132,
   "id": "0be53cc7",
   "metadata": {},
   "outputs": [],
   "source": [
    "# use the thing\n",
    "y_pred = knn1.predict(X_telco_train)"
   ]
  },
  {
   "cell_type": "code",
   "execution_count": 133,
   "id": "618d517c",
   "metadata": {},
   "outputs": [
    {
     "data": {
      "text/plain": [
       "array([0, 0, 1, ..., 0, 0, 0])"
      ]
     },
     "execution_count": 133,
     "metadata": {},
     "output_type": "execute_result"
    }
   ],
   "source": [
    "y_pred"
   ]
  },
  {
   "cell_type": "code",
   "execution_count": 134,
   "id": "c131c83f",
   "metadata": {},
   "outputs": [
    {
     "name": "stdout",
     "output_type": "stream",
     "text": [
      "              precision    recall  f1-score   support\n",
      "\n",
      "           0       0.86      0.92      0.89      3104\n",
      "           1       0.73      0.59      0.65      1121\n",
      "\n",
      "    accuracy                           0.83      4225\n",
      "   macro avg       0.80      0.76      0.77      4225\n",
      "weighted avg       0.83      0.83      0.83      4225\n",
      "\n"
     ]
    }
   ],
   "source": [
    "#model evaluation\n",
    "print(classification_report(y_telco_train, knn1.predict(X_telco_train)))"
   ]
  },
  {
   "cell_type": "code",
   "execution_count": 135,
   "id": "8a52ef87",
   "metadata": {},
   "outputs": [
    {
     "data": {
      "text/plain": [
       "array([[2860,  244],\n",
       "       [ 461,  660]])"
      ]
     },
     "execution_count": 135,
     "metadata": {},
     "output_type": "execute_result"
    }
   ],
   "source": [
    "#create a confusion matrix\n",
    "cm = confusion_matrix(y_telco_train, y_pred)\n",
    "cm"
   ]
  },
  {
   "cell_type": "code",
   "execution_count": 136,
   "id": "83d35461",
   "metadata": {},
   "outputs": [
    {
     "data": {
      "image/png": "[encoded data removed]",
      "text/plain": [
       "<Figure size 576x432 with 2 Axes>"
      ]
     },
     "metadata": {
      "needs_background": "light"
     },
     "output_type": "display_data"
    }
   ],
   "source": [
    "#create a confusion matrix\n",
    "disp = ConfusionMatrixDisplay(confusion_matrix=cm, display_labels=knn1.classes_)\n",
    "\n",
    "disp.plot()\n",
    "plt.show()"
   ]
  },
  {
   "cell_type": "code",
   "execution_count": 137,
   "id": "822fe0dd",
   "metadata": {},
   "outputs": [
    {
     "data": {
      "text/html": [
       "<div>\n",
       "<style scoped>\n",
       "    .dataframe tbody tr th:only-of-type {\n",
       "        vertical-align: middle;\n",
       "    }\n",
       "\n",
       "    .dataframe tbody tr th {\n",
       "        vertical-align: top;\n",
       "    }\n",
       "\n",
       "    .dataframe thead th {\n",
       "        text-align: right;\n",
       "    }\n",
       "</style>\n",
       "<table border=\"1\" class=\"dataframe\">\n",
       "  <thead>\n",
       "    <tr style=\"text-align: right;\">\n",
       "      <th></th>\n",
       "      <th>0</th>\n",
       "      <th>1</th>\n",
       "      <th>accuracy</th>\n",
       "      <th>macro avg</th>\n",
       "      <th>weighted avg</th>\n",
       "    </tr>\n",
       "  </thead>\n",
       "  <tbody>\n",
       "    <tr>\n",
       "      <th>precision</th>\n",
       "      <td>0.861186</td>\n",
       "      <td>0.730088</td>\n",
       "      <td>0.833136</td>\n",
       "      <td>0.795637</td>\n",
       "      <td>0.826403</td>\n",
       "    </tr>\n",
       "    <tr>\n",
       "      <th>recall</th>\n",
       "      <td>0.921392</td>\n",
       "      <td>0.588760</td>\n",
       "      <td>0.833136</td>\n",
       "      <td>0.755076</td>\n",
       "      <td>0.833136</td>\n",
       "    </tr>\n",
       "    <tr>\n",
       "      <th>f1-score</th>\n",
       "      <td>0.890272</td>\n",
       "      <td>0.651852</td>\n",
       "      <td>0.833136</td>\n",
       "      <td>0.771062</td>\n",
       "      <td>0.827013</td>\n",
       "    </tr>\n",
       "    <tr>\n",
       "      <th>support</th>\n",
       "      <td>3104.000000</td>\n",
       "      <td>1121.000000</td>\n",
       "      <td>0.833136</td>\n",
       "      <td>4225.000000</td>\n",
       "      <td>4225.000000</td>\n",
       "    </tr>\n",
       "  </tbody>\n",
       "</table>\n",
       "</div>"
      ],
      "text/plain": [
       "                     0            1  accuracy    macro avg  weighted avg\n",
       "precision     0.861186     0.730088  0.833136     0.795637      0.826403\n",
       "recall        0.921392     0.588760  0.833136     0.755076      0.833136\n",
       "f1-score      0.890272     0.651852  0.833136     0.771062      0.827013\n",
       "support    3104.000000  1121.000000  0.833136  4225.000000   4225.000000"
      ]
     },
     "execution_count": 137,
     "metadata": {},
     "output_type": "execute_result"
    }
   ],
   "source": [
    "#classification report\n",
    "pd.DataFrame(classification_report(y_telco_train,y_pred,output_dict= True))"
   ]
  },
  {
   "cell_type": "code",
   "execution_count": 138,
   "id": "8c920c0a",
   "metadata": {},
   "outputs": [
    {
     "data": {
      "text/plain": [
       "(660, 2860, 244, 461)"
      ]
     },
     "execution_count": 138,
     "metadata": {},
     "output_type": "execute_result"
    }
   ],
   "source": [
    "# We can create our own classification report with a bit more info\n",
    "TN, FP, FN, TP = confusion_matrix(y_telco_train,y_pred).ravel()\n",
    "ALL = TP + TN + FP + FN\n",
    "\n",
    "TP, TN, FP, FN"
   ]
  },
  {
   "cell_type": "markdown",
   "id": "28ea223e",
   "metadata": {},
   "source": [
    "### Data Exploration"
   ]
  },
  {
   "cell_type": "code",
   "execution_count": 175,
   "id": "1a68628e",
   "metadata": {},
   "outputs": [
    {
     "data": {
      "text/plain": [
       "(Index(['payment_type_id', 'internet_service_type_id', 'contract_type_id',\n",
       "        'senior_citizen', 'tenure', 'monthly_charges', 'total_charges',\n",
       "        'gender_encoded', 'partner_encoded', 'dependents_encoded',\n",
       "        'phone_service_encoded', 'paperless_billing_encoded', 'churn_encoded',\n",
       "        'multiple_lines_No phone service', 'multiple_lines_Yes',\n",
       "        'online_security_No internet service', 'online_security_Yes',\n",
       "        'online_backup_No internet service', 'online_backup_Yes',\n",
       "        'device_protection_No internet service', 'device_protection_Yes',\n",
       "        'tech_support_No internet service', 'tech_support_Yes',\n",
       "        'streaming_tv_No internet service', 'streaming_tv_Yes',\n",
       "        'streaming_movies_No internet service', 'streaming_movies_Yes',\n",
       "        'contract_type_One year', 'contract_type_Two year',\n",
       "        'internet_service_type_Fiber optic', 'internet_service_type_None',\n",
       "        'payment_type_Credit card (automatic)', 'payment_type_Electronic check',\n",
       "        'payment_type_Mailed check'],\n",
       "       dtype='object'),\n",
       " Index(['payment_type_id', 'internet_service_type_id', 'contract_type_id',\n",
       "        'senior_citizen', 'tenure', 'monthly_charges', 'total_charges',\n",
       "        'gender_encoded', 'partner_encoded', 'dependents_encoded',\n",
       "        'phone_service_encoded', 'paperless_billing_encoded', 'churn_encoded',\n",
       "        'multiple_lines_No phone service', 'multiple_lines_Yes',\n",
       "        'online_security_No internet service', 'online_security_Yes',\n",
       "        'online_backup_No internet service', 'online_backup_Yes',\n",
       "        'device_protection_No internet service', 'device_protection_Yes',\n",
       "        'tech_support_No internet service', 'tech_support_Yes',\n",
       "        'streaming_tv_No internet service', 'streaming_tv_Yes',\n",
       "        'streaming_movies_No internet service', 'streaming_movies_Yes',\n",
       "        'contract_type_One year', 'contract_type_Two year',\n",
       "        'internet_service_type_Fiber optic', 'internet_service_type_None',\n",
       "        'payment_type_Credit card (automatic)', 'payment_type_Electronic check',\n",
       "        'payment_type_Mailed check'],\n",
       "       dtype='object'))"
      ]
     },
     "execution_count": 175,
     "metadata": {},
     "output_type": "execute_result"
    }
   ],
   "source": [
    "telco_train.columns, telco_validate.columns\n"
   ]
  },
  {
   "cell_type": "code",
   "execution_count": 176,
   "id": "118e6077",
   "metadata": {},
   "outputs": [],
   "source": [
    "#How does senior citizen correlate to tenure?\n",
    "#How does device protection correlate to churn?\n",
    "#How does internet_service_type_id correlate to customers tenure?\n",
    "#Are customers on a month to month contract more likely to churn?\n",
    "#Do customers with high monthly charges churn more frequently?\n",
    "#Do customers with tech support churn less frequently?\n",
    "\n",
    "#Are customers who have been with Telco a longer time less likely to churn?\n",
    "\n",
    "#Are customers with automatic payment setup less likely to churn?\n",
    "#Is there a difference in churn frequency between customers with phone service and those without?\n",
    "#Is there a relationship between customers who churn and internet service type?\n",
    "#Is there a relationship between gender and customers who churn?\n",
    "\n",
    "#With this in mind we are now able to begin preparing and analyzing the data.\n"
   ]
  },
  {
   "cell_type": "code",
   "execution_count": 177,
   "id": "e0a769b7",
   "metadata": {},
   "outputs": [
    {
     "data": {
      "image/png": "[encoded data removed]",
      "text/plain": [
       "<Figure size 576x432 with 1 Axes>"
      ]
     },
     "metadata": {
      "needs_background": "light"
     },
     "output_type": "display_data"
    }
   ],
   "source": [
    "df[\"senior_citizen\"].replace({0:\"not_senior_citizen\",1:\"senior_citizen\"},inplace=True)\n",
    "df[\"churn_encoded\"].replace({0:\"NO\", 1:\"YES\"}, inplace=True)\n",
    "sns.barplot(data=df, x=df.senior_citizen,y=df.tenure,hue=df.churn_encoded)\n",
    "plt.title('How does senior citizen correlate to tenure?')\n",
    "plt.show()"
   ]
  },
  {
   "cell_type": "code",
   "execution_count": 178,
   "id": "453e959d",
   "metadata": {},
   "outputs": [],
   "source": [
    "# takeaways"
   ]
  },
  {
   "cell_type": "code",
   "execution_count": null,
   "id": "d0d7910d",
   "metadata": {},
   "outputs": [],
   "source": []
  },
  {
   "cell_type": "code",
   "execution_count": 179,
   "id": "9d643194",
   "metadata": {},
   "outputs": [
    {
     "data": {
      "text/plain": [
       "No                     3095\n",
       "Yes                    2422\n",
       "No internet service    1526\n",
       "Name: device_protection, dtype: int64"
      ]
     },
     "execution_count": 179,
     "metadata": {},
     "output_type": "execute_result"
    }
   ],
   "source": [
    "temp0 = acquire.get_telco_data()\n",
    "temp0.columns\n",
    "temp0.device_protection.value_counts()"
   ]
  },
  {
   "cell_type": "code",
   "execution_count": 180,
   "id": "0f694d2e",
   "metadata": {},
   "outputs": [
    {
     "data": {
      "image/png": "[encoded data removed]",
      "text/plain": [
       "<Figure size 576x432 with 1 Axes>"
      ]
     },
     "metadata": {
      "needs_background": "light"
     },
     "output_type": "display_data"
    }
   ],
   "source": [
    "df[\"device_protection\"] = np.where(df[\"device_protection_Yes\"] == 1, \"Yes\",\\\n",
    "                                    np.where(df[\"device_protection_No internet service\"] == 1, \"No internet service\", \\\n",
    "                                            \"No\"))\n",
    "\n",
    "df[\"churn_encoded\"].replace({0:\"NO\", 1:\"YES\"}, inplace=True)\n",
    "sns.barplot(data=df,  x=df[\"device_protection\"],y=df.tenure,hue=df.churn_encoded)\n",
    "\n",
    "df.drop(columns=[\"device_protection\"])\n",
    "\n",
    "plt.title('How does device protection correlate to churn?')\n",
    "plt.show()"
   ]
  },
  {
   "cell_type": "code",
   "execution_count": 181,
   "id": "1ea524e6",
   "metadata": {},
   "outputs": [],
   "source": [
    "#takeaways"
   ]
  },
  {
   "cell_type": "code",
   "execution_count": null,
   "id": "4d7a9a5f",
   "metadata": {},
   "outputs": [],
   "source": []
  },
  {
   "cell_type": "code",
   "execution_count": null,
   "id": "4b914d06",
   "metadata": {},
   "outputs": [],
   "source": []
  },
  {
   "cell_type": "code",
   "execution_count": 182,
   "id": "a2cdcf22",
   "metadata": {},
   "outputs": [
    {
     "data": {
      "text/plain": [
       "(Fiber optic    3096\n",
       " DSL            2421\n",
       " None           1526\n",
       " Name: internet_service_type, dtype: int64,\n",
       " 2    3096\n",
       " 1    2421\n",
       " 3    1526\n",
       " Name: internet_service_type_id, dtype: int64)"
      ]
     },
     "execution_count": 182,
     "metadata": {},
     "output_type": "execute_result"
    }
   ],
   "source": [
    "temp0 = acquire.get_telco_data()\n",
    "temp0.columns\n",
    "temp0['internet_service_type'].value_counts(),temp0['internet_service_type_id'].value_counts()"
   ]
  },
  {
   "cell_type": "code",
   "execution_count": 183,
   "id": "819777b5",
   "metadata": {},
   "outputs": [
    {
     "data": {
      "image/png": "[encoded data removed]",
      "text/plain": [
       "<Figure size 576x432 with 1 Axes>"
      ]
     },
     "metadata": {
      "needs_background": "light"
     },
     "output_type": "display_data"
    }
   ],
   "source": [
    "\n",
    "# 1= DSL, 2=Fiber Optic, 3= NONE\n",
    "\n",
    "df[\"internet_service_type\"] = df.contract_type_id\n",
    "df[\"internet_service_type\"].replace({3:\"NONE\",1:\"DSL\",2:\"Fiber Optic\"},inplace=True)\n",
    "df[\"churn_encoded\"].replace({0:\"NO\", 1:\"YES\"}, inplace=True)\n",
    "\n",
    "sns.barplot(data=df,  x=df.internet_service_type,y=df.tenure,hue=df.churn_encoded)\n",
    "\n",
    "df.drop(columns=[\"internet_service_type\"])\n",
    "\n",
    "plt.title('How does internet_service_type_id correlate to customers tenure?')\n",
    "plt.show()"
   ]
  },
  {
   "cell_type": "code",
   "execution_count": 184,
   "id": "1bbceb29",
   "metadata": {},
   "outputs": [],
   "source": [
    "# Takeaways"
   ]
  },
  {
   "cell_type": "code",
   "execution_count": null,
   "id": "d4fae19a",
   "metadata": {},
   "outputs": [],
   "source": []
  },
  {
   "cell_type": "code",
   "execution_count": 185,
   "id": "220db38d",
   "metadata": {},
   "outputs": [],
   "source": [
    "#sns.barplot(data=df, x=df.contract_type,y=df.tenure,hue=df.churn)\n",
    "#plt.title('How does contract type correlate to customers tenure?')\n",
    "#plt.show()"
   ]
  },
  {
   "cell_type": "code",
   "execution_count": 186,
   "id": "0f158938",
   "metadata": {},
   "outputs": [
    {
     "data": {
      "image/png": "[encoded data removed]",
      "text/plain": [
       "<Figure size 576x432 with 1 Axes>"
      ]
     },
     "metadata": {
      "needs_background": "light"
     },
     "output_type": "display_data"
    }
   ],
   "source": [
    "df[\"senior_citizen\"].replace({0:\"senior_citizen\",1:\"not_senior_citizen\"},inplace=True)\n",
    "df[\"churn_encoded\"].replace({0:\"NO\", 1:\"YES\"}, inplace=True)\n",
    "sns.barplot(data=df, x=df.senior_citizen,y=df.tenure,hue=df.churn_encoded)\n",
    "plt.title('How does senior citizen correlate to tenure?')\n",
    "plt.show()"
   ]
  },
  {
   "cell_type": "code",
   "execution_count": null,
   "id": "33c3e544",
   "metadata": {},
   "outputs": [],
   "source": []
  },
  {
   "cell_type": "code",
   "execution_count": 187,
   "id": "ebea0b3b",
   "metadata": {},
   "outputs": [
    {
     "data": {
      "image/png": "[encoded data removed]",
      "text/plain": [
       "<Figure size 576x432 with 1 Axes>"
      ]
     },
     "metadata": {
      "needs_background": "light"
     },
     "output_type": "display_data"
    }
   ],
   "source": [
    "df[\"contract_type_id\"].replace({1:\"month to month\",2:\"one year\", 3:\"two years\"},inplace=True)\n",
    "df[\"churn_encoded\"].replace({0:\"NO\", 1:\"YES\"}, inplace=True)\n",
    "sns.barplot(data=df, x=df.contract_type_id,y=df.tenure,hue=df.churn_encoded)\n",
    "plt.title('How does contract type correlate to tenure?')\n",
    "plt.show()"
   ]
  },
  {
   "cell_type": "code",
   "execution_count": 188,
   "id": "37f5a1cb",
   "metadata": {},
   "outputs": [],
   "source": [
    "#takeaways"
   ]
  },
  {
   "cell_type": "code",
   "execution_count": null,
   "id": "abb562e1",
   "metadata": {},
   "outputs": [],
   "source": []
  },
  {
   "cell_type": "code",
   "execution_count": 189,
   "id": "346d6b53",
   "metadata": {},
   "outputs": [
    {
     "data": {
      "image/png": "[encoded data removed]",
      "text/plain": [
       "<Figure size 576x432 with 1 Axes>"
      ]
     },
     "metadata": {
      "needs_background": "light"
     },
     "output_type": "display_data"
    }
   ],
   "source": [
    "df[\"dependents_encoded\"].replace({0:\"no_dependents\",1:\"with_dependents\"},inplace=True)\n",
    "df[\"churn_encoded\"].replace({0:\"NO\", 1:\"YES\"}, inplace=True)\n",
    "sns.barplot(data=df, x=df.dependents_encoded,y=df.tenure,hue=df.churn_encoded)\n",
    "plt.title('How does dependents correlate to tenure?')\n",
    "plt.show()"
   ]
  },
  {
   "cell_type": "code",
   "execution_count": null,
   "id": "7f1459c4",
   "metadata": {},
   "outputs": [],
   "source": []
  },
  {
   "cell_type": "code",
   "execution_count": 191,
   "id": "98eb8b9f",
   "metadata": {},
   "outputs": [
    {
     "data": {
      "image/png": "[encoded data removed]",
      "text/plain": [
       "<Figure size 576x432 with 1 Axes>"
      ]
     },
     "metadata": {
      "needs_background": "light"
     },
     "output_type": "display_data"
    }
   ],
   "source": [
    "df[\"tech_support_Yes\"].replace({0:\"no_tech_support\",1:\"with_tech_support\"},inplace=True)\n",
    "df[\"churn_encoded\"].replace({0:\"NO\", 1:\"YES\"}, inplace=True)\n",
    "sns.barplot(data=df, x=df.tech_support_Yes,y=df.tenure,hue=df.churn_encoded)\n",
    "plt.title('How does customers with tech support correlate to tenure?')\n",
    "plt.show()"
   ]
  },
  {
   "cell_type": "code",
   "execution_count": null,
   "id": "1f0e9223",
   "metadata": {},
   "outputs": [],
   "source": []
  },
  {
   "cell_type": "code",
   "execution_count": null,
   "id": "76a9eb34",
   "metadata": {},
   "outputs": [],
   "source": []
  },
  {
   "cell_type": "code",
   "execution_count": 194,
   "id": "764e320d",
   "metadata": {},
   "outputs": [
    {
     "data": {
      "image/png": "[encoded data removed]",
      "text/plain": [
       "<Figure size 576x432 with 1 Axes>"
      ]
     },
     "metadata": {
      "needs_background": "light"
     },
     "output_type": "display_data"
    }
   ],
   "source": [
    "df[\"internet_service_type_None\"].replace({0:\"no_internet_service_type\",1:\"with_internet_service_type\"},inplace=True)\n",
    "df[\"churn_encoded\"].replace({0:\"NO\", 1:\"YES\"}, inplace=True)\n",
    "sns.barplot(data=df, x=df.internet_service_type_None,y=df.tenure,hue=df.churn_encoded)\n",
    "plt.title('How does internet_service_type correlate to churn?')\n",
    "plt.show()"
   ]
  },
  {
   "cell_type": "code",
   "execution_count": null,
   "id": "2b3ab9ac",
   "metadata": {},
   "outputs": [],
   "source": []
  },
  {
   "cell_type": "code",
   "execution_count": 202,
   "id": "3c846c82",
   "metadata": {},
   "outputs": [
    {
     "data": {
      "image/png": "[encoded data removed]",
      "text/plain": [
       "<Figure size 576x432 with 1 Axes>"
      ]
     },
     "metadata": {
      "needs_background": "light"
     },
     "output_type": "display_data"
    }
   ],
   "source": [
    "#df[\"internet_service_type_None\"].replace({0:\"no_internet_service_type\",1:\"with_internet_service_type\"},inplace=True)\n",
    "df[\"churn_encoded\"].replace({0:\"NO\", 1:\"YES\"}, inplace=True)\n",
    "sns.histplot(data=df, x=df.monthly_charges,hue=df.churn_encoded)\n",
    "plt.title('How does internet_service_type correlate to churn?')\n",
    "plt.show()"
   ]
  },
  {
   "cell_type": "code",
   "execution_count": null,
   "id": "44ed2f45",
   "metadata": {},
   "outputs": [],
   "source": []
  },
  {
   "cell_type": "code",
   "execution_count": null,
   "id": "e2a7a433",
   "metadata": {},
   "outputs": [],
   "source": []
  },
  {
   "cell_type": "code",
   "execution_count": null,
   "id": "853fc1a4",
   "metadata": {},
   "outputs": [],
   "source": []
  },
  {
   "cell_type": "markdown",
   "id": "3c15e3df",
   "metadata": {},
   "source": [
    "## Telco Churn Classification Project\n",
    "\n",
    "\n",
    "<hr style=\"border-top: 50px groove blueviolet; margin-top: 1px; margin-bottom: 1px\"></hr>\n",
    "\n",
    "### Project Summary\n",
    "<hr style=\"border-top: 50px groove blueviolet; margin-top: 1px; margin-bottom: 1px\"></hr>\n",
    "\n",
    "#### Project Objectives\n",
    "> - Document code, process (data acquistion, preparation, exploratory data analysis and statistical testing, modeling, and model evaluation), findings, and key takeaways in a Jupyter Notebook report.\n",
    "> - Create modules (acquire.py, prepare.py) that make your process repeateable.\n",
    "> - Construct a model to predict customer churn using classification techniques.\n",
    "> - Deliver a 5 minute presentation consisting of a high-level notebook walkthrough using your Jupyter Notebook from above; your presentation should be appropriate for your target audience.\n",
    "> - Answer panel questions about your code, process, findings and key takeaways, and model.\n",
    "\n",
    "#### Business Goals\n",
    "> - Construct a ML classification model that accurately predicts Iris species.\n",
    "> - Document your process well enough to be presented or read like a report.\n",
    "\n",
    "#### Audience\n",
    "> - Codeup Data Science students\n",
    "\n",
    "#### Project Deliverables\n",
    "> - A final report notebook \n",
    "> - A final report notebook presentation\n",
    "> - All necessary modules to make my project reproducible\n",
    "\n",
    "#### Project Context\n",
    "> - The Iris dataset I'm using came from the Codeup database.\n",
    "> - Find out more about Fisher's Iris Dataset [here](https://towardsdatascience.com/the-iris-dataset-a-little-bit-of-history-and-biology-fb4812f5a7b5).\n",
    "\n",
    "\n",
    "#### Data Dictionary\n",
    "\n",
    "|Target|Datatype|Definition|\n",
    "|:-------|:--------|:----------|\n",
    "| species | 150 non-null: object | iris species - virginica, versicolor, setosa |\n",
    "\n",
    "|Feature|Datatype|Definition|\n",
    "|:-------|:--------|:----------|\n",
    "| petal_length       | 150 non-null: float64 |    iris petal length in cm |\n",
    "| petal_width        | 150 non-null: float64 |    iris petal width in cm |\n",
    "| sepal_length       | 150 non-null: float64 |    iris sepal length in cm |\n",
    "| sepal_width        | 150 non-null: float64 |    iris sepal width in cm |\n",
    "\n",
    "\n",
    "#### Initial Hypotheses\n",
    "\n",
    "> - **Hypothesis 1 -**\n",
    "> - alpha = .05\n",
    "> - $H_0$: Sepal length is the same in virginica and versicolor. $\\mu_{virginica} == \\mu_{versicolor}$.  \n",
    "> - $H_a$: Sepal length significantly different in virginica and versicolor. $\\mu_{virginica} != \\mu_{versicolor}$. \n",
    "> - Outcome: I rejected the Null Hypothesis; there is a difference in sepal length between the Virginica and Vericolor Species.\n",
    "\n",
    "> - **Hypothesis 2 -** \n",
    "> - alpha = .05\n",
    "> - $H_0$: Sepal width is the same in virginica and versicolor. $\\mu_{virginica} == \\mu_{versicolor}$.  \n",
    "> - $H_a$: Sepal width significantly different in virginica and versicolor. $\\mu_{virginica} != \\mu_{versicolor}$. \n",
    "> - Outcome: I rejected the Null Hypothesis; there is a difference in sepal width between the Virginica and Versicolor Species.\n",
    "\n",
    "<hr style=\"border-top: 10px groove blueviolet; margin-top: 1px; margin-bottom: 1px\"></hr>\n",
    "\n",
    "### Executive Summary - Conclusions & Next Steps\n",
    "<hr style=\"border-top: 10px groove blueviolet; margin-top: 1px; margin-bottom: 1px\"></hr>\n",
    "\n",
    "> - I found that all of the classification models I created, LogisticRegression, DecisionTree, RandomForest, and KNeighbors predicted the species of Iris equally well using the features `sepal_width`, `sepal_length`, `petal_length`, `petal_width`.\n",
    "> - I chose my DecisionTree model as my best model with a 90% accuracy rate for predicting my target value, species. This model outperformed my baseline score of 33% accuracy, so it has value.\n",
    "> - Some initial exploration and statistical testing revealed that engineering some new features like petal area or sepal area might help my models predict with even more accuracy, and with more time, I would like to test this hypothesis.\n",
    "\n",
    "<hr style=\"border-top: 10px groove blueviolet; margin-top: 1px; margin-bottom: 1px\"></hr>\n",
    "\n",
    "### Pipeline Stages Breakdown\n",
    "\n",
    "<hr style=\"border-top: 10px groove blueviolet; margin-top: 1px; margin-bottom: 1px\"></hr>\n",
    "\n",
    "##### Plan\n",
    "- [x] Create README.md with data dictionary, project and business goals, come up with initial hypotheses.\n",
    "- [x] Acquire data from the Codeup Database and create a function to automate this process. Save the function in an acquire.py file to import into the Final Report Notebook.\n",
    "- [x] Clean and prepare data for the first iteration through the pipeline, MVP preparation. Create a function to automate the process, store the function in a prepare.py module, and prepare data in Final Report Notebook by importing and using the funtion.\n",
    "- [x]  Clearly define two hypotheses, set an alpha, run the statistical tests needed, reject or fail to reject the Null Hypothesis, and document findings and takeaways.\n",
    "- [x] Establish a baseline accuracy and document well.\n",
    "- [x] Train three different classification models.\n",
    "- [x] Evaluate models on train and validate datasets.\n",
    "- [x] Choose the model with that performs the best and evaluate that single model on the test dataset.\n",
    "- [x] Create csv file with the measurement id, the probability of the target values, and the model's prediction for each observation in my test dataset.\n",
    "- [x] Document conclusions, takeaways, and next steps in the Final Report Notebook.\n",
    "\n",
    "___\n",
    "\n",
    "##### Plan -> Acquire\n",
    "> - Store functions that are needed to acquire data from the measures and species tables from the iris database on the Codeup data science database server; make sure the acquire.py module contains the necessary imports to run my code.\n",
    "> - The final function will return a pandas DataFrame.\n",
    "> - Import the acquire function from the acquire.py module and use it to acquire the data in the Final Report Notebook.\n",
    "> - Complete some initial data summarization (`.info()`, `.describe()`, `.value_counts()`, ...).\n",
    "> - Plot distributions of individual variables.\n",
    "___\n",
    "\n",
    "##### Plan -> Acquire -> Prepare\n",
    "> - Store functions needed to prepare the iris data; make sure the module contains the necessary imports to run the code. The final function should do the following:\n",
    "    - Split the data into train/validate/test.\n",
    "    - Handle any missing values.\n",
    "    - Handle erroneous data and/or outliers that need addressing.\n",
    "    - Encode variables as needed.\n",
    "    - Create any new features, if made for this project.\n",
    "> - Import the prepare function from the prepare.py module and use it to prepare the data in the Final Report Notebook.\n",
    "___\n",
    "\n",
    "##### Plan -> Acquire -> Prepare -> Explore\n",
    "> - Answer key questions, my hypotheses, and figure out the features that can be used in a classification model to best predict the target variable, species. \n",
    "> - Run at least 2 statistical tests in data exploration. Document my hypotheses, set an alpha before running the tests, and document the findings well.\n",
    "> - Create visualizations and run statistical tests that work toward discovering variable relationships (independent with independent and independent with dependent). The goal is to identify features that are related to species (the target), identify any data integrity issues, and understand 'how the data works'. If there appears to be some sort of interaction or correlation, assume there is no causal relationship and brainstorm (and document) ideas on reasons there could be correlation.\n",
    "> - Summarize my conclusions, provide clear answers to my specific questions, and summarize any takeaways/action plan from the work above.\n",
    "___\n",
    "\n",
    "##### Plan -> Acquire -> Prepare -> Explore -> Model\n",
    "> - Establish a baseline accuracy to determine if having a model is better than no model and train and compare at least 3 different models. Document these steps well.\n",
    "> - Train (fit, transform, evaluate) multiple models, varying the algorithm and/or hyperparameters you use.\n",
    "> - Compare evaluation metrics across all the models you train and select the ones you want to evaluate using your validate dataframe.\n",
    "> - Feature Selection (after initial iteration through pipeline): Are there any variables that seem to provide limited to no additional information? If so, remove them.\n",
    "> - Based on the evaluation of the models using the train and validate datasets, choose the best model to try with the test data, once.\n",
    "> - Test the final model on the out-of-sample data (the testing dataset), summarize the performance, interpret and document the results.\n",
    "___\n",
    "\n",
    "##### Plan -> Acquire -> Prepare -> Explore -> Model -> Deliver\n",
    "> - Introduce myself and my project goals at the very beginning of my notebook walkthrough.\n",
    "> - Summarize my findings at the beginning like I would for an Executive Summary. (Don't throw everything out that I learned from Storytelling) .\n",
    "> - Walk Codeup Data Science Team through the analysis I did to answer my questions and that lead to my findings. (Visualize relationships and Document takeaways.) \n",
    "> - Clearly call out the questions and answers I am analyzing as well as offer insights and recommendations based on my findings.\n",
    "\n",
    "<hr style=\"border-top: 10px groove blueviolet; margin-top: 1px; margin-bottom: 1px\"></hr>\n",
    "\n",
    "### Reproduce My Project\n",
    "\n",
    "<hr style=\"border-top: 10px groove blueviolet; margin-top: 1px; margin-bottom: 1px\"></hr>\n",
    "\n",
    "You will need your own env file with database credentials along with all the necessary files listed below to run my final project notebook. \n",
    "- [x] Read this README.md\n",
    "- [ ] Download the aquire.py, prepare.py, and final_report.ipynb files into your working directory\n",
    "- [ ] Add your own env file to your directory. (user, password, host)\n",
    "- [ ] Run the final_report.ipynb notebook"
   ]
  },
  {
   "cell_type": "code",
   "execution_count": null,
   "id": "d558e997",
   "metadata": {},
   "outputs": [],
   "source": []
  }
 ],
 "metadata": {
  "kernelspec": {
   "display_name": "Python 3 (ipykernel)",
   "language": "python",
   "name": "python3"
  },
  "language_info": {
   "codemirror_mode": {
    "name": "ipython",
    "version": 3
   },
   "file_extension": ".py",
   "mimetype": "text/x-python",
   "name": "python",
   "nbconvert_exporter": "python",
   "pygments_lexer": "ipython3",
   "version": "3.9.12"
  }
 },
 "nbformat": 4,
 "nbformat_minor": 5
}
